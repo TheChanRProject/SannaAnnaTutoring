{
 "cells": [
  {
   "cell_type": "markdown",
   "metadata": {},
   "source": [
    "To find the midpoint of anything, we take the first point and last point or point values and then we simply the average of the two. \n",
    "\n",
    "$$ M = \\frac{p_1 + p_2}{2} $$ "
   ]
  },
  {
   "cell_type": "code",
   "execution_count": 2,
   "metadata": {},
   "outputs": [
    {
     "name": "stdout",
     "output_type": "stream",
     "text": [
      "2.25\n"
     ]
    }
   ],
   "source": [
    "g = -2.5 \n",
    "p = 7 \n",
    "\n",
    "m = (g+p)/2 \n",
    "print(m)"
   ]
  },
  {
   "cell_type": "code",
   "execution_count": 3,
   "metadata": {},
   "outputs": [
    {
     "name": "stdout",
     "output_type": "stream",
     "text": [
      "-9.5\n"
     ]
    }
   ],
   "source": [
    "t1 = -2 \n",
    "t2 = -17\n",
    "m2 = (t1+t2)/2\n",
    "print(m2)"
   ]
  },
  {
   "cell_type": "markdown",
   "metadata": {},
   "source": [
    "For coordinates, the formula for finding the midpoint between two points is:\n",
    "\n",
    "$$ M = \\frac{(x_1 + x_2)}{2} , \\frac{(y_1 + y_2)}{2} $$ "
   ]
  },
  {
   "cell_type": "code",
   "execution_count": 6,
   "metadata": {},
   "outputs": [
    {
     "name": "stdout",
     "output_type": "stream",
     "text": [
      "(0.5, 0.5)\n",
      "(1.0, 4.0)\n"
     ]
    }
   ],
   "source": [
    "def midpoint(x1,y1,x2,y2):\n",
    "    m = (((x1+x2)/2), ((y1+y2)/2))\n",
    "    return m \n",
    "\n",
    "print(midpoint(-2,4,3,-3))\n",
    "print(midpoint(5,7,-3,1))"
   ]
  },
  {
   "cell_type": "code",
   "execution_count": 5,
   "metadata": {},
   "outputs": [
    {
     "name": "stdout",
     "output_type": "stream",
     "text": [
      "2.5\n"
     ]
    }
   ],
   "source": [
    "def midpoint2(x1,x2):\n",
    "    m = (x1+x2)/2\n",
    "    return m\n",
    "print(midpoint2(-7,12))"
   ]
  },
  {
   "cell_type": "markdown",
   "metadata": {},
   "source": [
    "The formula for calculating distance is:\n",
    "\n",
    "$$ D = \\sqrt{(x_2 - x_1)^2 + (y_2 - y_1)^2} $$ "
   ]
  },
  {
   "cell_type": "code",
   "execution_count": 9,
   "metadata": {},
   "outputs": [
    {
     "name": "stdout",
     "output_type": "stream",
     "text": [
      "7.0710678118654755\n"
     ]
    }
   ],
   "source": [
    "import math\n",
    "\n",
    "def distance(x1,y1,x2,y2):\n",
    "    d = math.sqrt(pow(x2-x1,2)+pow(y2-y1,2))\n",
    "    return d\n",
    "print(distance(-2,-3,3,2))"
   ]
  },
  {
   "cell_type": "code",
   "execution_count": 10,
   "metadata": {},
   "outputs": [
    {
     "data": {
      "text/plain": [
       "7.0710678118654755"
      ]
     },
     "execution_count": 10,
     "metadata": {},
     "output_type": "execute_result"
    }
   ],
   "source": [
    "5 * math.sqrt(2)"
   ]
  },
  {
   "cell_type": "code",
   "execution_count": 11,
   "metadata": {},
   "outputs": [
    {
     "name": "stdout",
     "output_type": "stream",
     "text": [
      "2.23606797749979\n"
     ]
    }
   ],
   "source": [
    "print(distance(-2,3,-4,2))"
   ]
  },
  {
   "cell_type": "markdown",
   "metadata": {},
   "source": [
    "To find the straight line distance of H (-2,3) and F(-4,2) we need to use the distance formula.\n",
    "\n",
    "$$ D = \\sqrt{(x_2 - x_1)^2 + (y_2 - y_1)^2} $$ \n",
    "\n",
    "The first step would be to plug in the x and y values of H and F into the equation. \n",
    "\n",
    "$$ D_{HF} = \\sqrt{(-4 - (-2))^2 + (2 - 3)^2} $$ \n",
    "\n",
    "The next step would then be to simplify the expressions inside the radical. \n",
    "\n",
    "$$ D_{HF} = \\sqrt{(-2)^2 + (-1)^2} $$ \n",
    "\n",
    "$$ D_{HF} = \\sqrt{(4 + 1)} $$ \n",
    "\n",
    "$$ D_{HF} = \\sqrt{5} $$ "
   ]
  },
  {
   "cell_type": "code",
   "execution_count": 13,
   "metadata": {},
   "outputs": [],
   "source": [
    "%matplotlib inline \n",
    "import matplotlib.pyplot as plt "
   ]
  },
  {
   "cell_type": "code",
   "execution_count": 25,
   "metadata": {},
   "outputs": [
    {
     "data": {
      "image/png": "[encoded data removed]",
      "text/plain": [
       "<matplotlib.figure.Figure at 0x10b756eb8>"
      ]
     },
     "metadata": {},
     "output_type": "display_data"
    }
   ],
   "source": [
    "g = [6,4]\n",
    "i = [3,2]\n",
    "l = [3,4]\n",
    "plt.plot(g,i)\n",
    "plt.show()"
   ]
  },
  {
   "cell_type": "markdown",
   "metadata": {},
   "source": [
    " A. To design a strategy in which the Pythagorean Theorem is used to calculate the straight line distance between points G and I on a coordinate plane is to simply create a triangle from the points I to a point that shares the same x value as I and the same y value as G which we'll call point L. And then we draw a horizontal line from point L to point G. These 3 points connected together gives us a triangle that we'll call \n",
    " $$ \\bigtriangleup ILG $$ \n",
    " \n",
    " We can see from the diagram that the triangle is a right triangle, therefore we can use Pythagorean's Theorem to get the hypotenuse which happens to be the line which connects points G and I. "
   ]
  },
  {
   "cell_type": "markdown",
   "metadata": {},
   "source": [
    "B. In order to use the Pythagorean's Theorem between the two points, we need to get the distance of I to L and L to G so we can get our two leg lengths to find the hypotenuse, IG. To do this, we can see that since the L and I and L and G share similar values in their coordinates, it is easy to find out that the value of LI is 2 and the value of LG is 3. Therefore we can set up our problem as follows: \n",
    "\n",
    "$$ 2^2 + 3^2 = c^2 $$ "
   ]
  },
  {
   "cell_type": "markdown",
   "metadata": {},
   "source": [
    "$$ 4 + 9 = c^2 $$ \n",
    "$$ 13 = c^2 $$ \n",
    "$$ c = \\sqrt{13} $$ "
   ]
  },
  {
   "cell_type": "markdown",
   "metadata": {},
   "source": [
    "C. Using the distance formula for the line that connects I to G, we can set it up as follows:\n",
    "\n",
    "$$ D = \\sqrt{(3-6)^2 + (2 -4)^2} $$ \n",
    "$$ D = \\sqrt{9 +4} $$ \n",
    "$$ D = \\sqrt{13} $$ "
   ]
  },
  {
   "cell_type": "code",
   "execution_count": 26,
   "metadata": {},
   "outputs": [
    {
     "name": "stdout",
     "output_type": "stream",
     "text": [
      "9.433981132056603\n"
     ]
    }
   ],
   "source": [
    "print(distance(-2,6,3,-2))"
   ]
  },
  {
   "cell_type": "code",
   "execution_count": 27,
   "metadata": {},
   "outputs": [
    {
     "data": {
      "text/plain": [
       "9.433981132056603"
      ]
     },
     "execution_count": 27,
     "metadata": {},
     "output_type": "execute_result"
    }
   ],
   "source": [
    "math.sqrt(89)"
   ]
  },
  {
   "cell_type": "code",
   "execution_count": 28,
   "metadata": {},
   "outputs": [
    {
     "name": "stdout",
     "output_type": "stream",
     "text": [
      "8.602325267042627\n"
     ]
    }
   ],
   "source": [
    "print(distance(-2,4,3,-3))"
   ]
  },
  {
   "cell_type": "code",
   "execution_count": 29,
   "metadata": {},
   "outputs": [
    {
     "data": {
      "text/plain": [
       "8.602325267042627"
      ]
     },
     "execution_count": 29,
     "metadata": {},
     "output_type": "execute_result"
    }
   ],
   "source": [
    "math.sqrt(74)"
   ]
  },
  {
   "cell_type": "code",
   "execution_count": 30,
   "metadata": {},
   "outputs": [
    {
     "name": "stdout",
     "output_type": "stream",
     "text": [
      "10.0\n"
     ]
    }
   ],
   "source": [
    "print(distance(5,7,-3,1))"
   ]
  },
  {
   "cell_type": "code",
   "execution_count": null,
   "metadata": {},
   "outputs": [],
   "source": []
  }
 ],
 "metadata": {
  "kernelspec": {
   "display_name": "Python 3",
   "language": "python",
   "name": "python3"
  },
  "language_info": {
   "codemirror_mode": {
    "name": "ipython",
    "version": 3
   },
   "file_extension": ".py",
   "mimetype": "text/x-python",
   "name": "python",
   "nbconvert_exporter": "python",
   "pygments_lexer": "ipython3",
   "version": "3.6.4"
  }
 },
 "nbformat": 4,
 "nbformat_minor": 2
}
