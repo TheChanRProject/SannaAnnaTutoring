{
 "cells": [
  {
   "cell_type": "markdown",
   "metadata": {},
   "source": [
    "If point (2,-4) is reflected over the x-axis, determine the coordinates of the image."
   ]
  },
  {
   "cell_type": "markdown",
   "metadata": {},
   "source": [
    "In order to reflect over the x-axis, we can do the following: \n",
    "\n",
    "$$ P(x_1, y_1) -> P(x_1, -(y_1)) $$ "
   ]
  },
  {
   "cell_type": "code",
   "execution_count": 2,
   "metadata": {},
   "outputs": [
    {
     "name": "stdout",
     "output_type": "stream",
     "text": [
      "(2, 4)\n"
     ]
    }
   ],
   "source": [
    "def xReflection(x,y):\n",
    "    if y > 0:\n",
    "        return (x,-y)\n",
    "    else:\n",
    "        return (x, abs(y))\n",
    "print(xReflection(2,-4))\n",
    "    "
   ]
  },
  {
   "cell_type": "markdown",
   "metadata": {},
   "source": [
    "How do we reflect a point over the y-axis? \n",
    "\n",
    "$$ P(x_1, y_1) -> P(-(x_1), y_1) $$ "
   ]
  },
  {
   "cell_type": "code",
   "execution_count": 3,
   "metadata": {},
   "outputs": [
    {
     "name": "stdout",
     "output_type": "stream",
     "text": [
      "(-2, -4)\n"
     ]
    }
   ],
   "source": [
    "def yReflection(x,y):\n",
    "    if x > 0:\n",
    "        return (-x, y)\n",
    "    else:\n",
    "        return (abs(x), y)\n",
    "\n",
    "print(yReflection(2,-4))"
   ]
  },
  {
   "cell_type": "code",
   "execution_count": 4,
   "metadata": {},
   "outputs": [
    {
     "name": "stdout",
     "output_type": "stream",
     "text": [
      "(-2, -4)\n"
     ]
    }
   ],
   "source": [
    "print(yReflection(2,-4))"
   ]
  },
  {
   "cell_type": "markdown",
   "metadata": {},
   "source": [
    "To find the line of reflection between two points:\n",
    "\n",
    "Step 1: Look at the two points to see which coordinate is changing. \n",
    "\n",
    "Step 2: Based on the coordinate axis that is changing, find the midpoint between the two:\n",
    "\n",
    "For x: \n",
    "\n",
    "$$ M_x = \\frac{x_1 + x_2}{2} $$ \n",
    "\n",
    "For y:\n",
    "\n",
    "$$ M_y = \\frac{y_1 + y_2}{2} $$ "
   ]
  },
  {
   "cell_type": "code",
   "execution_count": null,
   "metadata": {},
   "outputs": [],
   "source": [
    "def mx(x1,x2):\n",
    "    return (x1 + x2)/2\n",
    "\n",
    "def my(y1,y2):\n",
    "    return (y1 + y2)"
   ]
  }
 ],
 "metadata": {
  "kernelspec": {
   "display_name": "Python 3",
   "language": "python",
   "name": "python3"
  },
  "language_info": {
   "codemirror_mode": {
    "name": "ipython",
    "version": 3
   },
   "file_extension": ".py",
   "mimetype": "text/x-python",
   "name": "python",
   "nbconvert_exporter": "python",
   "pygments_lexer": "ipython3",
   "version": "3.6.4"
  }
 },
 "nbformat": 4,
 "nbformat_minor": 2
}
