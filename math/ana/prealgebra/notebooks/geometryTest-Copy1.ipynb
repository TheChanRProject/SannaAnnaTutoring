{
 "cells": [
  {
   "cell_type": "code",
   "execution_count": 1,
   "metadata": {},
   "outputs": [
    {
     "name": "stdout",
     "output_type": "stream",
     "text": [
      "1\n",
      "4\n"
     ]
    }
   ],
   "source": [
    "def area(l,w):\n",
    "    return l*w\n",
    "\n",
    "print(area(1,1))\n",
    "print(area(2,2))"
   ]
  },
  {
   "cell_type": "code",
   "execution_count": 2,
   "metadata": {},
   "outputs": [
    {
     "name": "stdout",
     "output_type": "stream",
     "text": [
      "15.707963267948966\n"
     ]
    }
   ],
   "source": [
    "import math\n",
    "def circumference(r):\n",
    "    return 2*r*math.pi\n",
    "\n",
    "print(circumference(5/2))"
   ]
  },
  {
   "cell_type": "code",
   "execution_count": 3,
   "metadata": {},
   "outputs": [
    {
     "name": "stdout",
     "output_type": "stream",
     "text": [
      "(-3.0, 1.5)\n"
     ]
    }
   ],
   "source": [
    "def midpoint(x1,y1,x2,y2):\n",
    "    return ((x1 + x2)/2, (y1+y2)/2)\n",
    "print(midpoint(-8,5,2,-2))"
   ]
  },
  {
   "cell_type": "code",
   "execution_count": 4,
   "metadata": {},
   "outputs": [
    {
     "name": "stdout",
     "output_type": "stream",
     "text": [
      "8.54400374531753\n"
     ]
    }
   ],
   "source": [
    "def pythag(a,b):\n",
    "    return math.sqrt(pow(a,2) + pow(b,2))\n",
    "print(pythag(3,8))"
   ]
  },
  {
   "cell_type": "code",
   "execution_count": 6,
   "metadata": {},
   "outputs": [
    {
     "name": "stdout",
     "output_type": "stream",
     "text": [
      "(1.0, 3.0)\n"
     ]
    }
   ],
   "source": [
    "print(midpoint(-1,3,3,3))"
   ]
  },
  {
   "cell_type": "code",
   "execution_count": 7,
   "metadata": {},
   "outputs": [
    {
     "name": "stdout",
     "output_type": "stream",
     "text": [
      "6.0\n"
     ]
    }
   ],
   "source": [
    "def areaTrapezoid(w1,w2,l):\n",
    "    return 0.5*(w1+w2)*h\n",
    "\n",
    "def heightTrapezoid(a,w1,w2):\n",
    "    return (2*a)/(w1 + w2)\n",
    "\n",
    "print(heightTrapezoid(60,8,12))"
   ]
  },
  {
   "cell_type": "code",
   "execution_count": 8,
   "metadata": {},
   "outputs": [
    {
     "name": "stdout",
     "output_type": "stream",
     "text": [
      "3.0\n"
     ]
    }
   ],
   "source": [
    "def midpoint(c1,c2):\n",
    "    return (c1+c2)/2\n",
    "\n",
    "print(midpoint(-9,15))"
   ]
  },
  {
   "cell_type": "code",
   "execution_count": 12,
   "metadata": {},
   "outputs": [
    {
     "name": "stdout",
     "output_type": "stream",
     "text": [
      "45.0\n"
     ]
    }
   ],
   "source": [
    "areaWindow = area(8,6) - area(1.5,2)\n",
    "print(areaWindow)"
   ]
  },
  {
   "cell_type": "code",
   "execution_count": 13,
   "metadata": {},
   "outputs": [
    {
     "name": "stdout",
     "output_type": "stream",
     "text": [
      "(5, 3)\n"
     ]
    }
   ],
   "source": [
    "def rotationClock(d,x1,y1):\n",
    "    if d == 90:\n",
    "        return (-y1,x1)\n",
    "    if d == 180:\n",
    "        return (-x1,-y1)\n",
    "    if d == 270:\n",
    "        return (y1, -x1)\n",
    "    \n",
    "print(rotationClock(90,3,-5))"
   ]
  },
  {
   "cell_type": "markdown",
   "metadata": {},
   "source": [
    "$$ x_B - 2 = 4 $$\n",
    "\n",
    "$$ y_B + 3 = -8 $$ "
   ]
  },
  {
   "cell_type": "code",
   "execution_count": 14,
   "metadata": {},
   "outputs": [
    {
     "name": "stdout",
     "output_type": "stream",
     "text": [
      "6\n",
      "-11\n",
      "(6, -11)\n"
     ]
    }
   ],
   "source": [
    "xB = 2 + 4 \n",
    "print(xB)\n",
    "yB = -8 - 3 \n",
    "print(yB)\n",
    "\n",
    "print((xB,yB))"
   ]
  },
  {
   "cell_type": "code",
   "execution_count": 17,
   "metadata": {},
   "outputs": [
    {
     "name": "stdout",
     "output_type": "stream",
     "text": [
      "6.708203932499369\n"
     ]
    }
   ],
   "source": [
    "def distance(x1,y1,x2,y2):\n",
    "    return math.sqrt(pow(x2-x1,2) + pow(y2-y1,2))\n",
    "print(distance(2,-1,-1,5))"
   ]
  },
  {
   "cell_type": "code",
   "execution_count": null,
   "metadata": {},
   "outputs": [],
   "source": []
  }
 ],
 "metadata": {
  "kernelspec": {
   "display_name": "Python 3",
   "language": "python",
   "name": "python3"
  },
  "language_info": {
   "codemirror_mode": {
    "name": "ipython",
    "version": 3
   },
   "file_extension": ".py",
   "mimetype": "text/x-python",
   "name": "python",
   "nbconvert_exporter": "python",
   "pygments_lexer": "ipython3",
   "version": "3.6.4"
  }
 },
 "nbformat": 4,
 "nbformat_minor": 2
}
