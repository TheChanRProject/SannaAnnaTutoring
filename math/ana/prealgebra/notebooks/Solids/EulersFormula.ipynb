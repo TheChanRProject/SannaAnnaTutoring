{
 "cells": [
  {
   "cell_type": "markdown",
   "metadata": {},
   "source": [
    "### Euler's Formula"
   ]
  },
  {
   "cell_type": "markdown",
   "metadata": {},
   "source": [
    "Leohard Euler created a formula that can tell you the relationship that exits among the number of faces, vertices, and edges of any solid. \n",
    "\n",
    "Euler says that the sum of the faces and vertices is equal to the number of edges plus 2.\n",
    "\n",
    "$$ V + F = E + 2 $$ "
   ]
  },
  {
   "cell_type": "markdown",
   "metadata": {},
   "source": [
    "Rectangular Prism:\n",
    "\n",
    "$$ 8 + F = 12 + 2 \\rightarrow F = 14 - 8 $$ "
   ]
  },
  {
   "cell_type": "code",
   "execution_count": 1,
   "metadata": {},
   "outputs": [
    {
     "data": {
      "text/plain": [
       "6"
      ]
     },
     "execution_count": 1,
     "metadata": {},
     "output_type": "execute_result"
    }
   ],
   "source": [
    "14 - 8"
   ]
  },
  {
   "cell_type": "markdown",
   "metadata": {},
   "source": [
    "Hexagonal Prism:\n",
    "    $$ 12 + F = 20 \\rightarrow F = 8 $$ \n"
   ]
  },
  {
   "cell_type": "markdown",
   "metadata": {},
   "source": [
    "Octagonal Prism:\n",
    "\n",
    "$$ 10 + 16 = E + 2 \\rightarrow E = 26 - 2 = 24 $$ "
   ]
  },
  {
   "cell_type": "markdown",
   "metadata": {},
   "source": [
    "Triangular Pyramid:\n",
    "\n",
    "$$ V + 4 = 6 + 2 \\rightarrow V = 4 $$ \n",
    "\n",
    "Rectangular Pyramid:\n",
    "\n",
    "$$ 5 + F = 8 + 2 \\rightarrow F = 10 - 5 $$\n",
    "\n",
    "Pentagonal Pyramid:\n",
    "\n",
    "$$ 6 + 6 = E + 2 \\rightarrow E = 12 - 2 = 10 $$ "
   ]
  },
  {
   "cell_type": "code",
   "execution_count": null,
   "metadata": {},
   "outputs": [],
   "source": []
  }
 ],
 "metadata": {
  "kernelspec": {
   "display_name": "Python 3",
   "language": "python",
   "name": "python3"
  },
  "language_info": {
   "codemirror_mode": {
    "name": "ipython",
    "version": 3
   },
   "file_extension": ".py",
   "mimetype": "text/x-python",
   "name": "python",
   "nbconvert_exporter": "python",
   "pygments_lexer": "ipython3",
   "version": "3.6.4"
  }
 },
 "nbformat": 4,
 "nbformat_minor": 2
}
