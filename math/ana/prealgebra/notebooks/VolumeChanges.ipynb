{
 "cells": [
  {
   "cell_type": "code",
   "execution_count": 1,
   "metadata": {},
   "outputs": [
    {
     "name": "stdout",
     "output_type": "stream",
     "text": [
      "3.141592653589793\n",
      "9.42477796076938\n"
     ]
    }
   ],
   "source": [
    "import math as m\n",
    "\n",
    "def cylinderVolume(r,h):\n",
    "    A = m.pi * pow(r,2) * h\n",
    "    return A\n",
    "\n",
    "print(cylinderVolume(1,1))\n",
    "print(cylinderVolume(1,3))"
   ]
  },
  {
   "cell_type": "code",
   "execution_count": 2,
   "metadata": {},
   "outputs": [
    {
     "name": "stdout",
     "output_type": "stream",
     "text": [
      "3.141592653589793\n",
      "12.566370614359172\n"
     ]
    }
   ],
   "source": [
    "print(cylinderVolume(1,1))\n",
    "print(cylinderVolume(2,1))"
   ]
  },
  {
   "cell_type": "code",
   "execution_count": 3,
   "metadata": {},
   "outputs": [
    {
     "name": "stdout",
     "output_type": "stream",
     "text": [
      "0.333\n",
      "2.9970000000000003\n"
     ]
    }
   ],
   "source": [
    "def pyramidVolume(l,w,h):\n",
    "    B = l*w\n",
    "    return 0.333 * B * h\n",
    "\n",
    "print(pyramidVolume(1,1,1))\n",
    "print(pyramidVolume(3,3,1))"
   ]
  },
  {
   "cell_type": "code",
   "execution_count": 4,
   "metadata": {},
   "outputs": [
    {
     "name": "stdout",
     "output_type": "stream",
     "text": [
      "0.9990000000000001\n",
      "0.333\n"
     ]
    }
   ],
   "source": [
    "print(pyramidVolume(1,1,3))\n",
    "print(pyramidVolume(1,1,1))"
   ]
  },
  {
   "cell_type": "code",
   "execution_count": 7,
   "metadata": {},
   "outputs": [],
   "source": [
    "def PrismVolume(l,w,h, type: str):\n",
    "    if type == \"triangular\":\n",
    "        B = 0.5 * l * w\n",
    "    if type == \"rectangular\":\n",
    "        B = l * w\n",
    "    return B * h\n",
    "\n"
   ]
  },
  {
   "cell_type": "code",
   "execution_count": 6,
   "metadata": {},
   "outputs": [
    {
     "name": "stdout",
     "output_type": "stream",
     "text": [
      "895.936\n"
     ]
    }
   ],
   "source": [
    "print(recPrismVolume(13,8,8) + pyramidVolume(8,8,3))"
   ]
  },
  {
   "cell_type": "code",
   "execution_count": 8,
   "metadata": {},
   "outputs": [
    {
     "name": "stdout",
     "output_type": "stream",
     "text": [
      "1428.0\n"
     ]
    }
   ],
   "source": [
    "print(PrismVolume(11,8,17, \"triangular\") + PrismVolume(8,17,5, \"rectangular\"))"
   ]
  },
  {
   "cell_type": "code",
   "execution_count": null,
   "metadata": {},
   "outputs": [],
   "source": []
  }
 ],
 "metadata": {
  "kernelspec": {
   "display_name": "Python 3",
   "language": "python",
   "name": "python3"
  },
  "language_info": {
   "codemirror_mode": {
    "name": "ipython",
    "version": 3
   },
   "file_extension": ".py",
   "mimetype": "text/x-python",
   "name": "python",
   "nbconvert_exporter": "python",
   "pygments_lexer": "ipython3",
   "version": "3.6.4"
  }
 },
 "nbformat": 4,
 "nbformat_minor": 2
}
