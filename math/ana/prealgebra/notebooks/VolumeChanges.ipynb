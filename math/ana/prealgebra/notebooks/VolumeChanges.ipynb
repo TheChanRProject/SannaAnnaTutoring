{
 "cells": [
  {
   "cell_type": "code",
   "execution_count": 1,
   "metadata": {},
   "outputs": [
    {
     "name": "stdout",
     "output_type": "stream",
     "text": [
      "3.141592653589793\n",
      "9.42477796076938\n"
     ]
    }
   ],
   "source": [
    "import math as m\n",
    "\n",
    "def cylinderVolume(r,h):\n",
    "    A = m.pi * pow(r,2) * h\n",
    "    return A\n",
    "\n",
    "print(cylinderVolume(1,1))\n",
    "print(cylinderVolume(1,3))"
   ]
  },
  {
   "cell_type": "code",
   "execution_count": 2,
   "metadata": {},
   "outputs": [
    {
     "name": "stdout",
     "output_type": "stream",
     "text": [
      "3.141592653589793\n",
      "12.566370614359172\n"
     ]
    }
   ],
   "source": [
    "print(cylinderVolume(1,1))\n",
    "print(cylinderVolume(2,1))"
   ]
  },
  {
   "cell_type": "code",
   "execution_count": 3,
   "metadata": {},
   "outputs": [
    {
     "name": "stdout",
     "output_type": "stream",
     "text": [
      "0.333\n",
      "2.9970000000000003\n"
     ]
    }
   ],
   "source": [
    "def pyramidVolume(l,w,h):\n",
    "    B = l*w\n",
    "    return 0.333 * B * h\n",
    "\n",
    "print(pyramidVolume(1,1,1))\n",
    "print(pyramidVolume(3,3,1))"
   ]
  },
  {
   "cell_type": "code",
   "execution_count": 4,
   "metadata": {},
   "outputs": [
    {
     "name": "stdout",
     "output_type": "stream",
     "text": [
      "0.9990000000000001\n",
      "0.333\n"
     ]
    }
   ],
   "source": [
    "print(pyramidVolume(1,1,3))\n",
    "print(pyramidVolume(1,1,1))"
   ]
  },
  {
   "cell_type": "code",
   "execution_count": 7,
   "metadata": {},
   "outputs": [],
   "source": [
    "def PrismVolume(l,w,h, type: str):\n",
    "    if type == \"triangular\":\n",
    "        B = 0.5 * l * w\n",
    "    if type == \"rectangular\":\n",
    "        B = l * w\n",
    "    return B * h\n",
    "\n"
   ]
  },
  {
   "cell_type": "code",
   "execution_count": 6,
   "metadata": {},
   "outputs": [
    {
     "name": "stdout",
     "output_type": "stream",
     "text": [
      "895.936\n"
     ]
    }
   ],
   "source": [
    "print(recPrismVolume(13,8,8) + pyramidVolume(8,8,3))"
   ]
  },
  {
   "cell_type": "code",
   "execution_count": 8,
   "metadata": {},
   "outputs": [
    {
     "name": "stdout",
     "output_type": "stream",
     "text": [
      "1428.0\n"
     ]
    }
   ],
   "source": [
    "print(PrismVolume(11,8,17, \"triangular\") + PrismVolume(8,17,5, \"rectangular\"))"
   ]
  },
  {
   "cell_type": "code",
   "execution_count": 11,
   "metadata": {},
   "outputs": [
    {
     "name": "stdout",
     "output_type": "stream",
     "text": [
      "4.0\n"
     ]
    }
   ],
   "source": [
    "V = 256 * m.pi\n",
    "h = 16\n",
    "rSquarePi = V / h\n",
    "rSquare = rSquarePi / m.pi\n",
    "r = m.sqrt(rSquare)\n",
    "print(r)"
   ]
  },
  {
   "cell_type": "code",
   "execution_count": 12,
   "metadata": {},
   "outputs": [
    {
     "data": {
      "text/plain": [
       "16.0"
      ]
     },
     "execution_count": 12,
     "metadata": {},
     "output_type": "execute_result"
    }
   ],
   "source": [
    "256 / 16 "
   ]
  },
  {
   "cell_type": "markdown",
   "metadata": {},
   "source": [
    "$$ V_{A} = \\frac{1}{3} \\pi r^2 15 $$ \n",
    "$$ V_{B} = \\frac{1}{3} \\pi r^2 h $$"
   ]
  },
  {
   "cell_type": "markdown",
   "metadata": {},
   "source": [
    "$$ \\frac{3}{2} = \\frac{\\frac{15}{3} \\pi r^2}{\\frac{h}{3}\\pi r^2} $$  "
   ]
  },
  {
   "cell_type": "markdown",
   "metadata": {},
   "source": [
    "$$ h \\pi r^2 = 10 \\pi r^2 $$\n",
    "$$ \\frac{h}{\\pi r^2} = \\frac{10}{\\pi r^2} $$ \n",
    "$$ h = 10 $$ "
   ]
  },
  {
   "cell_type": "code",
   "execution_count": 13,
   "metadata": {},
   "outputs": [
    {
     "name": "stdout",
     "output_type": "stream",
     "text": [
      "5.0\n"
     ]
    }
   ],
   "source": [
    "def slantHeight(r,h):\n",
    "    return m.sqrt(pow(r,2) + pow(h,2))\n",
    "print(slantHeight(3,4))"
   ]
  },
  {
   "cell_type": "code",
   "execution_count": 14,
   "metadata": {},
   "outputs": [
    {
     "name": "stdout",
     "output_type": "stream",
     "text": [
      "Cone B's volume is: 37.69534193189321\n",
      "Cone A's volume is: 301.5627354551457\n"
     ]
    }
   ],
   "source": [
    "def coneVolume(r,h):\n",
    "    return 0.3333 * pow(r,2) * m.pi * h\n",
    "\n",
    "print(\"Cone B's volume is: \" + str(coneVolume(3,4)))\n",
    "print(\"Cone A's volume is: \" + str(coneVolume(6,8)))"
   ]
  },
  {
   "cell_type": "code",
   "execution_count": 16,
   "metadata": {},
   "outputs": [
    {
     "name": "stdout",
     "output_type": "stream",
     "text": [
      "8.0\n"
     ]
    }
   ],
   "source": [
    "coneRatio = coneVolume(6,8) / coneVolume(3,4)\n",
    "print(coneRatio)"
   ]
  },
  {
   "cell_type": "code",
   "execution_count": 17,
   "metadata": {},
   "outputs": [
    {
     "name": "stdout",
     "output_type": "stream",
     "text": [
      "96.0\n"
     ]
    }
   ],
   "source": [
    "print((36 * 8)/3)"
   ]
  },
  {
   "cell_type": "code",
   "execution_count": 18,
   "metadata": {},
   "outputs": [
    {
     "name": "stdout",
     "output_type": "stream",
     "text": [
      "125.00000000000003\n"
     ]
    }
   ],
   "source": [
    "def cylinderVolume(r,h):\n",
    "    return m.pi * pow(r,2) * h\n",
    "\n",
    "print(cylinderVolume(7,20) / cylinderVolume(1.4,4))"
   ]
  },
  {
   "cell_type": "code",
   "execution_count": 19,
   "metadata": {},
   "outputs": [
    {
     "name": "stdout",
     "output_type": "stream",
     "text": [
      "24.999999999999996\n"
     ]
    }
   ],
   "source": [
    "def surfaceAreaCylinder(r,h):\n",
    "    return 2*m.pi*r*h + 2*m.pi*pow(r,2)\n",
    "print(surfaceAreaCylinder(7,20) / surfaceAreaCylinder(1.4,4))"
   ]
  },
  {
   "cell_type": "code",
   "execution_count": 21,
   "metadata": {},
   "outputs": [
    {
     "name": "stdout",
     "output_type": "stream",
     "text": [
      "4.0\n"
     ]
    }
   ],
   "source": [
    "def SurfaceAreaSphere(r):\n",
    "    return 4*m.pi*pow(r,2)\n",
    "print(SurfaceAreaSphere(2)/SurfaceAreaSphere(1))\n"
   ]
  },
  {
   "cell_type": "code",
   "execution_count": 22,
   "metadata": {},
   "outputs": [
    {
     "name": "stdout",
     "output_type": "stream",
     "text": [
      "1.3333\n"
     ]
    }
   ],
   "source": [
    "def SphereVolume(r):\n",
    "    return 1.3333 * m.pi * pow(r,3)\n",
    "\n",
    "print(SphereVolume(4) / SurfaceAreaSphere(4))"
   ]
  },
  {
   "cell_type": "code",
   "execution_count": 23,
   "metadata": {},
   "outputs": [
    {
     "name": "stdout",
     "output_type": "stream",
     "text": [
      "96.0024000600015\n"
     ]
    }
   ],
   "source": [
    "print(cylinderVolume(24,48) / SphereVolume(6))"
   ]
  },
  {
   "cell_type": "code",
   "execution_count": null,
   "metadata": {},
   "outputs": [],
   "source": []
  }
 ],
 "metadata": {
  "kernelspec": {
   "display_name": "Python 3",
   "language": "python",
   "name": "python3"
  },
  "language_info": {
   "codemirror_mode": {
    "name": "ipython",
    "version": 3
   },
   "file_extension": ".py",
   "mimetype": "text/x-python",
   "name": "python",
   "nbconvert_exporter": "python",
   "pygments_lexer": "ipython3",
   "version": "3.6.4"
  }
 },
 "nbformat": 4,
 "nbformat_minor": 2
}
