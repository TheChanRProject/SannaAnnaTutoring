{
 "cells": [
  {
   "cell_type": "markdown",
   "metadata": {},
   "source": [
    "### Surface Area of a Cone "
   ]
  },
  {
   "cell_type": "markdown",
   "metadata": {},
   "source": [
    "$$ A = \\pi r (r + \\sqrt{h^2 + r^2}) $$ "
   ]
  },
  {
   "cell_type": "code",
   "execution_count": 1,
   "metadata": {},
   "outputs": [],
   "source": [
    "import numpy as np\n",
    "from numpy import math as m"
   ]
  },
  {
   "cell_type": "code",
   "execution_count": 3,
   "metadata": {},
   "outputs": [
    {
     "name": "stdout",
     "output_type": "stream",
     "text": [
      "417.8318229274425\n"
     ]
    }
   ],
   "source": [
    "def coneSurfaceArea(r,l):\n",
    "    area = m.pi * r * (r + l)\n",
    "    return area\n",
    "print(coneSurfaceArea(7,12))"
   ]
  },
  {
   "cell_type": "markdown",
   "metadata": {},
   "source": [
    "### Euler's Formula\n",
    "\n",
    "$$ V - E + F = 2 $$ \n",
    "$$ V + F = E + 2 $$ "
   ]
  },
  {
   "cell_type": "code",
   "execution_count": 4,
   "metadata": {},
   "outputs": [
    {
     "name": "stdout",
     "output_type": "stream",
     "text": [
      "12\n"
     ]
    }
   ],
   "source": [
    "def euler(V,E,F):\n",
    "    if V == None:\n",
    "        solvent = 2 + E - F\n",
    "    elif E == None:\n",
    "        solvent = V + F - 2\n",
    "    elif F == None:\n",
    "        solvent = E + 2 - V\n",
    "    else:\n",
    "        solvent = None\n",
    "    return solvent \n",
    "print(euler(8,None,6))"
   ]
  },
  {
   "cell_type": "code",
   "execution_count": null,
   "metadata": {},
   "outputs": [],
   "source": [
    "print(euler(6,))"
   ]
  }
 ],
 "metadata": {
  "kernelspec": {
   "display_name": "Python 3",
   "language": "python",
   "name": "python3"
  },
  "language_info": {
   "codemirror_mode": {
    "name": "ipython",
    "version": 3
   },
   "file_extension": ".py",
   "mimetype": "text/x-python",
   "name": "python",
   "nbconvert_exporter": "python",
   "pygments_lexer": "ipython3",
   "version": "3.6.4"
  }
 },
 "nbformat": 4,
 "nbformat_minor": 2
}
