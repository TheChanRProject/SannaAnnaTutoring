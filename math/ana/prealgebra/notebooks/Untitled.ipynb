{
 "cells": [
  {
   "cell_type": "markdown",
   "metadata": {},
   "source": [
    "To find the midpoint of anything, we take the first point and last point or point values and then we simply the average of the two. \n",
    "\n",
    "$$ M = \\frac{p_1 + p_2}{2} $$ "
   ]
  },
  {
   "cell_type": "code",
   "execution_count": 2,
   "metadata": {},
   "outputs": [
    {
     "name": "stdout",
     "output_type": "stream",
     "text": [
      "2.25\n"
     ]
    }
   ],
   "source": [
    "g = -2.5 \n",
    "p = 7 \n",
    "\n",
    "m = (g+p)/2 \n",
    "print(m)"
   ]
  },
  {
   "cell_type": "code",
   "execution_count": 3,
   "metadata": {},
   "outputs": [
    {
     "name": "stdout",
     "output_type": "stream",
     "text": [
      "-9.5\n"
     ]
    }
   ],
   "source": [
    "t1 = -2 \n",
    "t2 = -17\n",
    "m2 = (t1+t2)/2\n",
    "print(m2)"
   ]
  },
  {
   "cell_type": "markdown",
   "metadata": {},
   "source": [
    "For coordinates, the formula for finding the midpoint between two points is:\n",
    "\n",
    "$$ M = \\frac{(x_1 + x_2)}{2} , \\frac{(y_1 + y_2)}{2} $$ "
   ]
  },
  {
   "cell_type": "code",
   "execution_count": 6,
   "metadata": {},
   "outputs": [
    {
     "name": "stdout",
     "output_type": "stream",
     "text": [
      "(0.5, 0.5)\n",
      "(1.0, 4.0)\n"
     ]
    }
   ],
   "source": [
    "def midpoint(x1,y1,x2,y2):\n",
    "    m = (((x1+x2)/2), ((y1+y2)/2))\n",
    "    return m \n",
    "\n",
    "print(midpoint(-2,4,3,-3))\n",
    "print(midpoint(5,7,-3,1))"
   ]
  },
  {
   "cell_type": "code",
   "execution_count": 5,
   "metadata": {},
   "outputs": [
    {
     "name": "stdout",
     "output_type": "stream",
     "text": [
      "2.5\n"
     ]
    }
   ],
   "source": [
    "def midpoint2(x1,x2):\n",
    "    m = (x1+x2)/2\n",
    "    return m\n",
    "print(midpoint2(-7,12))"
   ]
  },
  {
   "cell_type": "markdown",
   "metadata": {},
   "source": [
    "The formula for calculating distance is:\n",
    "\n",
    "$$ D = \\sqrt{(x_2 - x_1)^2 + (y_2 - y_1)^2} $$ "
   ]
  },
  {
   "cell_type": "code",
   "execution_count": null,
   "metadata": {},
   "outputs": [],
   "source": []
  }
 ],
 "metadata": {
  "kernelspec": {
   "display_name": "Python 3",
   "language": "python",
   "name": "python3"
  },
  "language_info": {
   "codemirror_mode": {
    "name": "ipython",
    "version": 3
   },
   "file_extension": ".py",
   "mimetype": "text/x-python",
   "name": "python",
   "nbconvert_exporter": "python",
   "pygments_lexer": "ipython3",
   "version": "3.6.4"
  }
 },
 "nbformat": 4,
 "nbformat_minor": 2
}
