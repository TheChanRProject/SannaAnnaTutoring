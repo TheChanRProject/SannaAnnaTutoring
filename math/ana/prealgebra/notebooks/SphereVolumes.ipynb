{
 "cells": [
  {
   "cell_type": "markdown",
   "metadata": {},
   "source": [
    "The volume of a sphere is defined by:\n",
    "\n",
    "$$ V = \\frac{4}{3} \\pi r^3 $$ "
   ]
  },
  {
   "cell_type": "code",
   "execution_count": 10,
   "metadata": {},
   "outputs": [],
   "source": [
    "import numpy as np\n",
    "from numpy import math as m\n",
    "def sphereVolume(r, t):\n",
    "    if t == \"rad\":\n",
    "        volume = (4/3) * 3.14 * pow(r,3)\n",
    "    elif t == \"dia\":\n",
    "        volume = (4/3) * 3.14 * pow(r/2, 3)\n",
    "    else:\n",
    "        print(\"Cannot compute the volume\")\n",
    "    return volume \n"
   ]
  },
  {
   "cell_type": "code",
   "execution_count": 12,
   "metadata": {},
   "outputs": [
    {
     "data": {
      "text/plain": [
       "113.03999999999999"
      ]
     },
     "execution_count": 12,
     "metadata": {},
     "output_type": "execute_result"
    }
   ],
   "source": [
    "sphereVolume(3, \"rad\")"
   ]
  },
  {
   "cell_type": "code",
   "execution_count": 13,
   "metadata": {},
   "outputs": [
    {
     "data": {
      "text/plain": [
       "267.94666666666666"
      ]
     },
     "execution_count": 13,
     "metadata": {},
     "output_type": "execute_result"
    }
   ],
   "source": [
    "sphereVolume(4, \"rad\")"
   ]
  },
  {
   "cell_type": "code",
   "execution_count": 14,
   "metadata": {},
   "outputs": [
    {
     "data": {
      "text/plain": [
       "4.1866666666666665"
      ]
     },
     "execution_count": 14,
     "metadata": {},
     "output_type": "execute_result"
    }
   ],
   "source": [
    "sphereVolume(1, \"rad\")"
   ]
  },
  {
   "cell_type": "code",
   "execution_count": 15,
   "metadata": {},
   "outputs": [
    {
     "data": {
      "text/plain": [
       "904.3199999999999"
      ]
     },
     "execution_count": 15,
     "metadata": {},
     "output_type": "execute_result"
    }
   ],
   "source": [
    "sphereVolume(12, \"dia\")"
   ]
  },
  {
   "cell_type": "code",
   "execution_count": 16,
   "metadata": {},
   "outputs": [
    {
     "data": {
      "text/plain": [
       "33.49333333333333"
      ]
     },
     "execution_count": 16,
     "metadata": {},
     "output_type": "execute_result"
    }
   ],
   "source": [
    "sphereVolume(4, \"dia\")"
   ]
  },
  {
   "cell_type": "code",
   "execution_count": 19,
   "metadata": {},
   "outputs": [],
   "source": [
    "compareVolume = 36 * m.pi\n",
    "\n",
    "def compareVolumes(i,r,t):\n",
    "    if i == \"cylinder\" and t == \"rad\":\n",
    "        h = input(\"Write the height value\")\n",
    "        volume = m.pi * pow(r,2) * h\n",
    "    elif i == \"cylinder\" and t == \"dia\":\n",
    "        h = input(\"Write the height value\")\n",
    "        volume = m.pi * pow(r/2,2) * h\n",
    "    elif i == \"sphere\":\n",
    "        volume = sphereVolume(r, t)\n",
    "    elif i == \"cone\" and t == \"rad\":\n",
    "        h = input(\"Write the height value\")\n",
    "        volume = (1/3) * m.pi * pow(r,2) * h\n",
    "    elif i == \"cone\" and t == \"dia\":\n",
    "        h = input(\"Write the height value\")\n",
    "        volume = (1/3) * m.pi * pow(r/2,2) * h\n",
    "    else:\n",
    "        volume = None \n",
    "    return volume == compareVolume \n",
    "    "
   ]
  },
  {
   "cell_type": "code",
   "execution_count": 20,
   "metadata": {},
   "outputs": [
    {
     "data": {
      "text/plain": [
       "False"
      ]
     },
     "execution_count": 20,
     "metadata": {},
     "output_type": "execute_result"
    }
   ],
   "source": [
    "compareVolumes(\"sphere\", 3, \"rad\")"
   ]
  },
  {
   "cell_type": "code",
   "execution_count": null,
   "metadata": {},
   "outputs": [],
   "source": [
    "compareVolumes(\"cone\", 12, \"dia\")"
   ]
  },
  {
   "cell_type": "code",
   "execution_count": null,
   "metadata": {},
   "outputs": [],
   "source": []
  }
 ],
 "metadata": {
  "kernelspec": {
   "display_name": "Python 3",
   "language": "python",
   "name": "python3"
  },
  "language_info": {
   "codemirror_mode": {
    "name": "ipython",
    "version": 3
   },
   "file_extension": ".py",
   "mimetype": "text/x-python",
   "name": "python",
   "nbconvert_exporter": "python",
   "pygments_lexer": "ipython3",
   "version": "3.6.4"
  }
 },
 "nbformat": 4,
 "nbformat_minor": 2
}
