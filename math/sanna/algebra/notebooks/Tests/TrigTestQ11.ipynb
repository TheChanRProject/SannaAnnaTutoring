{
 "cells": [
  {
   "cell_type": "markdown",
   "metadata": {},
   "source": [
    "### Cosine Relationship"
   ]
  },
  {
   "cell_type": "markdown",
   "metadata": {},
   "source": [
    "$$ \\cos{\\frac{7 \\pi}{6}} $$ \n",
    "\n",
    "and \n",
    "\n",
    "$$ \\cos{\\frac{5 \\pi}{6}} $$"
   ]
  },
  {
   "cell_type": "code",
   "execution_count": 4,
   "metadata": {},
   "outputs": [
    {
     "name": "stdout",
     "output_type": "stream",
     "text": [
      "1.0\n",
      "0.5000000000000001\n",
      "150\n",
      "210\n"
     ]
    }
   ],
   "source": [
    "import numpy as np\n",
    "from numpy import math as m\n",
    "\n",
    "def radian(x):\n",
    "    return x * (m.pi/180)\n",
    "\n",
    "def degree(x):\n",
    "    return round(x * (180/m.pi))\n",
    "\n",
    "print(m.cos(radian(0)))\n",
    "print(m.cos(radian(60)))\n",
    "\n",
    "print(degree((5*m.pi)/6))\n",
    "print(degree((7*m.pi)/6))"
   ]
  },
  {
   "cell_type": "markdown",
   "metadata": {},
   "source": [
    "Since both angle measures are greater than 90 degrees and less than 270 degrees, their cosine values will be negative. The second angle shows up in the second quadrant and the first angle shows up in the third quadrant. \n"
   ]
  },
  {
   "cell_type": "markdown",
   "metadata": {},
   "source": [
    "Referencing a unit circle, both of the cosine values of these angles are \n",
    "\n",
    "$$ \\frac{- \\sqrt{3}}{2} $$ "
   ]
  },
  {
   "cell_type": "markdown",
   "metadata": {},
   "source": [
    "Therefore the cosine of the two angles are equivalent."
   ]
  },
  {
   "cell_type": "code",
   "execution_count": null,
   "metadata": {},
   "outputs": [],
   "source": []
  }
 ],
 "metadata": {
  "kernelspec": {
   "display_name": "Python 3",
   "language": "python",
   "name": "python3"
  },
  "language_info": {
   "codemirror_mode": {
    "name": "ipython",
    "version": 3
   },
   "file_extension": ".py",
   "mimetype": "text/x-python",
   "name": "python",
   "nbconvert_exporter": "python",
   "pygments_lexer": "ipython3",
   "version": "3.6.4"
  }
 },
 "nbformat": 4,
 "nbformat_minor": 2
}
