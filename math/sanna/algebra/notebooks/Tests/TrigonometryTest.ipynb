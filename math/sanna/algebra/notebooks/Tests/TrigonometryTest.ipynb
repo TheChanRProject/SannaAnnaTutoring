{
 "cells": [
  {
   "cell_type": "code",
   "execution_count": 4,
   "metadata": {},
   "outputs": [
    {
     "name": "stdout",
     "output_type": "stream",
     "text": [
      "1.1547005383792515\n"
     ]
    }
   ],
   "source": [
    "import numpy as np\n",
    "from numpy import math as m\n",
    "\n",
    "def radian(degrees):\n",
    "    return degrees * (m.pi/180)\n",
    "\n",
    "print(1 / m.cos(radian(30)))"
   ]
  },
  {
   "cell_type": "code",
   "execution_count": 5,
   "metadata": {},
   "outputs": [
    {
     "name": "stdout",
     "output_type": "stream",
     "text": [
      "2.6457513110645907\n"
     ]
    }
   ],
   "source": [
    "def sidePyt(b,c):\n",
    "    return m.sqrt(pow(c,2) - pow(b,2))\n",
    "\n",
    "print(sidePyt(m.sqrt(2),3))"
   ]
  },
  {
   "cell_type": "code",
   "execution_count": 6,
   "metadata": {},
   "outputs": [
    {
     "data": {
      "text/plain": [
       "2.6457513110645907"
      ]
     },
     "execution_count": 6,
     "metadata": {},
     "output_type": "execute_result"
    }
   ],
   "source": [
    "m.sqrt(7)"
   ]
  },
  {
   "cell_type": "code",
   "execution_count": 7,
   "metadata": {},
   "outputs": [
    {
     "name": "stdout",
     "output_type": "stream",
     "text": [
      "False\n",
      "True\n",
      "False\n",
      "True\n"
     ]
    }
   ],
   "source": [
    "def isEqual(x):\n",
    "    if x == m.cos(radian(520)):\n",
    "        y = True\n",
    "    else:\n",
    "        y = False\n",
    "    return y\n",
    "\n",
    "print(isEqual(m.cos(radian(160))))\n",
    "print(isEqual(m.cos(radian(200))))\n",
    "print(isEqual(m.cos(radian(20))))\n",
    "print(isEqual(-m.cos(radian(-20))))"
   ]
  },
  {
   "cell_type": "code",
   "execution_count": 8,
   "metadata": {},
   "outputs": [
    {
     "name": "stdout",
     "output_type": "stream",
     "text": [
      "-0.5773502691896265\n"
     ]
    }
   ],
   "source": [
    "print(m.tan(radian(330)))"
   ]
  },
  {
   "cell_type": "code",
   "execution_count": 10,
   "metadata": {},
   "outputs": [
    {
     "name": "stdout",
     "output_type": "stream",
     "text": [
      "-0.5773502691896257\n"
     ]
    }
   ],
   "source": [
    "print(-m.sqrt(3)/3)"
   ]
  },
  {
   "cell_type": "code",
   "execution_count": 11,
   "metadata": {},
   "outputs": [
    {
     "name": "stdout",
     "output_type": "stream",
     "text": [
      "1.1547005383792515\n"
     ]
    }
   ],
   "source": [
    "def csc(x):\n",
    "    return 1 / m.sin(radian(x))\n",
    "print(csc(-600))"
   ]
  },
  {
   "cell_type": "code",
   "execution_count": 12,
   "metadata": {},
   "outputs": [
    {
     "data": {
      "text/plain": [
       "1.1547005383792515"
      ]
     },
     "execution_count": 12,
     "metadata": {},
     "output_type": "execute_result"
    }
   ],
   "source": [
    "(2 * m.sqrt(3))/3"
   ]
  },
  {
   "cell_type": "code",
   "execution_count": 24,
   "metadata": {},
   "outputs": [
    {
     "name": "stdout",
     "output_type": "stream",
     "text": [
      "True\n",
      "True\n",
      "False\n",
      "True\n"
     ]
    }
   ],
   "source": [
    "def cot(x):\n",
    "    return round(1 / m.tan(radian(x)))\n",
    "\n",
    "print(cot(210) == cot(-150))\n",
    "print(cot(210) == cot(30))\n",
    "print(cot(210) == -cot(30))\n",
    "print(-cot(-30) == cot(210))"
   ]
  },
  {
   "cell_type": "code",
   "execution_count": 25,
   "metadata": {},
   "outputs": [
    {
     "name": "stdout",
     "output_type": "stream",
     "text": [
      "2.6666666666666665\n"
     ]
    }
   ],
   "source": [
    "def arcLength(R,C):\n",
    "    return R*C\n",
    "\n",
    "def radiusArc(aL,C):\n",
    "    return aL / C\n",
    "\n",
    "print(radiusArc(radian(360), (3*m.pi)/4))"
   ]
  },
  {
   "cell_type": "code",
   "execution_count": 29,
   "metadata": {},
   "outputs": [
    {
     "name": "stdout",
     "output_type": "stream",
     "text": [
      "1.8849555921538759\n",
      "1.8849555921538759\n"
     ]
    }
   ],
   "source": [
    "print(radian(108))\n",
    "print((3*m.pi)/5)"
   ]
  },
  {
   "cell_type": "markdown",
   "metadata": {},
   "source": [
    "$$ \\frac{108}{180} $$"
   ]
  },
  {
   "cell_type": "code",
   "execution_count": 27,
   "metadata": {},
   "outputs": [
    {
     "data": {
      "text/plain": [
       "54.0"
      ]
     },
     "execution_count": 27,
     "metadata": {},
     "output_type": "execute_result"
    }
   ],
   "source": [
    "108 / 2"
   ]
  },
  {
   "cell_type": "code",
   "execution_count": 28,
   "metadata": {},
   "outputs": [
    {
     "data": {
      "text/plain": [
       "18.0"
      ]
     },
     "execution_count": 28,
     "metadata": {},
     "output_type": "execute_result"
    }
   ],
   "source": [
    "54 / 3 "
   ]
  },
  {
   "cell_type": "code",
   "execution_count": 31,
   "metadata": {},
   "outputs": [
    {
     "data": {
      "text/plain": [
       "405.0"
      ]
     },
     "execution_count": 31,
     "metadata": {},
     "output_type": "execute_result"
    }
   ],
   "source": [
    "(9 * 180)/4"
   ]
  },
  {
   "cell_type": "code",
   "execution_count": 32,
   "metadata": {},
   "outputs": [
    {
     "data": {
      "text/plain": [
       "450"
      ]
     },
     "execution_count": 32,
     "metadata": {},
     "output_type": "execute_result"
    }
   ],
   "source": [
    "360 + 90"
   ]
  },
  {
   "cell_type": "code",
   "execution_count": 33,
   "metadata": {},
   "outputs": [
    {
     "name": "stdout",
     "output_type": "stream",
     "text": [
      "-0.8660254037844387\n"
     ]
    }
   ],
   "source": [
    "angle = (10 * m.pi)/3\n",
    "\n",
    "print(m.sin(angle))"
   ]
  },
  {
   "cell_type": "code",
   "execution_count": 34,
   "metadata": {},
   "outputs": [
    {
     "name": "stdout",
     "output_type": "stream",
     "text": [
      "-0.8660254037844386\n"
     ]
    }
   ],
   "source": [
    "print(-m.sqrt(3)/2)"
   ]
  },
  {
   "cell_type": "code",
   "execution_count": 36,
   "metadata": {},
   "outputs": [
    {
     "name": "stdout",
     "output_type": "stream",
     "text": [
      "1.9999999999999996\n"
     ]
    }
   ],
   "source": [
    "angle1 = (-m.pi/3)\n",
    "\n",
    "print(1/m.cos(angle1))"
   ]
  },
  {
   "cell_type": "code",
   "execution_count": null,
   "metadata": {},
   "outputs": [],
   "source": []
  }
 ],
 "metadata": {
  "kernelspec": {
   "display_name": "Python 3",
   "language": "python",
   "name": "python3"
  },
  "language_info": {
   "codemirror_mode": {
    "name": "ipython",
    "version": 3
   },
   "file_extension": ".py",
   "mimetype": "text/x-python",
   "name": "python",
   "nbconvert_exporter": "python",
   "pygments_lexer": "ipython3",
   "version": "3.6.4"
  }
 },
 "nbformat": 4,
 "nbformat_minor": 2
}
