{
 "cells": [
  {
   "cell_type": "code",
   "execution_count": 3,
   "metadata": {},
   "outputs": [
    {
     "name": "stdout",
     "output_type": "stream",
     "text": [
      "[   0   19 -114]\n"
     ]
    }
   ],
   "source": [
    "import numpy as np \n",
    "\n",
    "s1 = np.array([2,7,-38])\n",
    "s2 = np.array([-5,-8,38])\n",
    "\n",
    "newSystem = 5*s1 + 2*s2\n",
    "print(newSystem)"
   ]
  },
  {
   "cell_type": "markdown",
   "metadata": {},
   "source": [
    "$$ 19y = -114 $$ \n",
    "\n",
    "$$ y = \\frac{-114}{19} $$ "
   ]
  },
  {
   "cell_type": "code",
   "execution_count": 4,
   "metadata": {},
   "outputs": [
    {
     "data": {
      "text/plain": [
       "-6.0"
      ]
     },
     "execution_count": 4,
     "metadata": {},
     "output_type": "execute_result"
    }
   ],
   "source": [
    "-114 / 19 "
   ]
  },
  {
   "cell_type": "code",
   "execution_count": 5,
   "metadata": {},
   "outputs": [
    {
     "name": "stdout",
     "output_type": "stream",
     "text": [
      "[-1 -1 -5]\n"
     ]
    }
   ],
   "source": [
    "p1 = np.array([1,-5,-8])\n",
    "p2 = np.array([2,-4,-3])\n",
    "\n",
    "print(p1 - p2)"
   ]
  },
  {
   "cell_type": "markdown",
   "metadata": {},
   "source": [
    "$$ \\frac{6x^4 - 2x^3 - 13x - 7}{3x + 8} $$ "
   ]
  },
  {
   "cell_type": "code",
   "execution_count": 6,
   "metadata": {},
   "outputs": [
    {
     "name": "stdout",
     "output_type": "stream",
     "text": [
      "(array([  2.,  -6.,  16., -47.]), array([369.]))\n"
     ]
    }
   ],
   "source": [
    "polynomial = np.array([6,-2,0,-13,-7])\n",
    "factor = np.array([3,8])\n",
    "\n",
    "print(np.polydiv(polynomial,factor))"
   ]
  },
  {
   "cell_type": "code",
   "execution_count": 9,
   "metadata": {},
   "outputs": [
    {
     "name": "stdout",
     "output_type": "stream",
     "text": [
      "[ 3 34 51]\n"
     ]
    }
   ],
   "source": [
    "from numpy import convolve\n",
    "\n",
    "f1 = np.array([3,9])\n",
    "f2 = np.array([1,3])\n",
    "f3 = np.array([0,8,12])\n",
    "\n",
    "product1 = convolve(f1,f2)\n",
    "\n",
    "summation = product1 + 2*f3 \n",
    "\n",
    "print(summation)"
   ]
  },
  {
   "cell_type": "code",
   "execution_count": 11,
   "metadata": {},
   "outputs": [
    {
     "name": "stdout",
     "output_type": "stream",
     "text": [
      "[ 2 -1 12]\n"
     ]
    }
   ],
   "source": [
    "yF1 = np.array([0,1,4])\n",
    "yF2 = np.array([1,-2])\n",
    "yF3 = np.array([3,0,10])\n",
    "\n",
    "equation = 3*yF1 + convolve(yF2, np.array([2,0]))\n",
    "print(equation)"
   ]
  },
  {
   "cell_type": "code",
   "execution_count": 15,
   "metadata": {},
   "outputs": [
    {
     "name": "stdout",
     "output_type": "stream",
     "text": [
      "[-2.  1.]\n"
     ]
    }
   ],
   "source": [
    "yF4 = np.array([3,0,10])\n",
    "difference = yF4 - equation\n",
    "\n",
    "print(np.roots(difference))\n"
   ]
  },
  {
   "cell_type": "markdown",
   "metadata": {},
   "source": [
    "$$ 2y^2 -y + 12 = 3y^2 + 10 $$ "
   ]
  },
  {
   "cell_type": "markdown",
   "metadata": {},
   "source": [
    "$$ 0 = y^2 + y - 2 $$  "
   ]
  },
  {
   "cell_type": "code",
   "execution_count": 16,
   "metadata": {},
   "outputs": [
    {
     "name": "stdout",
     "output_type": "stream",
     "text": [
      "[-2.41421356  0.41421356]\n"
     ]
    }
   ],
   "source": [
    "f5 = np.array([1,2,-1])\n",
    "print(np.roots(f5))"
   ]
  },
  {
   "cell_type": "code",
   "execution_count": 17,
   "metadata": {},
   "outputs": [
    {
     "ename": "NameError",
     "evalue": "name 'm' is not defined",
     "output_type": "error",
     "traceback": [
      "\u001b[0;31m---------------------------------------------------------------------------\u001b[0m",
      "\u001b[0;31mNameError\u001b[0m                                 Traceback (most recent call last)",
      "\u001b[0;32m<ipython-input-17-55598c2ce16f>\u001b[0m in \u001b[0;36m<module>\u001b[0;34m()\u001b[0m\n\u001b[0;32m----> 1\u001b[0;31m \u001b[0;34m-\u001b[0m\u001b[0;36m1\u001b[0m \u001b[0;34m+\u001b[0m \u001b[0;36m2\u001b[0m\u001b[0;34m*\u001b[0m\u001b[0mm\u001b[0m\u001b[0;34m.\u001b[0m\u001b[0msqrt\u001b[0m\u001b[0;34m(\u001b[0m\u001b[0;36m2\u001b[0m\u001b[0;34m)\u001b[0m\u001b[0;34m\u001b[0m\u001b[0m\n\u001b[0m",
      "\u001b[0;31mNameError\u001b[0m: name 'm' is not defined"
     ]
    }
   ],
   "source": [
    "-1 + 2*m.sqrt(2)"
   ]
  },
  {
   "cell_type": "code",
   "execution_count": null,
   "metadata": {},
   "outputs": [],
   "source": []
  }
 ],
 "metadata": {
  "kernelspec": {
   "display_name": "Python 3",
   "language": "python",
   "name": "python3"
  },
  "language_info": {
   "codemirror_mode": {
    "name": "ipython",
    "version": 3
   },
   "file_extension": ".py",
   "mimetype": "text/x-python",
   "name": "python",
   "nbconvert_exporter": "python",
   "pygments_lexer": "ipython3",
   "version": "3.6.4"
  }
 },
 "nbformat": 4,
 "nbformat_minor": 2
}
