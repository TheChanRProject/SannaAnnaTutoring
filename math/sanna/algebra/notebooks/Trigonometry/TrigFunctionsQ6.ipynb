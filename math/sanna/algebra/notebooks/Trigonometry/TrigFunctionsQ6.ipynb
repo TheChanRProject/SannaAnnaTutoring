{
 "cells": [
  {
   "cell_type": "markdown",
   "metadata": {},
   "source": [
    "### A. In two or more sentences, explain how to find the exact value of $ \\frac{13 \\pi}{6} $ including quadrant location  "
   ]
  },
  {
   "cell_type": "code",
   "execution_count": 6,
   "metadata": {},
   "outputs": [
    {
     "data": {
      "text/html": [
       "<iframe src=\"../images/unit-circle.png\" height=\"800\" width=\"1500\"></iframe>"
      ],
      "text/plain": [
       "<IPython.core.display.HTML object>"
      ]
     },
     "execution_count": 6,
     "metadata": {},
     "output_type": "execute_result"
    }
   ],
   "source": [
    "from IPython.display import HTML\n",
    "\n",
    "HTML('<iframe src=\"../images/unit-circle.png\" height=\"800\" width=\"1500\"></iframe>')"
   ]
  },
  {
   "cell_type": "markdown",
   "metadata": {},
   "source": [
    "If we use $ \\frac{7 \\pi}{6} $ as our starting point, we are essentially, moving $ \\pi $ units counterclockwise from this point which means that if we add $ \\pi $ to this unit, then we'll end up at $ \\frac{13 \\pi}{6} $ which is also $ 390 \\circ $  "
   ]
  },
  {
   "cell_type": "markdown",
   "metadata": {},
   "source": [
    "$$ \\frac{7 \\pi}{6} + \\pi \\rightarrow \\frac{7 \\pi}{6} + \\frac{6 \\pi}{6} \\rightarrow \\frac{13 \\pi}{6} $$ "
   ]
  },
  {
   "cell_type": "markdown",
   "metadata": {},
   "source": [
    "Seeing that it shows up 30 degrees in the 1st quadrant after rotating a full circle, we can take the cosine value of $ \\frac{\\pi}{6} $ and then just take the reciprocol of it to get the value of $$ sec(\\frac{13 \\pi}{6}) $$ "
   ]
  },
  {
   "cell_type": "markdown",
   "metadata": {},
   "source": [
    "$$ sec( \\frac{13 \\pi}{6} ) \\rightarrow \\frac{1}{cos(\\frac{13 \\pi}{6})}  $$  \n",
    "\n",
    "$$ \\frac{1}{cos(\\frac{13 \\pi}{6})} \\rightarrow \\frac{1}{ \\frac{\\sqrt{3}}{2}} $$ \n",
    "\n",
    "$$ sec( \\frac{13 \\pi}{6} ) = \\frac{2 \\sqrt{3}}{3} $$ "
   ]
  },
  {
   "cell_type": "markdown",
   "metadata": {},
   "source": [
    "### B. In two or more complete sentences, explain how to find the exact value of $ cot ( \\frac{7 \\pi}{4} ) $ including quadrant location. "
   ]
  },
  {
   "cell_type": "markdown",
   "metadata": {},
   "source": [
    "Since 315 degrees already exists on the unit circle, we can simply compute the cotangent of 315 degrees by taking the cosine of 315 degrees and dividing by the sine of 315 degrees. The location is the fourth quadrant.\n",
    "$$ cot( \\frac{7 \\pi}{4} ) = \\frac {cos(\\frac{7 \\pi}{4})}{sin(\\frac{7 \\pi}{4})} $$ \n",
    "$$ \\frac{\\frac{\\sqrt{2}}{2}}{\\frac{\\sqrt{-2}}{2}} = -1 $$ "
   ]
  },
  {
   "cell_type": "code",
   "execution_count": null,
   "metadata": {},
   "outputs": [],
   "source": []
  }
 ],
 "metadata": {
  "kernelspec": {
   "display_name": "Python 3",
   "language": "python",
   "name": "python3"
  },
  "language_info": {
   "codemirror_mode": {
    "name": "ipython",
    "version": 3
   },
   "file_extension": ".py",
   "mimetype": "text/x-python",
   "name": "python",
   "nbconvert_exporter": "python",
   "pygments_lexer": "ipython3",
   "version": "3.6.4"
  }
 },
 "nbformat": 4,
 "nbformat_minor": 2
}
