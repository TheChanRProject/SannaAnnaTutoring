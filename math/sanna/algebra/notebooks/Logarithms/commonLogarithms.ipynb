{
 "cells": [
  {
   "cell_type": "markdown",
   "metadata": {},
   "source": [
    "Imagine that you have an expression such as: \n",
    "\n",
    "$$ 3^x + 4 = 16 $$ \n",
    "\n"
   ]
  },
  {
   "cell_type": "markdown",
   "metadata": {},
   "source": [
    "In this situation, it is possible to convert the 4 and 16 to the common base of 2, but we can immediately see that 2 and 3 are completely different bases which is why we need to use multiple logarithms to evaluate the solution. \n",
    "\n",
    "$$ 3^x + 2^2 = 2^4 $$ "
   ]
  },
  {
   "cell_type": "markdown",
   "metadata": {},
   "source": [
    "First, we need to rewrite the expression as:\n",
    "\n",
    "$$ 3^x = 8 $$\n",
    "\n",
    "After we have done this, we can evaluate x as:\n",
    "\n",
    "$$ x = \\frac{log(8)}{log(3)} $$ "
   ]
  },
  {
   "cell_type": "markdown",
   "metadata": {},
   "source": [
    "$$ x \\approx 1.893 $$ \n",
    "\n",
    "If we did not take the common logarithm of both of these bases, then it would not be possible to solve the problem algebraically, but rather through trial and error in a numerical manner. "
   ]
  },
  {
   "cell_type": "markdown",
   "metadata": {},
   "source": [
    "$$ 6^x = 21 $$ "
   ]
  },
  {
   "cell_type": "markdown",
   "metadata": {},
   "source": [
    "$$ x = \\frac{log(21)}{log(6)} $$ "
   ]
  },
  {
   "cell_type": "code",
   "execution_count": 3,
   "metadata": {},
   "outputs": [
    {
     "name": "stdout",
     "output_type": "stream",
     "text": [
      "1.6991803252671502\n"
     ]
    }
   ],
   "source": [
    "import math\n",
    "x = math.log(21)/math.log(6)\n",
    "print(x)"
   ]
  },
  {
   "cell_type": "code",
   "execution_count": 4,
   "metadata": {},
   "outputs": [
    {
     "name": "stdout",
     "output_type": "stream",
     "text": [
      "-0.9030899869919436\n"
     ]
    }
   ],
   "source": [
    "y = math.log(8)/math.log(0.1)\n",
    "print(y)"
   ]
  },
  {
   "cell_type": "code",
   "execution_count": 5,
   "metadata": {},
   "outputs": [
    {
     "name": "stdout",
     "output_type": "stream",
     "text": [
      "1.5842916944990488\n"
     ]
    }
   ],
   "source": [
    "z = math.log(89)/math.log(17)\n",
    "print(z)"
   ]
  },
  {
   "cell_type": "code",
   "execution_count": 6,
   "metadata": {},
   "outputs": [],
   "source": [
    "w = math.log(3) / math.log(5)"
   ]
  },
  {
   "cell_type": "code",
   "execution_count": 7,
   "metadata": {},
   "outputs": [
    {
     "name": "stdout",
     "output_type": "stream",
     "text": [
      "0.6826061944859854\n"
     ]
    }
   ],
   "source": [
    "print(w)"
   ]
  },
  {
   "cell_type": "code",
   "execution_count": null,
   "metadata": {},
   "outputs": [],
   "source": []
  }
 ],
 "metadata": {
  "kernelspec": {
   "display_name": "Python 3",
   "language": "python",
   "name": "python3"
  },
  "language_info": {
   "codemirror_mode": {
    "name": "ipython",
    "version": 3
   },
   "file_extension": ".py",
   "mimetype": "text/x-python",
   "name": "python",
   "nbconvert_exporter": "python",
   "pygments_lexer": "ipython3",
   "version": "3.6.4"
  }
 },
 "nbformat": 4,
 "nbformat_minor": 2
}
