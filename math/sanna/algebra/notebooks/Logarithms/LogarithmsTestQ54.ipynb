{
 "cells": [
  {
   "cell_type": "markdown",
   "metadata": {},
   "source": [
    "### Finding the Product of 1,230,000 and $$ 0.4 \\times 10^{-8} $$  "
   ]
  },
  {
   "cell_type": "markdown",
   "metadata": {},
   "source": [
    "The first thing we need to do is we need to convert the first number into scientific notation. \n",
    "\n",
    "We can do this by simply saying:\n",
    "\n",
    "$$ 1,230,000 \\rightarrow 1.23 \\times 10^{6} $$ "
   ]
  },
  {
   "cell_type": "markdown",
   "metadata": {},
   "source": [
    "Then we put the numbers side by side \n",
    "\n",
    "$$ (1.23 \\times 10^{6} ) * (0.4 \\times 10^{-8} ) $$ \n",
    "\n",
    "$$ (1.23 * 0.4) \\times (10^{6 - 8}) $$ "
   ]
  },
  {
   "cell_type": "code",
   "execution_count": 1,
   "metadata": {},
   "outputs": [
    {
     "data": {
      "text/plain": [
       "0.492"
      ]
     },
     "execution_count": 1,
     "metadata": {},
     "output_type": "execute_result"
    }
   ],
   "source": [
    "1.23 * 0.4"
   ]
  },
  {
   "cell_type": "markdown",
   "metadata": {},
   "source": [
    "We need to change this first product into scientific notation. \n",
    "\n",
    "$$ 0.492 \\rightarrow 4.92 \\times 10^{-1} $$ "
   ]
  },
  {
   "cell_type": "markdown",
   "metadata": {},
   "source": [
    "To get the final answer, we just have to account for the $$ 10^{-2} $$  that comes from the base 10s of the product. \n",
    "\n",
    "$$ 4.92 \\times 10^{-3} $$ "
   ]
  },
  {
   "cell_type": "code",
   "execution_count": null,
   "metadata": {},
   "outputs": [],
   "source": []
  }
 ],
 "metadata": {
  "kernelspec": {
   "display_name": "Python 3",
   "language": "python",
   "name": "python3"
  },
  "language_info": {
   "codemirror_mode": {
    "name": "ipython",
    "version": 3
   },
   "file_extension": ".py",
   "mimetype": "text/x-python",
   "name": "python",
   "nbconvert_exporter": "python",
   "pygments_lexer": "ipython3",
   "version": "3.6.4"
  }
 },
 "nbformat": 4,
 "nbformat_minor": 2
}
