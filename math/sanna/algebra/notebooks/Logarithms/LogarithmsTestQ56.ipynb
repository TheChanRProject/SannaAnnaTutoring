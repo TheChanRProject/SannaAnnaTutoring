{
 "cells": [
  {
   "cell_type": "markdown",
   "metadata": {},
   "source": [
    "### Number of Hours in One Year "
   ]
  },
  {
   "cell_type": "markdown",
   "metadata": {},
   "source": [
    "Take the product of the three quantities listed in scientific notation:\n",
    "\n",
    "$$ 1 h = 3.6 \\times 10^3 s $$\n",
    "\n",
    "$$ 1 d = 2.4 \\times 10^1 h $$ \n",
    "\n",
    "$$ 1 y = 3.65 \\times 10^2 d $$ \n",
    "\n",
    "\n",
    "Product:\n",
    "\n",
    "$$ (3.65 \\times 10^2) * (2.4 \\times 10^1) * (3.6 \\times 10^3) $$ \n",
    "\n"
   ]
  },
  {
   "cell_type": "code",
   "execution_count": 1,
   "metadata": {},
   "outputs": [
    {
     "data": {
      "text/plain": [
       "31.536"
      ]
     },
     "execution_count": 1,
     "metadata": {},
     "output_type": "execute_result"
    }
   ],
   "source": [
    "3.65 * 2.4 * 3.6 "
   ]
  },
  {
   "cell_type": "markdown",
   "metadata": {},
   "source": [
    "$$ 3.1536 \\times 10^{-1 + 6} \\rightarrow 3.1536 \\times 10^5 seconds $$ "
   ]
  },
  {
   "cell_type": "code",
   "execution_count": null,
   "metadata": {},
   "outputs": [],
   "source": []
  }
 ],
 "metadata": {
  "kernelspec": {
   "display_name": "Python 3",
   "language": "python",
   "name": "python3"
  },
  "language_info": {
   "codemirror_mode": {
    "name": "ipython",
    "version": 3
   },
   "file_extension": ".py",
   "mimetype": "text/x-python",
   "name": "python",
   "nbconvert_exporter": "python",
   "pygments_lexer": "ipython3",
   "version": "3.6.4"
  }
 },
 "nbformat": 4,
 "nbformat_minor": 2
}
