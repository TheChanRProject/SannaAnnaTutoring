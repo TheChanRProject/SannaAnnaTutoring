{
 "cells": [
  {
   "cell_type": "markdown",
   "metadata": {},
   "source": [
    "### Boffo Product Company Problem "
   ]
  },
  {
   "cell_type": "markdown",
   "metadata": {},
   "source": [
    "A.\n",
    "\n",
    "How long should the company warranty the waffle iron for if they want no more than 6.7% of the waffle irons to fall within that time?\n",
    "\n"
   ]
  },
  {
   "cell_type": "markdown",
   "metadata": {},
   "source": [
    "If the company wants no more than 6.7% of the waffle irons to fall within the warranty period, that means 100% - 6.7% is how much of the waffle irons should be spanned by the normal distributon. \n",
    "\n",
    "$$ 100 - 6.7 = 93.3  $$ "
   ]
  },
  {
   "cell_type": "markdown",
   "metadata": {},
   "source": [
    "93.3 falls under 2 standard deviations away from the mean so we can calculate the warranty duration to be \n",
    "\n",
    "$$ \\mu + 2\\sigma $$ "
   ]
  },
  {
   "cell_type": "markdown",
   "metadata": {},
   "source": [
    "$$ \\mu = 12 $$\n",
    "\n",
    "$$ \\sigma = 0.667 $$ "
   ]
  },
  {
   "cell_type": "code",
   "execution_count": 1,
   "metadata": {},
   "outputs": [
    {
     "name": "stdout",
     "output_type": "stream",
     "text": [
      "13.334\n"
     ]
    }
   ],
   "source": [
    "warranty = 12 + 2*(0.667)\n",
    "print(warranty)"
   ]
  },
  {
   "cell_type": "markdown",
   "metadata": {},
   "source": [
    "The warranty should last 1 year and 4 months. "
   ]
  },
  {
   "cell_type": "markdown",
   "metadata": {},
   "source": [
    "B. \n",
    "\n",
    "Since the company's cost per waffle iron is 13 dollars to make, if they sell each waffle iron at 18 dollars, then they are consistently making 5 dollars per waffle iron so the expected value considering that no waffle irons will fail during the warranty period would be a gain of 5 dollars. "
   ]
  },
  {
   "cell_type": "code",
   "execution_count": null,
   "metadata": {},
   "outputs": [],
   "source": []
  }
 ],
 "metadata": {
  "kernelspec": {
   "display_name": "Python 3",
   "language": "python",
   "name": "python3"
  },
  "language_info": {
   "codemirror_mode": {
    "name": "ipython",
    "version": 3
   },
   "file_extension": ".py",
   "mimetype": "text/x-python",
   "name": "python",
   "nbconvert_exporter": "python",
   "pygments_lexer": "ipython3",
   "version": "3.6.4"
  }
 },
 "nbformat": 4,
 "nbformat_minor": 2
}
