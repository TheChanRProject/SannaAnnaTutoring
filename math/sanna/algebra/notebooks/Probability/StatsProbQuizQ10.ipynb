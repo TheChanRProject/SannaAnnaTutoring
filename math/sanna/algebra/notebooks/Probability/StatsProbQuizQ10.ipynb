{
 "cells": [
  {
   "cell_type": "markdown",
   "metadata": {},
   "source": [
    "## Fair Game "
   ]
  },
  {
   "cell_type": "markdown",
   "metadata": {},
   "source": [
    "Coin Flipped 4 Times Sample Space:\n",
    "\n",
    "HHHH, THHH, TTHH, TTTH, TTTT, HTHH, HTTH, HTTT, HTHT, HHTH, HHTT, HHHT, THTH, THHT, TTHT, THTT"
   ]
  },
  {
   "cell_type": "code",
   "execution_count": 9,
   "metadata": {},
   "outputs": [
    {
     "name": "stdout",
     "output_type": "stream",
     "text": [
      "-1.0625\n",
      "-2.0625\n",
      "1.9375\n",
      "2.9375\n"
     ]
    }
   ],
   "source": [
    "coinDict = {'1 head': 4, '2 heads': 6, '3 heads': 4, '4 heads': 1}\n",
    "\n",
    "p = [i / 16 for i in list(coinDict.values())]\n",
    "\n",
    "def cost(P):\n",
    "    v = [1,2,4,P]\n",
    "    for i in p:\n",
    "        e = [i*j for j in v]\n",
    "    return sum(e) \n",
    "\n",
    "print(cost(-24))\n",
    "print(cost(-40))\n",
    "print(cost(24))\n",
    "print(cost(40))"
   ]
  },
  {
   "cell_type": "code",
   "execution_count": null,
   "metadata": {},
   "outputs": [],
   "source": []
  }
 ],
 "metadata": {
  "kernelspec": {
   "display_name": "Python 3",
   "language": "python",
   "name": "python3"
  },
  "language_info": {
   "codemirror_mode": {
    "name": "ipython",
    "version": 3
   },
   "file_extension": ".py",
   "mimetype": "text/x-python",
   "name": "python",
   "nbconvert_exporter": "python",
   "pygments_lexer": "ipython3",
   "version": "3.6.4"
  }
 },
 "nbformat": 4,
 "nbformat_minor": 2
}
