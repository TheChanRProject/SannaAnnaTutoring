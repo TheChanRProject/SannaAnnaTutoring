{
 "cells": [
  {
   "cell_type": "markdown",
   "metadata": {},
   "source": [
    "### The Board Game Problem "
   ]
  },
  {
   "cell_type": "markdown",
   "metadata": {},
   "source": [
    "We have to find the expected value of a board game which involves rolling of a cube where the number that the cube lands on determines how many points are earned or lost. \n",
    "\n",
    "To calculate the expected value in this situation, we can use the following form:\n",
    "\n",
    "$$ E = p_1v_1 + p_2v_2 + p_3v_3 + p_4v_4 + p_5v_5 + p_6v_6 $$ "
   ]
  },
  {
   "cell_type": "code",
   "execution_count": 5,
   "metadata": {},
   "outputs": [
    {
     "name": "stdout",
     "output_type": "stream",
     "text": [
      "0.0\n"
     ]
    }
   ],
   "source": [
    "prob = 1/6\n",
    "v = [0,40,40,-60,40,-60]\n",
    "E = prob*sum(v)\n",
    "print(E)"
   ]
  },
  {
   "cell_type": "markdown",
   "metadata": {},
   "source": [
    "To be more exact:\n",
    "\n",
    "$$ E = (1/6) * (0 + 40 + 40 -60 + 40 - 60) $$"
   ]
  }
 ],
 "metadata": {
  "kernelspec": {
   "display_name": "Python 3",
   "language": "python",
   "name": "python3"
  },
  "language_info": {
   "codemirror_mode": {
    "name": "ipython",
    "version": 3
   },
   "file_extension": ".py",
   "mimetype": "text/x-python",
   "name": "python",
   "nbconvert_exporter": "python",
   "pygments_lexer": "ipython3",
   "version": "3.6.4"
  }
 },
 "nbformat": 4,
 "nbformat_minor": 2
}
