{
 "cells": [
  {
   "cell_type": "code",
   "execution_count": 1,
   "metadata": {},
   "outputs": [],
   "source": [
    "import numpy as np\n",
    "from numpy import math as m\n",
    "from sympy import *"
   ]
  },
  {
   "cell_type": "markdown",
   "metadata": {},
   "source": [
    "### Consider the following expression "
   ]
  },
  {
   "cell_type": "markdown",
   "metadata": {},
   "source": [
    "## $$ (1+x)^n $$ "
   ]
  },
  {
   "cell_type": "markdown",
   "metadata": {},
   "source": [
    "A) Use the Binomial Theorem to find the first four terms of this polynomial. "
   ]
  },
  {
   "cell_type": "markdown",
   "metadata": {},
   "source": [
    "Essentially we are trying to expand \n",
    "\n",
    "$$ (1+x)^4 $$ "
   ]
  },
  {
   "cell_type": "markdown",
   "metadata": {},
   "source": [
    "To expand this, we need to make use of the Binomial Theorem which is:\n",
    "\n",
    "$$ (x+y)^n = C(n, r - 1) x^n y^{n-r} $$ \n",
    "\n",
    "For this problem:\n",
    "\n",
    "$$ (x+1)^4 = C(4,0) x^4 + C(4,1) x^3 1^1 + C(4,2) x^2 1^2 + C(4,3) x^1 1^3 + C(4,4) x^0 1^4 $$ "
   ]
  },
  {
   "cell_type": "code",
   "execution_count": 2,
   "metadata": {},
   "outputs": [
    {
     "name": "stdout",
     "output_type": "stream",
     "text": [
      "1.0\n",
      "4.0\n",
      "6.0\n",
      "4.0\n",
      "1.0\n"
     ]
    }
   ],
   "source": [
    "def C(n,r):\n",
    "    return m.factorial(n) / (m.factorial(r) * m.factorial(n-r))\n",
    "\n",
    "print(C(4,0))\n",
    "print(C(4,1))\n",
    "print(C(4,2))\n",
    "print(C(4,3))\n",
    "print(C(4,4))"
   ]
  },
  {
   "cell_type": "markdown",
   "metadata": {},
   "source": [
    "$$ (x+1)^4 = x^4 + 4x^3 + 6x^2 + 4x + 1 $$ "
   ]
  },
  {
   "cell_type": "code",
   "execution_count": 6,
   "metadata": {},
   "outputs": [
    {
     "name": "stdout",
     "output_type": "stream",
     "text": [
      "x**4 + 4*x**3 + 6*x**2 + 4*x + 1\n"
     ]
    }
   ],
   "source": [
    "x,y = symbols('x y')\n",
    "def binomialExpansion(x: symbol, y: symbol, p: int, operator: str):\n",
    "    if operator == \"+\":\n",
    "        formula = (x+y)**p\n",
    "    elif operator == \"-\":\n",
    "        formula = (x-y)**p\n",
    "    else:\n",
    "        formula = None \n",
    "    return formula.expand()\n",
    "\n",
    "print(binomialExpansion(x,1,4,\"+\"))\n"
   ]
  },
  {
   "cell_type": "markdown",
   "metadata": {},
   "source": [
    "B) Why is 1 + nx a good approximation of this expression when x is less than 1? \n",
    "\n"
   ]
  },
  {
   "cell_type": "markdown",
   "metadata": {},
   "source": [
    "Using code, it's possible to test out this approximation numerically in order to come up with a reason as to why 1 + nx is a good approximation of the expression when x < 1."
   ]
  },
  {
   "cell_type": "code",
   "execution_count": 18,
   "metadata": {},
   "outputs": [
    {
     "name": "stdout",
     "output_type": "stream",
     "text": [
      "[256.      81.      16.       1.       0.       1.       1.4641   2.0736\n",
      "   3.8416  10.4976]\n",
      "[-19.  -15.  -11.   -7.   -3.    1.    1.4   1.8   2.6   4.2]\n"
     ]
    }
   ],
   "source": [
    "def row4(x):\n",
    "    return x**4 + 4*x**3 + 6*x**2 + 4*x + 1\n",
    "\n",
    "xV = np.array([-5,-4,-3,-2,-1,0, 0.1, 0.2, 0.4, 0.8])\n",
    "yV = row4(xV)\n",
    "print(yV)\n",
    "\n",
    "def row4approx(x):\n",
    "    return 1 + 4*x\n",
    "yVApprox = row4approx(xV)\n",
    "print(yVApprox)"
   ]
  },
  {
   "cell_type": "markdown",
   "metadata": {},
   "source": [
    "From the comparison of both the original expansion on numbers less than 0 and the approximation, it seen that the only time when 1 + nx is a good approximation of the expression is when x = 0 and loses accuracy when x is between 0 and 1. From this numerical comparison, I would say that 1 + nx is not a good approximation of the expression when x is less than 1. "
   ]
  },
  {
   "cell_type": "code",
   "execution_count": 24,
   "metadata": {},
   "outputs": [
    {
     "name": "stdout",
     "output_type": "stream",
     "text": [
      "-x^5 + 10*x^4 - 40*x^3 + 80*x^2 - 80*x + 32\n"
     ]
    }
   ],
   "source": [
    "print(str(binomialExpansion(2,x,5,\"-\")).replace(\"**\",\"^\"))"
   ]
  },
  {
   "cell_type": "markdown",
   "metadata": {},
   "source": [
    "$$ -x^5 + 10*x^4 - 40*x^3 + 80*x^2 - 80*x + 32 $$ "
   ]
  },
  {
   "cell_type": "code",
   "execution_count": 20,
   "metadata": {},
   "outputs": [
    {
     "name": "stdout",
     "output_type": "stream",
     "text": [
      "64*x**6 - 576*x**5 + 2160*x**4 - 4320*x**3 + 4860*x**2 - 2916*x + 729\n"
     ]
    }
   ],
   "source": [
    "print(binomialExpansion(3,2*x,6,\"-\"))"
   ]
  },
  {
   "cell_type": "code",
   "execution_count": null,
   "metadata": {},
   "outputs": [],
   "source": []
  }
 ],
 "metadata": {
  "kernelspec": {
   "display_name": "Python 3",
   "language": "python",
   "name": "python3"
  },
  "language_info": {
   "codemirror_mode": {
    "name": "ipython",
    "version": 3
   },
   "file_extension": ".py",
   "mimetype": "text/x-python",
   "name": "python",
   "nbconvert_exporter": "python",
   "pygments_lexer": "ipython3",
   "version": "3.6.4"
  }
 },
 "nbformat": 4,
 "nbformat_minor": 2
}
