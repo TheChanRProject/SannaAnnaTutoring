{
 "cells": [
  {
   "cell_type": "markdown",
   "metadata": {},
   "source": [
    "### The Lottery Problem "
   ]
  },
  {
   "cell_type": "markdown",
   "metadata": {},
   "source": [
    "$$ E = p_1v_1 + p_2v_2 + p_3v_3 $$ "
   ]
  },
  {
   "cell_type": "markdown",
   "metadata": {},
   "source": [
    "$$ p_1 = \\frac{1}{100} * \\frac{99}{100} * \\frac{99}{100} $$ \n",
    "$$ p_2 = \\frac{1}{100} * \\frac{1}{100} * \\frac{99}{100} $$ \n",
    "$$ p_3 = \\frac{1}{100} * \\frac{1}{100} * \\frac{1}{100} $$ \n",
    "\n"
   ]
  },
  {
   "cell_type": "markdown",
   "metadata": {},
   "source": [
    "$$ v_1 = 200 $$ \n",
    "\n",
    "$$ v_2 = 5000 $$ \n",
    "\n",
    "$$ v_3 = 100,000 $$ "
   ]
  },
  {
   "cell_type": "code",
   "execution_count": 1,
   "metadata": {},
   "outputs": [
    {
     "name": "stdout",
     "output_type": "stream",
     "text": [
      "2.5552\n"
     ]
    }
   ],
   "source": [
    "p1 = (1/100) * (99/100) * (99/100)\n",
    "p2 = (1/100) * (1/100) * (99/100)\n",
    "p3 = (1/100) * (1/100) * (1/100)\n",
    "\n",
    "v1 = 200\n",
    "v2 = 5000\n",
    "v3 = 100000\n",
    "\n",
    "E = p1*v1 + p2*v2 + p3*v3 \n",
    "\n",
    "print(E)"
   ]
  },
  {
   "cell_type": "markdown",
   "metadata": {},
   "source": [
    "$$ E \\approx 2.5552 $$\n",
    "\n",
    "On average, you can expect to gain 2.55 dollars. Due to this, the game is technically not fair, but it is in your favor. "
   ]
  }
 ],
 "metadata": {
  "kernelspec": {
   "display_name": "Python 3",
   "language": "python",
   "name": "python3"
  },
  "language_info": {
   "codemirror_mode": {
    "name": "ipython",
    "version": 3
   },
   "file_extension": ".py",
   "mimetype": "text/x-python",
   "name": "python",
   "nbconvert_exporter": "python",
   "pygments_lexer": "ipython3",
   "version": "3.6.4"
  }
 },
 "nbformat": 4,
 "nbformat_minor": 2
}
