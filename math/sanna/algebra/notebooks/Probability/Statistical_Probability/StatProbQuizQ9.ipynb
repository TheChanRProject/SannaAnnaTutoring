{
 "cells": [
  {
   "cell_type": "markdown",
   "metadata": {},
   "source": [
    "### Lottery Expected Value "
   ]
  },
  {
   "cell_type": "markdown",
   "metadata": {},
   "source": [
    "Expected Value:\n",
    "\n",
    "$$ E = p_1v_1 + p_2v_2 + p_3v_3 $$ \n",
    "\n",
    "$$ v = [100,5, -1] $$ \n",
    "\n",
    "$$ sampleSpace = [1,5,994] $$ \n",
    "\n",
    "$$ p = \\frac{sampleSpace[i]}{\\sum_{i=1}^{n}{sampleSpace}} $$ "
   ]
  },
  {
   "cell_type": "code",
   "execution_count": 1,
   "metadata": {},
   "outputs": [
    {
     "name": "stdout",
     "output_type": "stream",
     "text": [
      "-1.0\n"
     ]
    }
   ],
   "source": [
    "sampleSpace = [100,5,-1]\n",
    "\n",
    "p = [i / sum(sampleSpace) for i in sampleSpace]\n",
    "v = [100,5,-1]\n",
    "\n",
    "for i in p:\n",
    "    e = [i*j for j in v]\n",
    "print(sum(e))\n",
    "\n"
   ]
  },
  {
   "cell_type": "markdown",
   "metadata": {},
   "source": [
    "The expected value of a ticket is a negative dollar "
   ]
  }
 ],
 "metadata": {
  "kernelspec": {
   "display_name": "Python 3",
   "language": "python",
   "name": "python3"
  },
  "language_info": {
   "codemirror_mode": {
    "name": "ipython",
    "version": 3
   },
   "file_extension": ".py",
   "mimetype": "text/x-python",
   "name": "python",
   "nbconvert_exporter": "python",
   "pygments_lexer": "ipython3",
   "version": "3.6.4"
  }
 },
 "nbformat": 4,
 "nbformat_minor": 2
}
