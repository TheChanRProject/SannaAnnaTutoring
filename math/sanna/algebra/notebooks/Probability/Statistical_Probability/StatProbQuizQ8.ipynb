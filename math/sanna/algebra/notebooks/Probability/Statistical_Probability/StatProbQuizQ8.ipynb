{
 "cells": [
  {
   "cell_type": "markdown",
   "metadata": {},
   "source": [
    "### Is the Game Fair?"
   ]
  },
  {
   "cell_type": "markdown",
   "metadata": {},
   "source": [
    "#### If the expected value is equal to 0, then the game is fair. "
   ]
  },
  {
   "cell_type": "markdown",
   "metadata": {},
   "source": [
    "$$ E = p_1v_1 + p_2v_2 + p_3v_3 $$\n",
    "\n",
    "$$ p_i = \\frac{n_i}{\\sum_{i=1}^{n}{n_i}} $$ \n",
    "\n",
    "$$ v_1 = + 15 $$\n",
    "\n",
    "$$ v_2 = 0 $$ \n",
    "\n",
    "$$ v_3 = - 15 $$ "
   ]
  },
  {
   "cell_type": "code",
   "execution_count": 6,
   "metadata": {},
   "outputs": [
    {
     "name": "stdout",
     "output_type": "stream",
     "text": [
      "-0.5999999999999996\n"
     ]
    }
   ],
   "source": [
    "tiles = {'red': 5, 'green': 11, 'blue': 4}\n",
    "\n",
    "tilesList = list(tiles.values())\n",
    "\n",
    "p = [i / sum(tilesList) for i in tilesList]\n",
    "\n",
    "points = [12,0,-15]\n",
    "\n",
    "for i in p:\n",
    "    e = [i*j for j in points]\n",
    "print(sum(e))"
   ]
  },
  {
   "cell_type": "markdown",
   "metadata": {},
   "source": [
    "According to the expected value, it seems that on average, the player would lose 0.60 points per game so the game is not in your favor and therefore is not fair. "
   ]
  }
 ],
 "metadata": {
  "kernelspec": {
   "display_name": "Python 3",
   "language": "python",
   "name": "python3"
  },
  "language_info": {
   "codemirror_mode": {
    "name": "ipython",
    "version": 3
   },
   "file_extension": ".py",
   "mimetype": "text/x-python",
   "name": "python",
   "nbconvert_exporter": "python",
   "pygments_lexer": "ipython3",
   "version": "3.6.4"
  }
 },
 "nbformat": 4,
 "nbformat_minor": 2
}
