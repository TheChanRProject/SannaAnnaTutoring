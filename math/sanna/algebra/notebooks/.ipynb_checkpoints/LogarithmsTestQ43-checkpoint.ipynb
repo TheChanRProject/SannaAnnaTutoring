{
 "cells": [
  {
   "cell_type": "markdown",
   "metadata": {},
   "source": [
    "We can see the transformation visually from $ f(x) = 3^x $ to $ 3^{x-1} - 5 $ "
   ]
  },
  {
   "cell_type": "markdown",
   "metadata": {},
   "source": [
    "There is an inverse so that's why the graph orients over the y-axis and then moves to the right by one unit and down by 5 units. \n",
    "\n",
    "We can see a graphical presentation of this."
   ]
  },
  {
   "cell_type": "code",
   "execution_count": 6,
   "metadata": {},
   "outputs": [
    {
     "data": {
      "image/png": "[encoded data removed]",
      "text/plain": [
       "<matplotlib.figure.Figure at 0x10f9e16a0>"
      ]
     },
     "metadata": {},
     "output_type": "display_data"
    }
   ],
   "source": [
    "%matplotlib inline\n",
    "import numpy as np\n",
    "import matplotlib.pyplot as plt \n",
    "\n",
    "def logTransform(a,x,h,k):\n",
    "    if a >= 0: \n",
    "        return pow(3,a*x - h) + k\n",
    "    else:\n",
    "        return (1/pow(3, abs(a)*x - h)) + k\n",
    "\n",
    "\n",
    "\n",
    "xVals = np.arange(0,5, 0.1)\n",
    "func1Vals = logTransform(1,xVals,0,0)\n",
    "func2Vals = logTransform(-1,xVals,-1,5)\n",
    "\n",
    "plt.plot(xVals,func1Vals, 'r')\n",
    "plt.plot(xVals, func2Vals, 'g')\n",
    "plt.show()"
   ]
  },
  {
   "cell_type": "code",
   "execution_count": null,
   "metadata": {},
   "outputs": [],
   "source": []
  }
 ],
 "metadata": {
  "kernelspec": {
   "display_name": "Python 3",
   "language": "python",
   "name": "python3"
  },
  "language_info": {
   "codemirror_mode": {
    "name": "ipython",
    "version": 3
   },
   "file_extension": ".py",
   "mimetype": "text/x-python",
   "name": "python",
   "nbconvert_exporter": "python",
   "pygments_lexer": "ipython3",
   "version": "3.6.4"
  }
 },
 "nbformat": 4,
 "nbformat_minor": 2
}
