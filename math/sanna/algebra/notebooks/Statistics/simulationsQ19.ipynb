{
 "cells": [
  {
   "cell_type": "markdown",
   "metadata": {},
   "source": [
    "$$ \\bar{X} = \\frac{250}{40} = 6.25 $$ "
   ]
  },
  {
   "cell_type": "markdown",
   "metadata": {},
   "source": [
    "$$ \\sigma = \\sqrt{\\frac{(4-6.25)^2 + (1 - 6.25)^2 + (9 - 6.25)^2}{3}} $$ "
   ]
  },
  {
   "cell_type": "code",
   "execution_count": 1,
   "metadata": {},
   "outputs": [
    {
     "name": "stdout",
     "output_type": "stream",
     "text": [
      "5.0625\n",
      "27.5625\n",
      "7.5625\n"
     ]
    }
   ],
   "source": [
    "samples = [4,1,9]\n",
    "mean = 6.25\n",
    "\n",
    "for i in samples:\n",
    "    print((i - mean)**2)"
   ]
  },
  {
   "cell_type": "markdown",
   "metadata": {},
   "source": [
    "$$ \\sigma = \\sqrt{\\frac{5.0625 + 27.5625 + 7.5625}{3}} $$ "
   ]
  },
  {
   "cell_type": "code",
   "execution_count": 2,
   "metadata": {},
   "outputs": [
    {
     "name": "stdout",
     "output_type": "stream",
     "text": [
      "40.1875\n"
     ]
    }
   ],
   "source": [
    "sumSqDif = sum([(i - mean)**2 for i in samples])\n",
    "print(sumSqDif)"
   ]
  },
  {
   "cell_type": "markdown",
   "metadata": {},
   "source": [
    "$$ \\sigma = \\sqrt{\\frac{40.1875}{3}} $$ \n"
   ]
  },
  {
   "cell_type": "code",
   "execution_count": 3,
   "metadata": {},
   "outputs": [
    {
     "name": "stdout",
     "output_type": "stream",
     "text": [
      "3.660031875999625\n"
     ]
    }
   ],
   "source": [
    "import math as m \n",
    "\n",
    "print(m.sqrt(40.1875/3))"
   ]
  },
  {
   "cell_type": "markdown",
   "metadata": {},
   "source": [
    "$$ \\sigma \\approx 3.660 $$ "
   ]
  },
  {
   "cell_type": "code",
   "execution_count": 4,
   "metadata": {},
   "outputs": [
    {
     "name": "stdout",
     "output_type": "stream",
     "text": [
      "(0.24760000000000026, 12.2524)\n",
      "(-0.9236000000000004, 13.4236)\n",
      "(-3.1562, 15.6562)\n"
     ]
    }
   ],
   "source": [
    "def conf(m,std, t:str):\n",
    "    if t == \"99\":\n",
    "        interval = (m - 2.57*std, m + 2.57*std)\n",
    "    elif t == \"95\":\n",
    "        interval = (m - 1.96*std, m + 1.96*std)\n",
    "    elif t == \"90\":\n",
    "        interval = (m - 1.64*std, m + 1.64*std)\n",
    "    else:\n",
    "        interval = None\n",
    "    return interval \n",
    "\n",
    "print(conf(6.25,3.66,'90'))\n",
    "print(conf(6.25,3.66,'95'))\n",
    "print(conf(6.25,3.66,'99'))"
   ]
  },
  {
   "cell_type": "markdown",
   "metadata": {},
   "source": [
    "According to the confidence intervals, 90% confidence with a margin of error of 5% seems to be reasonable for the samples. "
   ]
  }
 ],
 "metadata": {
  "kernelspec": {
   "display_name": "Python 3",
   "language": "python",
   "name": "python3"
  },
  "language_info": {
   "codemirror_mode": {
    "name": "ipython",
    "version": 3
   },
   "file_extension": ".py",
   "mimetype": "text/x-python",
   "name": "python",
   "nbconvert_exporter": "python",
   "pygments_lexer": "ipython3",
   "version": "3.6.4"
  }
 },
 "nbformat": 4,
 "nbformat_minor": 2
}
