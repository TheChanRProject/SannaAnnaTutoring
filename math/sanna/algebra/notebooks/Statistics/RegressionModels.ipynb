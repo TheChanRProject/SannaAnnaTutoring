{
 "cells": [
  {
   "cell_type": "code",
   "execution_count": 1,
   "metadata": {},
   "outputs": [
    {
     "data": {
      "image/png": "[encoded data removed]",
      "text/plain": [
       "<matplotlib.figure.Figure at 0x1044fc160>"
      ]
     },
     "metadata": {},
     "output_type": "display_data"
    }
   ],
   "source": [
    "%matplotlib inline\n",
    "import numpy as np\n",
    "import matplotlib.pyplot as plt\n",
    "\n",
    "# function\n",
    "\n",
    "def func1(x):\n",
    "    return x**2 - 2*x - 3\n",
    "\n",
    "x = np.array([-1,1,2,4,5])\n",
    "y = np.array([0,-4, -3, 5, 12])\n",
    "y1 = func1(x)\n",
    "\n",
    "# plot \n",
    "\n",
    "plt.plot(x,y,'r')\n",
    "plt.plot(x,y1,'g')\n",
    "plt.show()"
   ]
  },
  {
   "cell_type": "code",
   "execution_count": 3,
   "metadata": {},
   "outputs": [
    {
     "data": {
      "image/png": "[encoded data removed]",
      "text/plain": [
       "<matplotlib.figure.Figure at 0x1044fde48>"
      ]
     },
     "metadata": {},
     "output_type": "display_data"
    }
   ],
   "source": [
    "# Question 3 \n",
    "\n",
    "x2 = np.array([-2,0,1,3,5])\n",
    "y3 = np.array([-9,-3,0,6,12])\n",
    "\n",
    "# function\n",
    "\n",
    "def func2(x):\n",
    "    return 3*x - 3 \n",
    "\n",
    "y4 = func2(x2)\n",
    "# plot\n",
    "\n",
    "plt.plot(x2,y3,'g')\n",
    "plt.plot(x2,y4,'m')\n",
    "plt.show()"
   ]
  },
  {
   "cell_type": "code",
   "execution_count": 11,
   "metadata": {},
   "outputs": [
    {
     "ename": "ValueError",
     "evalue": "The truth value of an array with more than one element is ambiguous. Use a.any() or a.all()",
     "output_type": "error",
     "traceback": [
      "\u001b[0;31m---------------------------------------------------------------------------\u001b[0m",
      "\u001b[0;31mValueError\u001b[0m                                Traceback (most recent call last)",
      "\u001b[0;32m<ipython-input-11-c24622933e1b>\u001b[0m in \u001b[0;36m<module>\u001b[0;34m()\u001b[0m\n\u001b[1;32m     22\u001b[0m \u001b[0myLRL2\u001b[0m \u001b[0;34m=\u001b[0m \u001b[0mlinReg2\u001b[0m\u001b[0;34m(\u001b[0m\u001b[0mxL\u001b[0m\u001b[0;34m)\u001b[0m\u001b[0;34m\u001b[0m\u001b[0m\n\u001b[1;32m     23\u001b[0m \u001b[0myLQR\u001b[0m \u001b[0;34m=\u001b[0m \u001b[0mquadReg\u001b[0m\u001b[0;34m(\u001b[0m\u001b[0mxL\u001b[0m\u001b[0;34m)\u001b[0m\u001b[0;34m\u001b[0m\u001b[0m\n\u001b[0;32m---> 24\u001b[0;31m \u001b[0myLER\u001b[0m \u001b[0;34m=\u001b[0m \u001b[0mexpReg\u001b[0m\u001b[0;34m(\u001b[0m\u001b[0mxL\u001b[0m\u001b[0;34m)\u001b[0m\u001b[0;34m\u001b[0m\u001b[0m\n\u001b[0m\u001b[1;32m     25\u001b[0m \u001b[0mplt\u001b[0m\u001b[0;34m.\u001b[0m\u001b[0mplot\u001b[0m\u001b[0;34m(\u001b[0m\u001b[0mxL\u001b[0m\u001b[0;34m,\u001b[0m\u001b[0myL\u001b[0m\u001b[0;34m,\u001b[0m\u001b[0;34m'g-o'\u001b[0m\u001b[0;34m)\u001b[0m\u001b[0;34m\u001b[0m\u001b[0m\n\u001b[1;32m     26\u001b[0m \u001b[0mplt\u001b[0m\u001b[0;34m.\u001b[0m\u001b[0mplot\u001b[0m\u001b[0;34m(\u001b[0m\u001b[0mxL\u001b[0m\u001b[0;34m,\u001b[0m\u001b[0myLRL\u001b[0m\u001b[0;34m,\u001b[0m\u001b[0;34m'r-o'\u001b[0m\u001b[0;34m)\u001b[0m\u001b[0;34m\u001b[0m\u001b[0m\n",
      "\u001b[0;32m<ipython-input-8-52a6ee63904f>\u001b[0m in \u001b[0;36mexpReg\u001b[0;34m(x)\u001b[0m\n\u001b[1;32m     20\u001b[0m \u001b[0;34m\u001b[0m\u001b[0m\n\u001b[1;32m     21\u001b[0m \u001b[0;32mdef\u001b[0m \u001b[0mexpReg\u001b[0m\u001b[0;34m(\u001b[0m\u001b[0mx\u001b[0m\u001b[0;34m)\u001b[0m\u001b[0;34m:\u001b[0m\u001b[0;34m\u001b[0m\u001b[0m\n\u001b[0;32m---> 22\u001b[0;31m     \u001b[0;32mif\u001b[0m \u001b[0mx\u001b[0m \u001b[0;34m<\u001b[0m \u001b[0;36m0\u001b[0m\u001b[0;34m:\u001b[0m\u001b[0;34m\u001b[0m\u001b[0m\n\u001b[0m\u001b[1;32m     23\u001b[0m         \u001b[0mcaptcha\u001b[0m \u001b[0;34m=\u001b[0m \u001b[0;36m0\u001b[0m\u001b[0;34m\u001b[0m\u001b[0m\n\u001b[1;32m     24\u001b[0m     \u001b[0;32melse\u001b[0m\u001b[0;34m:\u001b[0m\u001b[0;34m\u001b[0m\u001b[0m\n",
      "\u001b[0;31mValueError\u001b[0m: The truth value of an array with more than one element is ambiguous. Use a.any() or a.all()"
     ]
    }
   ],
   "source": [
    "xL = np.array([-2,0,1,3,5])\n",
    "yL = np.array([0.25,0.5,2,6,12])\n",
    "\n",
    "# Linear Reg Model \n",
    "\n",
    "def linReg(x):\n",
    "    return -x**2 + 2*x - 3\n",
    "\n",
    "# Linear Reg Model 2 \n",
    "\n",
    "def linReg2(x):\n",
    "    return x + 0.5\n",
    "\n",
    "# Quadratic Reg Model \n",
    "\n",
    "def quadReg(x):\n",
    "    return -x**3 + x + 1 \n",
    "\n",
    "\n",
    "\n",
    "yLRL = linReg(xL)\n",
    "yLRL2 = linReg2(xL)\n",
    "yLQR = quadReg(xL)\n",
    "yLER = expReg(xL)\n",
    "plt.plot(xL,yL,'g-o')\n",
    "plt.plot(xL,yLRL,'r-o')\n",
    "plt.plot(xL,yLRL2, 'b-o')\n",
    "plt.plot(xL,yLQR, 'p-o')\n",
    "plt.show()"
   ]
  },
  {
   "cell_type": "code",
   "execution_count": null,
   "metadata": {},
   "outputs": [],
   "source": []
  }
 ],
 "metadata": {
  "kernelspec": {
   "display_name": "Python 3",
   "language": "python",
   "name": "python3"
  },
  "language_info": {
   "codemirror_mode": {
    "name": "ipython",
    "version": 3
   },
   "file_extension": ".py",
   "mimetype": "text/x-python",
   "name": "python",
   "nbconvert_exporter": "python",
   "pygments_lexer": "ipython3",
   "version": "3.6.4"
  }
 },
 "nbformat": 4,
 "nbformat_minor": 2
}
