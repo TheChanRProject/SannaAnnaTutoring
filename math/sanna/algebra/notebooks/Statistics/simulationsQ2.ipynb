{
 "cells": [
  {
   "cell_type": "markdown",
   "metadata": {},
   "source": [
    "A) According to the data presented at the three stores, the taste tests did not use random sampling. Let's start by talking about the Store A. If people entered the store and then went to the tasting table, then those people were selected as part of the survey. This method of sampling is convenience sampling which is definitely not random because a lot of the potential participants in the population are being dismissed from the sample. For the situation in Store B, we can see a clear bias in the sampling method because only teenagers and adults based on the perception of the researchers handling the survey were selected. A lot of the younger people in the population are not represented and therefore the sampling method is not random. For the case of Store C, it is leaning more towards random than the first two; however, it is still not random because there was no rule as to how the participants would be selected when it came to getting them to take part in the survey. "
   ]
  },
  {
   "cell_type": "markdown",
   "metadata": {},
   "source": [
    "B) To calculate the proportion of tasters who preferred each option, we simply take the number of sampled participants who preferred the local brand divided by the number of tasters in the sample. \n",
    "\n",
    "For the case of Store A this is calculated as:\n",
    "\n",
    "$$ \\frac{167}{258} $$\n",
    "\n",
    "For the case of Store B this is calculated as:\n",
    "\n",
    "$$ \\frac{151}{315} $$ \n",
    "\n",
    "For the case of Store C this is calculated as:\n",
    "\n",
    "$$ \\frac{90}{152} $$ "
   ]
  },
  {
   "cell_type": "code",
   "execution_count": 1,
   "metadata": {},
   "outputs": [
    {
     "data": {
      "text/plain": [
       "0.6472868217054264"
      ]
     },
     "execution_count": 1,
     "metadata": {},
     "output_type": "execute_result"
    }
   ],
   "source": [
    "167/258\n"
   ]
  },
  {
   "cell_type": "code",
   "execution_count": 2,
   "metadata": {},
   "outputs": [
    {
     "data": {
      "text/plain": [
       "0.4793650793650794"
      ]
     },
     "execution_count": 2,
     "metadata": {},
     "output_type": "execute_result"
    }
   ],
   "source": [
    "151/315"
   ]
  },
  {
   "cell_type": "code",
   "execution_count": 3,
   "metadata": {},
   "outputs": [
    {
     "data": {
      "text/plain": [
       "0.5921052631578947"
      ]
     },
     "execution_count": 3,
     "metadata": {},
     "output_type": "execute_result"
    }
   ],
   "source": [
    "90/152"
   ]
  },
  {
   "cell_type": "markdown",
   "metadata": {},
   "source": [
    "$$ Proportion_{A} \\approx 0.647 $$ \n",
    "$$ Proportion_{B} \\approx 0.479 $$ \n",
    "$$ Proportion_{C} \\approx 0.592 $$ "
   ]
  },
  {
   "cell_type": "code",
   "execution_count": null,
   "metadata": {},
   "outputs": [],
   "source": []
  }
 ],
 "metadata": {
  "kernelspec": {
   "display_name": "Python 3",
   "language": "python",
   "name": "python3"
  },
  "language_info": {
   "codemirror_mode": {
    "name": "ipython",
    "version": 3
   },
   "file_extension": ".py",
   "mimetype": "text/x-python",
   "name": "python",
   "nbconvert_exporter": "python",
   "pygments_lexer": "ipython3",
   "version": "3.6.4"
  }
 },
 "nbformat": 4,
 "nbformat_minor": 2
}
