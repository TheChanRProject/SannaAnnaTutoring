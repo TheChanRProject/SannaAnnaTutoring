{
 "cells": [
  {
   "cell_type": "markdown",
   "metadata": {},
   "source": [
    "Function for Chi-Square:\n",
    "\n",
    "$$ \\chi ^2 = \\sum{\\frac{(o -e)^2}{e}}$$ "
   ]
  },
  {
   "cell_type": "code",
   "execution_count": 2,
   "metadata": {},
   "outputs": [
    {
     "name": "stdout",
     "output_type": "stream",
     "text": [
      "2.6\n"
     ]
    }
   ],
   "source": [
    "def chiSq(x):\n",
    "    mean = sum(x) / len(x)\n",
    "    sqDifference = [(i-mean)**2 for i in x]\n",
    "    chiSquare = sum(sqDifference)/mean\n",
    "    return chiSquare\n",
    "print(chiSq([45,33,44,39,42,37]))"
   ]
  },
  {
   "cell_type": "code",
   "execution_count": 3,
   "metadata": {},
   "outputs": [
    {
     "data": {
      "text/plain": [
       "6.25"
      ]
     },
     "execution_count": 3,
     "metadata": {},
     "output_type": "execute_result"
    }
   ],
   "source": [
    "250 / 40"
   ]
  },
  {
   "cell_type": "code",
   "execution_count": 5,
   "metadata": {},
   "outputs": [
    {
     "name": "stdout",
     "output_type": "stream",
     "text": [
      "(32.12, 43.88)\n"
     ]
    }
   ],
   "source": [
    "def confidence95level(m,std):\n",
    "    return (m - 1.96*std, m + 1.96*std)\n",
    "print(confidence95level(38,3))"
   ]
  },
  {
   "cell_type": "code",
   "execution_count": 6,
   "metadata": {},
   "outputs": [
    {
     "name": "stdout",
     "output_type": "stream",
     "text": [
      "(20.9, 29.1)\n"
     ]
    }
   ],
   "source": [
    "def confidence90level(m, std):\n",
    "    return (m-1.64*std, m+1.64*std)\n",
    "print(confidence90level(25,2.5))"
   ]
  },
  {
   "cell_type": "code",
   "execution_count": 7,
   "metadata": {},
   "outputs": [
    {
     "name": "stdout",
     "output_type": "stream",
     "text": [
      "(352.16, 367.84)\n"
     ]
    }
   ],
   "source": [
    "print(confidence95level(360,4))"
   ]
  },
  {
   "cell_type": "code",
   "execution_count": 9,
   "metadata": {},
   "outputs": [
    {
     "name": "stdout",
     "output_type": "stream",
     "text": [
      "(0.44743, 0.45257000000000003)\n"
     ]
    }
   ],
   "source": [
    "def confidence99level(m,std):\n",
    "    return (m - 2.57*std, m+2.57*std)\n",
    "print(confidence99level(0.45,0.001))"
   ]
  },
  {
   "cell_type": "code",
   "execution_count": null,
   "metadata": {},
   "outputs": [],
   "source": []
  }
 ],
 "metadata": {
  "kernelspec": {
   "display_name": "Python 3",
   "language": "python",
   "name": "python3"
  },
  "language_info": {
   "codemirror_mode": {
    "name": "ipython",
    "version": 3
   },
   "file_extension": ".py",
   "mimetype": "text/x-python",
   "name": "python",
   "nbconvert_exporter": "python",
   "pygments_lexer": "ipython3",
   "version": "3.6.4"
  }
 },
 "nbformat": 4,
 "nbformat_minor": 2
}
