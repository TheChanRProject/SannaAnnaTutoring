{
 "cells": [
  {
   "cell_type": "markdown",
   "metadata": {},
   "source": [
    "Function for Chi-Square:\n",
    "\n",
    "$$ \\chi ^2 = \\sum{\\frac{(o -e)^2}{e}}$$ "
   ]
  },
  {
   "cell_type": "code",
   "execution_count": null,
   "metadata": {},
   "outputs": [],
   "source": [
    "def chiSq(x):\n",
    "    mean = sum(x) / len(x)\n",
    "    sqDifference = (i-mean)**2 for i in x\n",
    "    chiSquare = sum(sqDifference)/mean\n",
    "    return chiSquare\n",
    "chiSq([45,33,44,])"
   ]
  }
 ],
 "metadata": {
  "kernelspec": {
   "display_name": "Python 3",
   "language": "python",
   "name": "python3"
  },
  "language_info": {
   "codemirror_mode": {
    "name": "ipython",
    "version": 3
   },
   "file_extension": ".py",
   "mimetype": "text/x-python",
   "name": "python",
   "nbconvert_exporter": "python",
   "pygments_lexer": "ipython3",
   "version": "3.6.4"
  }
 },
 "nbformat": 4,
 "nbformat_minor": 2
}
