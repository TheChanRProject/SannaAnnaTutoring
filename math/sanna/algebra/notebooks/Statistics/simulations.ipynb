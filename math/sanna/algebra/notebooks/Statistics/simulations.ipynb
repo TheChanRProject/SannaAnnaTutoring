{
 "cells": [
  {
   "cell_type": "markdown",
   "metadata": {},
   "source": [
    "Function for Chi-Square:\n",
    "\n",
    "$$ \\chi ^2 = \\sum{\\frac{(o -e)^2}{e}}$$ "
   ]
  },
  {
   "cell_type": "code",
   "execution_count": 2,
   "metadata": {},
   "outputs": [
    {
     "name": "stdout",
     "output_type": "stream",
     "text": [
      "2.6\n"
     ]
    }
   ],
   "source": [
    "def chiSq(x):\n",
    "    mean = sum(x) / len(x)\n",
    "    sqDifference = [(i-mean)**2 for i in x]\n",
    "    chiSquare = sum(sqDifference)/mean\n",
    "    return chiSquare\n",
    "print(chiSq([45,33,44,39,42,37]))"
   ]
  },
  {
   "cell_type": "code",
   "execution_count": 3,
   "metadata": {},
   "outputs": [
    {
     "data": {
      "text/plain": [
       "6.25"
      ]
     },
     "execution_count": 3,
     "metadata": {},
     "output_type": "execute_result"
    }
   ],
   "source": [
    "250 / 40"
   ]
  },
  {
   "cell_type": "code",
   "execution_count": null,
   "metadata": {},
   "outputs": [],
   "source": []
  }
 ],
 "metadata": {
  "kernelspec": {
   "display_name": "Python 3",
   "language": "python",
   "name": "python3"
  },
  "language_info": {
   "codemirror_mode": {
    "name": "ipython",
    "version": 3
   },
   "file_extension": ".py",
   "mimetype": "text/x-python",
   "name": "python",
   "nbconvert_exporter": "python",
   "pygments_lexer": "ipython3",
   "version": "3.6.4"
  }
 },
 "nbformat": 4,
 "nbformat_minor": 2
}
