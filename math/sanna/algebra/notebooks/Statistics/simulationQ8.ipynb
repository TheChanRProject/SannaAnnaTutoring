{
 "cells": [
  {
   "cell_type": "markdown",
   "metadata": {},
   "source": [
    "## Chi-Square for Muffins "
   ]
  },
  {
   "cell_type": "markdown",
   "metadata": {},
   "source": [
    "The owner of a bakery wants to know whether customers have any preferences among 5 different flavors of muffin. A sample of 200 customers provided the data in the following list:\n",
    "\n"
   ]
  },
  {
   "cell_type": "code",
   "execution_count": 1,
   "metadata": {},
   "outputs": [],
   "source": [
    "muffinList = [30,52,38,36,44]"
   ]
  },
  {
   "cell_type": "markdown",
   "metadata": {},
   "source": [
    "To calculate the Chi-square statistic, we use the following formula:\n",
    "\n",
    "$$ \\chi ^2 = \\sum{\\frac{(o-e)^2}{e}} $$ \n",
    "\n",
    "o represents the observed value and e represents the expected population mean."
   ]
  },
  {
   "cell_type": "markdown",
   "metadata": {},
   "source": [
    "To calculate e, we sum the observations from each category of muffin and then divide by the number of categories.\n",
    "\n",
    "$$ e = \\frac{30 + 52 + 38 + 36 + 44}{5} $$ \n",
    "\n",
    "Simplified: \n",
    "\n",
    "$$ e = \\frac{200}{5} $$ "
   ]
  },
  {
   "cell_type": "code",
   "execution_count": 3,
   "metadata": {},
   "outputs": [
    {
     "name": "stdout",
     "output_type": "stream",
     "text": [
      "40.0\n"
     ]
    }
   ],
   "source": [
    "expectedMean = sum(muffinList) / len(muffinList)\n",
    "print(expectedMean)"
   ]
  },
  {
   "cell_type": "markdown",
   "metadata": {},
   "source": [
    "The next step is to take each observed value from each category, o, and then subtract it from e. We then square the differences and then take the sum of these squared differences. "
   ]
  },
  {
   "cell_type": "markdown",
   "metadata": {},
   "source": [
    "$$ \\chi ^2 = \\sum{\\frac{(o-40)^2}{40}} $$ \n",
    "\n",
    "Category Orange:\n",
    "\n",
    "$$ \\frac{(30-40)^2}{40} = \\frac{100}{40} $$ \n",
    "\n",
    "Category Blueberry:\n",
    "\n",
    "$$ \\frac{(52-40)^2}{40} = \\frac{144}{40} $$ \n",
    "\n",
    "Category Chocolate:\n",
    "\n",
    "$$ \\frac{(38-40)^2}{40} = \\frac{4}{40} $$ \n",
    "\n",
    "Category Vanilla:\n",
    "\n",
    "$$ \\frac{(36-40)^2}{40} = \\frac{16}{40} $$\n",
    "\n",
    "Category Vanilla and Raisins:\n",
    "\n",
    "$$ \\frac{(44-40)^2}{40} = \\frac{16}{40} $$ "
   ]
  },
  {
   "cell_type": "code",
   "execution_count": 5,
   "metadata": {},
   "outputs": [
    {
     "name": "stdout",
     "output_type": "stream",
     "text": [
      "100.0\n",
      "144.0\n",
      "4.0\n",
      "16.0\n",
      "16.0\n"
     ]
    }
   ],
   "source": [
    "for i in muffinList:\n",
    "    print((i - expectedMean)**2) "
   ]
  },
  {
   "cell_type": "code",
   "execution_count": 7,
   "metadata": {},
   "outputs": [
    {
     "name": "stdout",
     "output_type": "stream",
     "text": [
      "280\n"
     ]
    }
   ],
   "source": [
    "sqDifferences = [100,144,4,16,16] \n",
    "print(sum(sqDifferences))"
   ]
  },
  {
   "cell_type": "markdown",
   "metadata": {},
   "source": [
    "The next step is to take the sum of these squared differences: \n",
    "\n",
    "$$ \\chi ^2 = \\frac{100}{40} + \\frac{144}{40} + \\frac{4}{40} + \\frac{16}{40} + \\frac{16}{40} = \\frac{280}{40} $$ "
   ]
  },
  {
   "cell_type": "code",
   "execution_count": null,
   "metadata": {},
   "outputs": [],
   "source": []
  }
 ],
 "metadata": {
  "kernelspec": {
   "display_name": "Python 3",
   "language": "python",
   "name": "python3"
  },
  "language_info": {
   "codemirror_mode": {
    "name": "ipython",
    "version": 3
   },
   "file_extension": ".py",
   "mimetype": "text/x-python",
   "name": "python",
   "nbconvert_exporter": "python",
   "pygments_lexer": "ipython3",
   "version": "3.6.4"
  }
 },
 "nbformat": 4,
 "nbformat_minor": 2
}
