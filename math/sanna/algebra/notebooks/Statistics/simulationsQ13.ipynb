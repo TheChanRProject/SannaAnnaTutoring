{
 "cells": [
  {
   "cell_type": "markdown",
   "metadata": {},
   "source": [
    " ## Mean and Standard Deviation of Barcode Error Part 2"
   ]
  },
  {
   "cell_type": "markdown",
   "metadata": {},
   "source": [
    "The formula for calculating the mean is:\n",
    "\n",
    "$$ \\bar{X} = \\frac{\\sum_{1}^{n}{x_n}}{n} $$ \n",
    "\n",
    "The formula for calculating the standard deviation is:\n",
    "\n",
    "$$ \\sigma = \\sqrt{\\frac{(X - \\bar{X})^2}{n}} $$ "
   ]
  },
  {
   "cell_type": "code",
   "execution_count": 3,
   "metadata": {},
   "outputs": [],
   "source": [
    "barcodeErrors = [36,14,21,39,11,2, 33, 45, 34, 17, 1, 29]\n",
    "\n",
    "meanErrors = sum(barcodeErrors) / len(barcodeErrors)"
   ]
  },
  {
   "cell_type": "markdown",
   "metadata": {},
   "source": [
    "$$ \\bar{X_2} = \\frac{36+14+21+39+11+2 + 33 + 45 + 34 + 17 + 1 + 29}{12} $$ "
   ]
  },
  {
   "cell_type": "code",
   "execution_count": 4,
   "metadata": {},
   "outputs": [
    {
     "name": "stdout",
     "output_type": "stream",
     "text": [
      "23.5\n"
     ]
    }
   ],
   "source": [
    "print(meanErrors)"
   ]
  },
  {
   "cell_type": "markdown",
   "metadata": {},
   "source": [
    "$$ \\bar{X_2} = 23.5 $$ \n",
    "\n",
    "The new mean differs from the former mean as follows:\n",
    "\n",
    "$$ \\bar{X_2} - \\bar{X_1} = 23.5 - 20.5 = 3 $$ "
   ]
  },
  {
   "cell_type": "code",
   "execution_count": 5,
   "metadata": {},
   "outputs": [
    {
     "name": "stdout",
     "output_type": "stream",
     "text": [
      "156.25\n",
      "90.25\n",
      "6.25\n",
      "240.25\n",
      "156.25\n",
      "462.25\n",
      "90.25\n",
      "462.25\n",
      "110.25\n",
      "42.25\n",
      "506.25\n",
      "30.25\n"
     ]
    }
   ],
   "source": [
    "for i in barcodeErrors:\n",
    "    print((i-meanErrors)**2)"
   ]
  },
  {
   "cell_type": "markdown",
   "metadata": {},
   "source": [
    "$$ \\sigma_2 = \\sqrt{\\frac{(36-23.5)^2 + (14 - 23.5)^2 + (21 - 23.5)^2 + (39 - 23.5)^2 + (11 - 23.5)^2 + (2 - 23.5)^2 + (33 - 23.5)^2 + (45 - 23.5)^2 + (34 - 23.5)^2 + (17 - 23.5)^2 + (1 - 23.5)^2 + (29 - 23.5)^2}{12}} $$ \n",
    "\n",
    "$$ \\sigma_2 = \\sqrt{\\frac{156.25 + 90.25 + 6.25 + 240.25 + 156.25 + 462.25 + 90.25 + 462.25 + 110.25 + 42.25 + 506.25 + 30.25}{12}} $$ "
   ]
  },
  {
   "cell_type": "code",
   "execution_count": 9,
   "metadata": {},
   "outputs": [
    {
     "name": "stdout",
     "output_type": "stream",
     "text": [
      "2353.0\n"
     ]
    }
   ],
   "source": [
    "sqDif = [156.25 + 90.25 + 6.25 + 240.25 + 156.25 + 462.25 + 90.25 + 462.25 + 110.25 + 42.25 + 506.25 + 30.25]\n",
    "print(sum(sqDif))"
   ]
  },
  {
   "cell_type": "markdown",
   "metadata": {},
   "source": [
    "$$ \\sigma_2 = \\sqrt{\\frac{2353}{12}} $$ "
   ]
  },
  {
   "cell_type": "code",
   "execution_count": 10,
   "metadata": {},
   "outputs": [
    {
     "data": {
      "text/plain": [
       "196.08333333333334"
      ]
     },
     "execution_count": 10,
     "metadata": {},
     "output_type": "execute_result"
    }
   ],
   "source": [
    "2353 / 12 "
   ]
  },
  {
   "cell_type": "markdown",
   "metadata": {},
   "source": [
    "$$ \\sigma_2 = \\sqrt{196.083333} $$ "
   ]
  },
  {
   "cell_type": "code",
   "execution_count": 11,
   "metadata": {},
   "outputs": [
    {
     "name": "stdout",
     "output_type": "stream",
     "text": [
      "14.002975874077624\n"
     ]
    }
   ],
   "source": [
    "import math as m\n",
    "\n",
    "print(m.sqrt(196.08333333))"
   ]
  },
  {
   "cell_type": "markdown",
   "metadata": {},
   "source": [
    "$$ \\sigma \\approx 13.276 $$ "
   ]
  }
 ],
 "metadata": {
  "kernelspec": {
   "display_name": "Python 3",
   "language": "python",
   "name": "python3"
  },
  "language_info": {
   "codemirror_mode": {
    "name": "ipython",
    "version": 3
   },
   "file_extension": ".py",
   "mimetype": "text/x-python",
   "name": "python",
   "nbconvert_exporter": "python",
   "pygments_lexer": "ipython3",
   "version": "3.6.4"
  }
 },
 "nbformat": 4,
 "nbformat_minor": 2
}
