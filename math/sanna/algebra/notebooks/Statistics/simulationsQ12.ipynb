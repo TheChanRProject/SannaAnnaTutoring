{
 "cells": [
  {
   "cell_type": "markdown",
   "metadata": {},
   "source": [
    " ## Mean and Standard Deviation of Barcode Error"
   ]
  },
  {
   "cell_type": "markdown",
   "metadata": {},
   "source": [
    "The formula for calculating the mean is:\n",
    "\n",
    "$$ \\bar{X} = \\frac{\\sum_{1}^{n}{x_n}}{n} $$ \n",
    "\n",
    "The formula for calculating the standard deviation is:\n",
    "\n",
    "$$ \\sigma = \\sqrt{\\frac{(X - \\bar{X})^2}{n}} $$ "
   ]
  },
  {
   "cell_type": "code",
   "execution_count": 1,
   "metadata": {},
   "outputs": [],
   "source": [
    "barcodeErrors = [36,14,21,39,11,2]\n",
    "\n",
    "meanErrors = sum(barcodeErrors) / len(barcodeErrors)"
   ]
  },
  {
   "cell_type": "markdown",
   "metadata": {},
   "source": [
    "$$ \\bar{X} = \\frac{36+14+21+39+11+2}{6} $$ "
   ]
  },
  {
   "cell_type": "code",
   "execution_count": 2,
   "metadata": {},
   "outputs": [
    {
     "name": "stdout",
     "output_type": "stream",
     "text": [
      "20.5\n"
     ]
    }
   ],
   "source": [
    "print(meanErrors)"
   ]
  },
  {
   "cell_type": "markdown",
   "metadata": {},
   "source": [
    "$$ \\bar{X} = 20.5 $$ "
   ]
  },
  {
   "cell_type": "code",
   "execution_count": 6,
   "metadata": {},
   "outputs": [
    {
     "name": "stdout",
     "output_type": "stream",
     "text": [
      "240.25\n",
      "42.25\n",
      "0.25\n",
      "342.25\n",
      "90.25\n",
      "342.25\n"
     ]
    }
   ],
   "source": [
    "for i in barcodeErrors:\n",
    "    print((i-meanErrors)**2)"
   ]
  },
  {
   "cell_type": "markdown",
   "metadata": {},
   "source": [
    "$$ \\sigma = \\sqrt{\\frac{(36-20.5)^2 + (14 - 20.5)^2 + (21 - 20.5)^2 + (39 - 20.5)^2 + (11 - 20.5)^2 + (2 - 20.5)^2}{6}} $$ \n",
    "\n",
    "$$ \\sigma = \\sqrt{\\frac{240.25 + 42.25 + 0.25 + 342.25 + 90.25 + 342.25}{6}} $$ "
   ]
  },
  {
   "cell_type": "code",
   "execution_count": null,
   "metadata": {},
   "outputs": [],
   "source": [
    "sqDif = [240.25,42.25,0.25,]"
   ]
  }
 ],
 "metadata": {
  "kernelspec": {
   "display_name": "Python 3",
   "language": "python",
   "name": "python3"
  },
  "language_info": {
   "codemirror_mode": {
    "name": "ipython",
    "version": 3
   },
   "file_extension": ".py",
   "mimetype": "text/x-python",
   "name": "python",
   "nbconvert_exporter": "python",
   "pygments_lexer": "ipython3",
   "version": "3.6.4"
  }
 },
 "nbformat": 4,
 "nbformat_minor": 2
}
