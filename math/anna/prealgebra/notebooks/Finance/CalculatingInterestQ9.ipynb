{
 "cells": [
  {
   "cell_type": "markdown",
   "metadata": {},
   "source": [
    "### Car Valuation \n"
   ]
  },
  {
   "cell_type": "markdown",
   "metadata": {},
   "source": [
    "- P = 19400\n",
    "- c = 12105\n",
    "- t = 3 years "
   ]
  },
  {
   "cell_type": "markdown",
   "metadata": {},
   "source": [
    "Formula:\n",
    "\n",
    "$$ A(t) = P(1 - r)^t $$ \n",
    "\n",
    "$$ \\frac{A(t)}{P} = (1 - r)^t $$\n",
    "\n",
    "$$ (1 - r) = \\sqrt[t]{\\frac{A(t)}{P}} $$ \n",
    "\n",
    "$$ r = 1 - \\sqrt[t]{\\frac{A(t)}{P}} $$ \n",
    "\n",
    "$$ r = 1 - \\sqrt[3]{\\frac{12105}{19400}} $$ "
   ]
  },
  {
   "cell_type": "code",
   "execution_count": 2,
   "metadata": {},
   "outputs": [
    {
     "name": "stdout",
     "output_type": "stream",
     "text": [
      "0.14548238185124873\n"
     ]
    }
   ],
   "source": [
    "def rate(P,A,t):\n",
    "    finalRate = 1 - pow((A/P),(1/t))\n",
    "    return finalRate\n",
    "\n",
    "print(rate(19400,12105,3))"
   ]
  },
  {
   "cell_type": "markdown",
   "metadata": {},
   "source": [
    "$$  r \\approx 0.145 = 14.5   $$"
   ]
  },
  {
   "cell_type": "code",
   "execution_count": null,
   "metadata": {},
   "outputs": [],
   "source": []
  }
 ],
 "metadata": {
  "kernelspec": {
   "display_name": "Python 3",
   "language": "python",
   "name": "python3"
  },
  "language_info": {
   "codemirror_mode": {
    "name": "ipython",
    "version": 3
   },
   "file_extension": ".py",
   "mimetype": "text/x-python",
   "name": "python",
   "nbconvert_exporter": "python",
   "pygments_lexer": "ipython3",
   "version": "3.6.4"
  }
 },
 "nbformat": 4,
 "nbformat_minor": 2
}
