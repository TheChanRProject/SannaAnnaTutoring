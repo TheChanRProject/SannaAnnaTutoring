{
 "cells": [
  {
   "cell_type": "markdown",
   "metadata": {},
   "source": [
    "### Investment Account Option Problem "
   ]
  },
  {
   "cell_type": "markdown",
   "metadata": {},
   "source": [
    "Option 1: Compounded Annually \n",
    "\n",
    "Account A Details:\n",
    "\n",
    "- r = 0.08\n",
    "- t = 8 years \n",
    "- n = 1 \n",
    "- P = $ 50,000 "
   ]
  },
  {
   "cell_type": "markdown",
   "metadata": {},
   "source": [
    "Formula:\n",
    "\n",
    "$$ A(8) = 50,000(1 + \\frac{0.08}{1})^{8} $$ "
   ]
  },
  {
   "cell_type": "code",
   "execution_count": 1,
   "metadata": {},
   "outputs": [
    {
     "name": "stdout",
     "output_type": "stream",
     "text": [
      "92546.51051409413\n"
     ]
    }
   ],
   "source": [
    "def accountA(P, n, r, t):\n",
    "    interest = P*(1 + (r/n))**(n*t)\n",
    "    return interest \n",
    "\n",
    "print(accountA(50000,1,0.08,8))"
   ]
  },
  {
   "cell_type": "code",
   "execution_count": 2,
   "metadata": {},
   "outputs": [
    {
     "data": {
      "text/plain": [
       "42546.509999999995"
      ]
     },
     "execution_count": 2,
     "metadata": {},
     "output_type": "execute_result"
    }
   ],
   "source": [
    "92546.51 - 50000"
   ]
  },
  {
   "cell_type": "markdown",
   "metadata": {},
   "source": [
    "Interest_A = 92546.51 - 50,000 = 42546.51 "
   ]
  },
  {
   "cell_type": "markdown",
   "metadata": {},
   "source": [
    "Option 2: Compounded Continuously \n",
    "\n",
    "Account B Details:\n",
    "\n",
    "- r = 0.07\n",
    "- t = 10 years \n",
    "- P = 50,000\n"
   ]
  },
  {
   "cell_type": "markdown",
   "metadata": {},
   "source": [
    "Formula:\n",
    "\n",
    "$$ A(10) = 50,000*e^{0.08*10} $$ "
   ]
  },
  {
   "cell_type": "code",
   "execution_count": 3,
   "metadata": {},
   "outputs": [
    {
     "name": "stdout",
     "output_type": "stream",
     "text": [
      "100687.63537352384\n"
     ]
    }
   ],
   "source": [
    "import math as m\n",
    "def accountB(P,r,t):\n",
    "    interest = P*m.e**(r*t)\n",
    "    return interest \n",
    "\n",
    "print(accountB(50000,0.07,10))"
   ]
  },
  {
   "cell_type": "code",
   "execution_count": 4,
   "metadata": {},
   "outputs": [
    {
     "data": {
      "text/plain": [
       "50687.630000000005"
      ]
     },
     "execution_count": 4,
     "metadata": {},
     "output_type": "execute_result"
    }
   ],
   "source": [
    "100687.63 - 50000"
   ]
  },
  {
   "cell_type": "markdown",
   "metadata": {},
   "source": [
    "Interest_B = 50687.63 "
   ]
  },
  {
   "cell_type": "markdown",
   "metadata": {},
   "source": [
    "Comparing the two interests, the best account to invest in is Account B as it provides the most interest. "
   ]
  }
 ],
 "metadata": {
  "kernelspec": {
   "display_name": "Python 3",
   "language": "python",
   "name": "python3"
  },
  "language_info": {
   "codemirror_mode": {
    "name": "ipython",
    "version": 3
   },
   "file_extension": ".py",
   "mimetype": "text/x-python",
   "name": "python",
   "nbconvert_exporter": "python",
   "pygments_lexer": "ipython3",
   "version": "3.6.4"
  }
 },
 "nbformat": 4,
 "nbformat_minor": 2
}
