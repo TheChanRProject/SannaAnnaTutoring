{
 "cells": [
  {
   "cell_type": "markdown",
   "metadata": {},
   "source": [
    "Formula for Calculating Interest\n",
    "\n",
    "$$ A(t) = P(1 + \\frac{r}{n})^{nt} $$ "
   ]
  },
  {
   "cell_type": "markdown",
   "metadata": {},
   "source": [
    "- A(t) = amount after t years\n",
    "- P = initial amount \n",
    "- r = interest rate \n",
    "- n = number of times interest is compounded per year \n",
    "- t = number of years "
   ]
  },
  {
   "cell_type": "markdown",
   "metadata": {},
   "source": [
    "Formula for Continuous Interest\n",
    "\n",
    "$$ A(t) = Pe^{rt} $$ "
   ]
  },
  {
   "cell_type": "markdown",
   "metadata": {},
   "source": [
    "- A(t) amount after t years \n",
    "- P = initial amount \n",
    "- e = Eulers number \n",
    "- r = interest rate \n",
    "- t = number of years "
   ]
  },
  {
   "cell_type": "markdown",
   "metadata": {},
   "source": [
    "Formula for Exponential Decay \n",
    "\n",
    "$$ A(t) = P(1 - r)^t $$ "
   ]
  },
  {
   "cell_type": "markdown",
   "metadata": {},
   "source": [
    "- r represents rate of decay"
   ]
  },
  {
   "cell_type": "markdown",
   "metadata": {},
   "source": [
    "### Question 2 "
   ]
  },
  {
   "cell_type": "code",
   "execution_count": 2,
   "metadata": {},
   "outputs": [
    {
     "name": "stdout",
     "output_type": "stream",
     "text": [
      "25130.23246128239\n"
     ]
    }
   ],
   "source": [
    "def compoundInterest(P,n,r,t):\n",
    "    interest = P*(1 + (r/n))**(n*t)\n",
    "    return interest \n",
    "print(compoundInterest(15000,1,.035,15))"
   ]
  },
  {
   "cell_type": "markdown",
   "metadata": {},
   "source": [
    "$$ A(15) = 15000(1 + \\frac{.035}{1})^{15} $$\n",
    "\n",
    "$$ A(15) \\approx $23,130.23 $$ "
   ]
  },
  {
   "cell_type": "code",
   "execution_count": 4,
   "metadata": {},
   "outputs": [
    {
     "name": "stdout",
     "output_type": "stream",
     "text": [
      "6034.071562499998\n"
     ]
    }
   ],
   "source": [
    "print(compoundInterest(3000,1,0.15,5))"
   ]
  },
  {
   "cell_type": "code",
   "execution_count": 6,
   "metadata": {},
   "outputs": [
    {
     "name": "stdout",
     "output_type": "stream",
     "text": [
      "8966.016999073225\n"
     ]
    }
   ],
   "source": [
    "import math as m\n",
    "def continuousInterest(P,r,t):\n",
    "    interest = P*m.e**(r*t)\n",
    "    return interest \n",
    "\n",
    "print(continuousInterest(8000,.019,6))"
   ]
  },
  {
   "cell_type": "code",
   "execution_count": 7,
   "metadata": {},
   "outputs": [
    {
     "name": "stdout",
     "output_type": "stream",
     "text": [
      "2191.123143033421\n"
     ]
    }
   ],
   "source": [
    "print(compoundInterest(1000,1,0.04,20))"
   ]
  },
  {
   "cell_type": "code",
   "execution_count": 8,
   "metadata": {},
   "outputs": [
    {
     "name": "stdout",
     "output_type": "stream",
     "text": [
      "377.00000000000006\n"
     ]
    }
   ],
   "source": [
    "def decay(P,r,t):\n",
    "    decline = P*(1-r)**t\n",
    "    return decline\n",
    "\n",
    "print(decay(650,.42,1))"
   ]
  },
  {
   "cell_type": "code",
   "execution_count": null,
   "metadata": {},
   "outputs": [],
   "source": []
  }
 ],
 "metadata": {
  "kernelspec": {
   "display_name": "Python 3",
   "language": "python",
   "name": "python3"
  },
  "language_info": {
   "codemirror_mode": {
    "name": "ipython",
    "version": 3
   },
   "file_extension": ".py",
   "mimetype": "text/x-python",
   "name": "python",
   "nbconvert_exporter": "python",
   "pygments_lexer": "ipython3",
   "version": "3.6.4"
  }
 },
 "nbformat": 4,
 "nbformat_minor": 2
}
