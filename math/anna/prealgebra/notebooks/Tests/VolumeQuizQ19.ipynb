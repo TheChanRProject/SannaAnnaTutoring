{
 "cells": [
  {
   "cell_type": "markdown",
   "metadata": {},
   "source": [
    "Part A:\n",
    "\n",
    "The cookies are shaped like cylinders. \n",
    "\n",
    "Let's use the cylinder volume formula.\n",
    "\n",
    "$$ V = \\pi r^2 h $$\n",
    "\n",
    "$$ V = \\pi * (1.25)^2 * 1 $$ \n",
    "\n"
   ]
  },
  {
   "cell_type": "code",
   "execution_count": 1,
   "metadata": {},
   "outputs": [
    {
     "name": "stdout",
     "output_type": "stream",
     "text": [
      "4.90625\n"
     ]
    }
   ],
   "source": [
    "print(3.14 * pow(1.25,2))"
   ]
  },
  {
   "cell_type": "markdown",
   "metadata": {},
   "source": [
    "$$ V_{1 cookie} = 4.90625 cm^3 $$ "
   ]
  },
  {
   "cell_type": "markdown",
   "metadata": {},
   "source": [
    "Part B:\n",
    "\n",
    "The food storage container is also shaped like a cylinder. Use the cylinder volume formula.\n",
    "\n",
    "$$ V = \\pi r^2 h $$ \n",
    "\n",
    "$$ V = \\pi * (4.5)^2 * 4.75 $$ "
   ]
  },
  {
   "cell_type": "code",
   "execution_count": 2,
   "metadata": {},
   "outputs": [
    {
     "name": "stdout",
     "output_type": "stream",
     "text": [
      "302.02875\n"
     ]
    }
   ],
   "source": [
    "print(3.14 * pow(4.5,2) * 4.75)"
   ]
  },
  {
   "cell_type": "markdown",
   "metadata": {},
   "source": [
    "The volume of the container is :\n",
    "\n",
    "$$ V = 302.02875 cm^3 $$ "
   ]
  },
  {
   "cell_type": "markdown",
   "metadata": {},
   "source": [
    "Part C:\n",
    "\n",
    "Divide the volume from Part B by the volume from Part A.\n",
    "\n",
    "$$ n = \\frac{V_{container}}{V_{cookie}} $$ \n",
    "\n",
    "$$ n = \\frac{302.02875}{4.90625} $$ \n",
    "\n"
   ]
  },
  {
   "cell_type": "code",
   "execution_count": 3,
   "metadata": {},
   "outputs": [
    {
     "name": "stdout",
     "output_type": "stream",
     "text": [
      "61.56\n"
     ]
    }
   ],
   "source": [
    "print(302.02875 / 4.90625)"
   ]
  },
  {
   "cell_type": "markdown",
   "metadata": {},
   "source": [
    "$$ n \\approx 61 $$ \n",
    "\n",
    "Since Jenny baked 56 cookie sandwiches, we can clearly conclude that Jenny can fit all the cookies in the container since the container can hold approximately 61 cookies. "
   ]
  },
  {
   "cell_type": "code",
   "execution_count": null,
   "metadata": {},
   "outputs": [],
   "source": []
  }
 ],
 "metadata": {
  "kernelspec": {
   "display_name": "Python 3",
   "language": "python",
   "name": "python3"
  },
  "language_info": {
   "codemirror_mode": {
    "name": "ipython",
    "version": 3
   },
   "file_extension": ".py",
   "mimetype": "text/x-python",
   "name": "python",
   "nbconvert_exporter": "python",
   "pygments_lexer": "ipython3",
   "version": "3.6.4"
  }
 },
 "nbformat": 4,
 "nbformat_minor": 2
}
