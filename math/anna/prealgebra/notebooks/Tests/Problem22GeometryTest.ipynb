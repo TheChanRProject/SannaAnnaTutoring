{
 "cells": [
  {
   "cell_type": "code",
   "execution_count": 2,
   "metadata": {},
   "outputs": [],
   "source": [
    "%matplotlib inline\n",
    "import math\n",
    "import numpy as np\n",
    "import matplotlib.pyplot as plt "
   ]
  },
  {
   "cell_type": "code",
   "execution_count": 38,
   "metadata": {},
   "outputs": [
    {
     "data": {
      "image/png": "[encoded data removed]",
      "text/plain": [
       "<matplotlib.figure.Figure at 0x11a87add8>"
      ]
     },
     "metadata": {},
     "output_type": "display_data"
    }
   ],
   "source": [
    "prexVals = np.array([3, 4, 5, 4, 3])\n",
    "preyVals = np.array([2, 0, 2, 3, 2])\n",
    "lineReflectX = np.array([1.5, 1.5])\n",
    "lineReflectY = np.array([0, 3 ])\n",
    "\n",
    "\n",
    "plt.plot(prexVals,preyVals, 'r')\n",
    "plt.plot(lineReflectX, lineReflectY, 'g')\n",
    "plt.show()\n"
   ]
  },
  {
   "cell_type": "markdown",
   "metadata": {},
   "source": [
    "As we can see, there is a reflection of this shape. This shape is being reflected across a vertical line which can be found using the midpoint of the pre and post images (I, I'). The formula is as follows:\n",
    "\n",
    "$$ x_{reflect} = \\frac{x_I + x_{I'}}{2} $$ \n",
    "\n",
    "For this example, let's take the x coordinates of A and A'. If we apply it to the x_reflect formula, we get the following as our line of reflection. \n",
    "\n",
    "$$ x_{Areflect} = \\frac{x_A + x_{A'}}{2} \\rightarrow \\frac{4 + (-1)}{2} = 1.5 $$  \n",
    "\n",
    "The figure AMHT was reflected across the line x = 1.5 to give us A'M'H'T'"
   ]
  },
  {
   "cell_type": "code",
   "execution_count": 32,
   "metadata": {},
   "outputs": [
    {
     "name": "stdout",
     "output_type": "stream",
     "text": [
      "1.5\n"
     ]
    }
   ],
   "source": [
    "def lineReflect(xI,xIprime):\n",
    "    return (xI + xIprime)/2\n",
    "\n",
    "print(lineReflect(4,-1))"
   ]
  }
 ],
 "metadata": {
  "kernelspec": {
   "display_name": "Python 3",
   "language": "python",
   "name": "python3"
  },
  "language_info": {
   "codemirror_mode": {
    "name": "ipython",
    "version": 3
   },
   "file_extension": ".py",
   "mimetype": "text/x-python",
   "name": "python",
   "nbconvert_exporter": "python",
   "pygments_lexer": "ipython3",
   "version": "3.6.4"
  }
 },
 "nbformat": 4,
 "nbformat_minor": 2
}
