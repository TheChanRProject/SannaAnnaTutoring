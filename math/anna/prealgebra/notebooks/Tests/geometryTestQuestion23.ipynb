{
 "cells": [
  {
   "cell_type": "markdown",
   "metadata": {},
   "source": [
    "USe the coordinates of U and U' to find the line of reflection. \n",
    "\n",
    "Since the line of reflection seems to be a horizontal reflection, the line of reflection must be of the form \n",
    "\n",
    "$$ y = n $$ \n",
    "\n",
    "In order to do this reflection, it's important to take the midpoint of the y values of U and U'.\n",
    "\n",
    "$$ n = \\frac{y_U + y_{U'}}{2} $$ "
   ]
  },
  {
   "cell_type": "code",
   "execution_count": 1,
   "metadata": {},
   "outputs": [
    {
     "data": {
      "text/plain": [
       "-2.0"
      ]
     },
     "execution_count": 1,
     "metadata": {},
     "output_type": "execute_result"
    }
   ],
   "source": [
    "(-6 + 2)/2"
   ]
  },
  {
   "cell_type": "markdown",
   "metadata": {},
   "source": [
    "The line of reflection is therefore:\n",
    "\n",
    "$$ y = -2 $$ "
   ]
  },
  {
   "cell_type": "code",
   "execution_count": null,
   "metadata": {},
   "outputs": [],
   "source": []
  }
 ],
 "metadata": {
  "kernelspec": {
   "display_name": "Python 3",
   "language": "python",
   "name": "python3"
  },
  "language_info": {
   "codemirror_mode": {
    "name": "ipython",
    "version": 3
   },
   "file_extension": ".py",
   "mimetype": "text/x-python",
   "name": "python",
   "nbconvert_exporter": "python",
   "pygments_lexer": "ipython3",
   "version": "3.6.4"
  }
 },
 "nbformat": 4,
 "nbformat_minor": 2
}
