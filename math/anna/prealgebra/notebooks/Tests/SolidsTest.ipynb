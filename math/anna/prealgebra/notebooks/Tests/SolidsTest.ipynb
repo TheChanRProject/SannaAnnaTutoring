{
 "cells": [
  {
   "cell_type": "markdown",
   "metadata": {},
   "source": [
    "Euler's Formula:\n",
    "\n",
    "$$ F + V - E = 2 \\rightarrow F + V = E + 2 $$  "
   ]
  },
  {
   "cell_type": "code",
   "execution_count": 1,
   "metadata": {},
   "outputs": [
    {
     "data": {
      "text/plain": [
       "6"
      ]
     },
     "execution_count": 1,
     "metadata": {},
     "output_type": "execute_result"
    }
   ],
   "source": [
    "14 - 8 "
   ]
  },
  {
   "cell_type": "code",
   "execution_count": 2,
   "metadata": {},
   "outputs": [
    {
     "name": "stdout",
     "output_type": "stream",
     "text": [
      "147.0\n"
     ]
    }
   ],
   "source": [
    "def VolumeSqPyramid(s,h):\n",
    "    return (1/3) * pow(s,2) * h\n",
    "print(VolumeSqPyramid(7,9))"
   ]
  },
  {
   "cell_type": "code",
   "execution_count": 4,
   "metadata": {},
   "outputs": [
    {
     "name": "stdout",
     "output_type": "stream",
     "text": [
      "2.0\n"
     ]
    }
   ],
   "source": [
    "def VolumeCylinder(r,h):\n",
    "    return 3.14 * pow(r,2) * h\n",
    "v1 = VolumeCylinder(1,2)\n",
    "v2 = VolumeCylinder(1,4)\n",
    "print(v2/v1)"
   ]
  },
  {
   "cell_type": "code",
   "execution_count": 5,
   "metadata": {},
   "outputs": [
    {
     "name": "stdout",
     "output_type": "stream",
     "text": [
      "2197\n"
     ]
    }
   ],
   "source": [
    "def VolumeCube(s):\n",
    "    return pow(s,3)\n",
    "print(VolumeCube(13))"
   ]
  },
  {
   "cell_type": "markdown",
   "metadata": {},
   "source": [
    "Surface Area of a Cone:\n",
    "\n",
    "$$ A = \\pi r^2 + \\pi r \\sqrt{h^2 + r^2} $$ "
   ]
  },
  {
   "cell_type": "code",
   "execution_count": 6,
   "metadata": {},
   "outputs": [
    {
     "name": "stdout",
     "output_type": "stream",
     "text": [
      "268.2038217854348\n"
     ]
    }
   ],
   "source": [
    "import math as m\n",
    "def SurfaceAreaCone(r,h):\n",
    "    return (3.14 * pow(r,2)) + (3.14*r*m.sqrt(pow(h,2) + pow(r,2)))\n",
    "print(SurfaceAreaCone(5,11))"
   ]
  },
  {
   "cell_type": "code",
   "execution_count": 9,
   "metadata": {},
   "outputs": [
    {
     "name": "stdout",
     "output_type": "stream",
     "text": [
      "2304.0\n"
     ]
    }
   ],
   "source": [
    "def VolumeTriangularPrism(l,w,d):\n",
    "    return 0.5*l*w*d\n",
    "def VolumeRectangularPrism(l,w,d):\n",
    "    return l*w*d\n",
    "print(VolumeTriangularPrism(12,16,24))"
   ]
  },
  {
   "cell_type": "code",
   "execution_count": 8,
   "metadata": {},
   "outputs": [
    {
     "name": "stdout",
     "output_type": "stream",
     "text": [
      "1779.3333333333333\n"
     ]
    }
   ],
   "source": [
    "def VolumeCone(r,h):\n",
    "    return (1/3)*3.14*pow(r,2)*h\n",
    "print(VolumeCone(10,17))"
   ]
  },
  {
   "cell_type": "code",
   "execution_count": 10,
   "metadata": {},
   "outputs": [
    {
     "name": "stdout",
     "output_type": "stream",
     "text": [
      "2622.0\n"
     ]
    }
   ],
   "source": [
    "compFigure = VolumeTriangularPrism(9,12,19) + VolumeRectangularPrism(12,7,19)\n",
    "print(compFigure)"
   ]
  },
  {
   "cell_type": "markdown",
   "metadata": {},
   "source": [
    "Surface Area of a Sphere:\n",
    "\n",
    "$$ A = 4 \\pi r^2 $$ "
   ]
  },
  {
   "cell_type": "code",
   "execution_count": 11,
   "metadata": {},
   "outputs": [
    {
     "name": "stdout",
     "output_type": "stream",
     "text": [
      "452.16\n"
     ]
    }
   ],
   "source": [
    "def SurfaceAreaSphere(r):\n",
    "    return 4 * 3.14 * pow(r,2)\n",
    "print(SurfaceAreaSphere(12/2))"
   ]
  },
  {
   "cell_type": "markdown",
   "metadata": {},
   "source": [
    "Surface Area of a Square Pyramid:\n",
    "\n",
    "$$ A = 2sl + s^2 $$ \n",
    "\n",
    "$$ 279 = 2*9*l + 9^2 $$\n",
    "\n",
    "$$ 279 = 18l + 81 $$ \n",
    "\n",
    "$$ 18l = 279 - 81 $$ \n",
    "\n",
    "$$ l = \\frac{279 - 81}{18} $$ "
   ]
  },
  {
   "cell_type": "code",
   "execution_count": 14,
   "metadata": {},
   "outputs": [
    {
     "name": "stdout",
     "output_type": "stream",
     "text": [
      "279\n",
      "11.0\n"
     ]
    }
   ],
   "source": [
    "def SurfaceAreaSquarePyramid(s,l,i:str):\n",
    "    if i == \"area\":\n",
    "        sArea = (2*s*l) + pow(s,2)\n",
    "        result = sArea\n",
    "    elif i == \"slant\":\n",
    "        result = (sArea - pow(s,2))/(2*s)\n",
    "    else: \n",
    "        result = None \n",
    "    return result\n",
    "        \n",
    "print(SurfaceAreaSquarePyramid(9,11,\"area\"))\n",
    "\n",
    "slantHeight = (279 - 81)/18\n",
    "print(slantHeight)\n",
    "        \n",
    "        \n",
    "    "
   ]
  },
  {
   "cell_type": "code",
   "execution_count": 15,
   "metadata": {},
   "outputs": [
    {
     "name": "stdout",
     "output_type": "stream",
     "text": [
      "14836.5\n"
     ]
    }
   ],
   "source": [
    "print(VolumeCylinder(15,21))"
   ]
  },
  {
   "cell_type": "code",
   "execution_count": 16,
   "metadata": {},
   "outputs": [
    {
     "name": "stdout",
     "output_type": "stream",
     "text": [
      "33.49333333333333\n"
     ]
    }
   ],
   "source": [
    "def VolumeSphere(r):\n",
    "    return (4/3)*3.14*pow(r,3)\n",
    "print(VolumeSphere(2))"
   ]
  },
  {
   "cell_type": "code",
   "execution_count": 17,
   "metadata": {},
   "outputs": [
    {
     "name": "stdout",
     "output_type": "stream",
     "text": [
      "628\n"
     ]
    }
   ],
   "source": [
    "def SurfaceAreaRectangularPrism(l,w,d):\n",
    "    return (2*l*w) + (2*l*d) + (2*w*d)\n",
    "print(SurfaceAreaRectangularPrism(4,18,11))"
   ]
  },
  {
   "cell_type": "code",
   "execution_count": 18,
   "metadata": {},
   "outputs": [
    {
     "name": "stdout",
     "output_type": "stream",
     "text": [
      "9.0\n"
     ]
    }
   ],
   "source": [
    "v3 = VolumeRectangularPrism(1,2,3)\n",
    "v4 = VolumeRectangularPrism(3,6,3)\n",
    "print(v4/v3)"
   ]
  },
  {
   "cell_type": "code",
   "execution_count": null,
   "metadata": {},
   "outputs": [],
   "source": [
    "def SurfaceIsocTriangularPrism(b,h,d,b2):\n",
    "    return (b*h)+ 2*(d*b2) + "
   ]
  }
 ],
 "metadata": {
  "kernelspec": {
   "display_name": "Python 3",
   "language": "python",
   "name": "python3"
  },
  "language_info": {
   "codemirror_mode": {
    "name": "ipython",
    "version": 3
   },
   "file_extension": ".py",
   "mimetype": "text/x-python",
   "name": "python",
   "nbconvert_exporter": "python",
   "pygments_lexer": "ipython3",
   "version": "3.6.4"
  }
 },
 "nbformat": 4,
 "nbformat_minor": 2
}
