{
 "cells": [
  {
   "cell_type": "markdown",
   "metadata": {},
   "source": [
    "#### Find the largest width of the containers' opening"
   ]
  },
  {
   "cell_type": "markdown",
   "metadata": {},
   "source": [
    "Volume of a Cone:\n",
    "\n",
    "$$ V = \\frac{1}{3} \\pi r^2 h $$ \n",
    "\n",
    "$$ 535 = \\frac{1}{3} \\pi r^2 * 8 $$\n",
    "\n"
   ]
  },
  {
   "cell_type": "markdown",
   "metadata": {},
   "source": [
    "$$ \\frac{535}{8} = \\frac{1}{3} \\pi r^2 $$\n",
    "\n",
    "$$ \\frac{535 * 3}{8*\\pi} = r^2 $$ \n",
    "\n",
    "$$ r = \\sqrt{\\frac{535 * 3}{8*\\pi} } $$ "
   ]
  },
  {
   "cell_type": "code",
   "execution_count": 1,
   "metadata": {},
   "outputs": [
    {
     "name": "stdout",
     "output_type": "stream",
     "text": [
      "7.993329225167122\n"
     ]
    }
   ],
   "source": [
    "maxVolume = 535\n",
    "height = 8\n",
    "\n",
    "import math as m\n",
    "\n",
    "radius = m.sqrt((535*3)/(8*3.14))\n",
    "\n",
    "print(radius)\n"
   ]
  },
  {
   "cell_type": "markdown",
   "metadata": {},
   "source": [
    "$$ r \\approx 8 cm^3 $$ "
   ]
  },
  {
   "cell_type": "code",
   "execution_count": null,
   "metadata": {},
   "outputs": [],
   "source": []
  }
 ],
 "metadata": {
  "kernelspec": {
   "display_name": "Python 3",
   "language": "python",
   "name": "python3"
  },
  "language_info": {
   "codemirror_mode": {
    "name": "ipython",
    "version": 3
   },
   "file_extension": ".py",
   "mimetype": "text/x-python",
   "name": "python",
   "nbconvert_exporter": "python",
   "pygments_lexer": "ipython3",
   "version": "3.6.4"
  }
 },
 "nbformat": 4,
 "nbformat_minor": 2
}
