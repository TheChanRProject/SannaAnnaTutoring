{
 "cells": [
  {
   "cell_type": "code",
   "execution_count": 16,
   "metadata": {},
   "outputs": [],
   "source": [
    "myList = [45.0,19.0,23.0,67.0,28.0,35.0,46.0,21.0,58.0,60.0,23.0,51.0]"
   ]
  },
  {
   "cell_type": "code",
   "execution_count": 17,
   "metadata": {},
   "outputs": [
    {
     "name": "stdout",
     "output_type": "stream",
     "text": [
      "40.0\n"
     ]
    }
   ],
   "source": [
    "import numpy as np\n",
    "myArr = np.array(myList)\n",
    "print(np.median(myArr))"
   ]
  },
  {
   "cell_type": "code",
   "execution_count": 21,
   "metadata": {},
   "outputs": [
    {
     "name": "stdout",
     "output_type": "stream",
     "text": [
      "13.0\n",
      "15.0\n",
      "11.0\n",
      "16.0\n"
     ]
    }
   ],
   "source": [
    "def median(x):\n",
    "    floatList = [float(i) for i in x]\n",
    "    floatArr = np.array(floatList)\n",
    "    return np.median(floatArr)\n",
    "print(median([9,17,13,15,16,8,12]))\n",
    "print(median([18,15,11,14,19,15,6]))\n",
    "print(median([7,6,14,16,11,7,17]))\n",
    "print(median([18,9,19,16,6,20,13]))"
   ]
  },
  {
   "cell_type": "code",
   "execution_count": 22,
   "metadata": {},
   "outputs": [],
   "source": [
    "from scipy import stats\n",
    "def mode(x):\n",
    "    floatList = [float(i) for i in x]\n",
    "    floatArr = np.array(floatList)\n",
    "    return stats.mode(floatArr)"
   ]
  },
  {
   "cell_type": "code",
   "execution_count": 24,
   "metadata": {},
   "outputs": [
    {
     "name": "stdout",
     "output_type": "stream",
     "text": [
      "ModeResult(mode=array([23.]), count=array([2]))\n"
     ]
    }
   ],
   "source": [
    "print(mode([45,19,23,67,28,35,46,21,58,60,23,51]))"
   ]
  },
  {
   "cell_type": "code",
   "execution_count": null,
   "metadata": {},
   "outputs": [],
   "source": []
  }
 ],
 "metadata": {
  "kernelspec": {
   "display_name": "Python 3",
   "language": "python",
   "name": "python3"
  },
  "language_info": {
   "codemirror_mode": {
    "name": "ipython",
    "version": 3
   },
   "file_extension": ".py",
   "mimetype": "text/x-python",
   "name": "python",
   "nbconvert_exporter": "python",
   "pygments_lexer": "ipython3",
   "version": "3.6.4"
  }
 },
 "nbformat": 4,
 "nbformat_minor": 2
}
