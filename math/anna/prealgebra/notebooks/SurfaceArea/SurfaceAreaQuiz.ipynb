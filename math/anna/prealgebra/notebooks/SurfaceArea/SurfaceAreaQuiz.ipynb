{
 "cells": [
  {
   "cell_type": "markdown",
   "metadata": {},
   "source": [
    "### Surface Area of a Cone "
   ]
  },
  {
   "cell_type": "markdown",
   "metadata": {},
   "source": [
    "$$ A = \\pi r (r + \\sqrt{h^2 + r^2}) $$ "
   ]
  },
  {
   "cell_type": "code",
   "execution_count": 1,
   "metadata": {},
   "outputs": [],
   "source": [
    "import numpy as np\n",
    "from numpy import math as m"
   ]
  },
  {
   "cell_type": "code",
   "execution_count": 21,
   "metadata": {},
   "outputs": [
    {
     "name": "stdout",
     "output_type": "stream",
     "text": [
      "417.62\n"
     ]
    }
   ],
   "source": [
    "def coneSurfaceArea(r,l):\n",
    "    area = 3.14 * r * (r + l)\n",
    "    return area\n",
    "print(coneSurfaceArea(7,12))"
   ]
  },
  {
   "cell_type": "markdown",
   "metadata": {},
   "source": [
    "### Euler's Formula\n",
    "\n",
    "$$ V - E + F = 2 $$ \n",
    "$$ V + F = E + 2 $$ "
   ]
  },
  {
   "cell_type": "code",
   "execution_count": 4,
   "metadata": {},
   "outputs": [
    {
     "name": "stdout",
     "output_type": "stream",
     "text": [
      "12\n"
     ]
    }
   ],
   "source": [
    "def euler(V,E,F):\n",
    "    if V == None:\n",
    "        solvent = 2 + E - F\n",
    "    elif E == None:\n",
    "        solvent = V + F - 2\n",
    "    elif F == None:\n",
    "        solvent = E + 2 - V\n",
    "    else:\n",
    "        solvent = None\n",
    "    return solvent \n",
    "print(euler(8,None,6))"
   ]
  },
  {
   "cell_type": "code",
   "execution_count": 6,
   "metadata": {},
   "outputs": [
    {
     "name": "stdout",
     "output_type": "stream",
     "text": [
      "4\n"
     ]
    }
   ],
   "source": [
    "print(euler(4,6,None))"
   ]
  },
  {
   "cell_type": "code",
   "execution_count": 7,
   "metadata": {},
   "outputs": [
    {
     "name": "stdout",
     "output_type": "stream",
     "text": [
      "5\n"
     ]
    }
   ],
   "source": [
    "print(euler(None,8,5))"
   ]
  },
  {
   "cell_type": "code",
   "execution_count": 8,
   "metadata": {},
   "outputs": [
    {
     "name": "stdout",
     "output_type": "stream",
     "text": [
      "840\n"
     ]
    }
   ],
   "source": [
    "def SurfaceAreaTriangularPrism(b,h,d,bl, t: str):\n",
    "    if t == \"isoceles\":\n",
    "        area = b*h + 2*(d*bl) + (b*bl)\n",
    "    return area \n",
    "\n",
    "print(SurfaceAreaTriangularPrism(10,12,13,20,\"isoceles\"))"
   ]
  },
  {
   "cell_type": "code",
   "execution_count": 10,
   "metadata": {},
   "outputs": [
    {
     "name": "stdout",
     "output_type": "stream",
     "text": [
      "628\n"
     ]
    }
   ],
   "source": [
    "def SurfaceAreaRectangularPrism(l,w,h):\n",
    "    area = 2*(l*w) + 2*(l*h) + 2*(w*h)\n",
    "    return area\n",
    "print(SurfaceAreaRectangularPrism(4,11,18))"
   ]
  },
  {
   "cell_type": "code",
   "execution_count": 11,
   "metadata": {},
   "outputs": [
    {
     "name": "stdout",
     "output_type": "stream",
     "text": [
      "95.0\n"
     ]
    }
   ],
   "source": [
    "def SurfaceAreaSquarePyramid(b,w,h):\n",
    "    area = (b*w) + 4*(0.5*b*h)\n",
    "    return area\n",
    "print(SurfaceAreaSquarePyramid(5,5,7))"
   ]
  },
  {
   "cell_type": "code",
   "execution_count": 12,
   "metadata": {},
   "outputs": [
    {
     "data": {
      "text/plain": [
       "1256.0"
      ]
     },
     "execution_count": 12,
     "metadata": {},
     "output_type": "execute_result"
    }
   ],
   "source": [
    "def SurfaceAreaSphere(r):\n",
    "    area = 4 * 3.14 * pow(r,2)\n",
    "    return area\n",
    "SurfaceAreaSphere(10)"
   ]
  },
  {
   "cell_type": "code",
   "execution_count": 13,
   "metadata": {},
   "outputs": [
    {
     "name": "stdout",
     "output_type": "stream",
     "text": [
      "8.0\n"
     ]
    }
   ],
   "source": [
    "def radiusSphere(surface_area):\n",
    "    radius = m.sqrt(surface_area / (4 * 3.14))\n",
    "    return radius\n",
    "print(radiusSphere(803.84))"
   ]
  },
  {
   "cell_type": "markdown",
   "metadata": {},
   "source": [
    "### Surface Area Square Pyramid"
   ]
  },
  {
   "cell_type": "markdown",
   "metadata": {},
   "source": [
    "$$ A = s^2 + 2s \\sqrt{\\frac{s^2}{4} + h} $$ "
   ]
  },
  {
   "cell_type": "markdown",
   "metadata": {},
   "source": [
    "$$ \\sqrt{\\frac{s^2}{4} + h} = \\frac{A - s^2}{2s} $$ \n",
    "$$ \\frac{s^2}{4} + h = (\\frac{A - s^2}{2s})^2 $$ \n",
    "$$ h = (\\frac{A - s^2}{2s})^2 - \\frac{s^2}{4} $$ \n",
    "\n",
    "$$ l = \\sqrt{h^2 + (\\frac{s}{2})^2} $$ "
   ]
  },
  {
   "cell_type": "code",
   "execution_count": 28,
   "metadata": {},
   "outputs": [],
   "source": [
    "def squarePyramidSurfaceArea(b,s):\n",
    "    area = 2*b*s + pow(b,2)\n",
    "    return area\n"
   ]
  },
  {
   "cell_type": "code",
   "execution_count": 18,
   "metadata": {},
   "outputs": [
    {
     "name": "stdout",
     "output_type": "stream",
     "text": [
      "9.0\n"
     ]
    }
   ],
   "source": [
    "def slantHeight(surface_area,b):\n",
    "    return (surface_area - pow(b,2))/(2*b)\n",
    "\n",
    "print(slantHeight(319,11))\n",
    "    \n",
    "    "
   ]
  },
  {
   "cell_type": "markdown",
   "metadata": {},
   "source": [
    "### Surface Area of a Cylinder\n",
    "\n",
    "$$ A = 2 \\pi r h + 2 \\pi r^2 $$ "
   ]
  },
  {
   "cell_type": "code",
   "execution_count": 24,
   "metadata": {},
   "outputs": [],
   "source": [
    "def cylinderSurfaceArea(r,h):\n",
    "    area = 2*3.14*r*h + 2*3.14*pow(r,2)\n",
    "    return area\n"
   ]
  },
  {
   "cell_type": "markdown",
   "metadata": {},
   "source": [
    "$$ 2 \\pi rh = A - 2 \\pi r^2 $$\n",
    "\n",
    "$$ h = \\frac{A - 2 \\pi r^2}{2 \\pi r} $$ "
   ]
  },
  {
   "cell_type": "code",
   "execution_count": 20,
   "metadata": {},
   "outputs": [
    {
     "name": "stdout",
     "output_type": "stream",
     "text": [
      "7.000000000000001\n"
     ]
    }
   ],
   "source": [
    "def heightCylinder(surface_area, r):\n",
    "    height = (surface_area - 2*3.14*r**2)/(2*3.14*r)\n",
    "    return height\n",
    "print(heightCylinder(615.44, 7))"
   ]
  },
  {
   "cell_type": "code",
   "execution_count": 27,
   "metadata": {},
   "outputs": [
    {
     "data": {
      "text/plain": [
       "2637.6000000000004"
      ]
     },
     "execution_count": 27,
     "metadata": {},
     "output_type": "execute_result"
    }
   ],
   "source": [
    "coneSurfaceArea(15,12) + cylinderSurfaceArea(15,7) - 3.14*pow(15,2)"
   ]
  },
  {
   "cell_type": "code",
   "execution_count": 30,
   "metadata": {},
   "outputs": [
    {
     "name": "stdout",
     "output_type": "stream",
     "text": [
      "213.52\n",
      "427.04\n",
      "272\n",
      "544\n"
     ]
    }
   ],
   "source": [
    "print(coneSurfaceArea(4,13))\n",
    "print(cylinderSurfaceArea(4,13))\n",
    "print(squarePyramidSurfaceArea(8,13))\n",
    "print(SurfaceAreaRectangularPrism(8,8,13))\n"
   ]
  },
  {
   "cell_type": "code",
   "execution_count": null,
   "metadata": {},
   "outputs": [],
   "source": []
  }
 ],
 "metadata": {
  "kernelspec": {
   "display_name": "Python 3",
   "language": "python",
   "name": "python3"
  },
  "language_info": {
   "codemirror_mode": {
    "name": "ipython",
    "version": 3
   },
   "file_extension": ".py",
   "mimetype": "text/x-python",
   "name": "python",
   "nbconvert_exporter": "python",
   "pygments_lexer": "ipython3",
   "version": "3.6.4"
  }
 },
 "nbformat": 4,
 "nbformat_minor": 2
}
