{
 "cells": [
  {
   "cell_type": "markdown",
   "metadata": {},
   "source": [
    "## Question 15 Two-Step-Equations"
   ]
  },
  {
   "cell_type": "markdown",
   "metadata": {},
   "source": [
    "##### Question:\n",
    "\n",
    "##### Determine whether or not two equations below have the same solution. In two or more complete sentences, explain your rationale. \n",
    "\n",
    "\n"
   ]
  },
  {
   "cell_type": "markdown",
   "metadata": {},
   "source": [
    "Equations:\n",
    "\n",
    "$$ \\frac{2}{3} x + \\frac{3}{4} = 8 $$ \n",
    "\n",
    "$$ 8x = 87 $$ "
   ]
  },
  {
   "cell_type": "markdown",
   "metadata": {},
   "source": [
    "To solve the first equation, we first need to subtract 0.75 from both sides.\n",
    "\n",
    "$$ \\frac{2}{3}x + \\frac{3}{4} - \\frac{3}{4} = 8 - \\frac{3}{4} \\rightarrow (\\frac{8}{1} * \\frac{4}{4}) - \\frac{3}{4} \\rightarrow \\frac{32}{4} - \\frac{3}{4} \\rightarrow \\frac{29}{4} $$  "
   ]
  },
  {
   "cell_type": "markdown",
   "metadata": {},
   "source": [
    "The next step is to mulitply the multiplicative inverse of two thirds to both sides of the equation.\n",
    "\n",
    "$$ \\frac{2}{3}x = \\frac{29}{4} \\rightarrow (\\frac{2}{3} * \\frac{3}{2}) x = (\\frac{29}{4} * \\frac{3}{2}) \\rightarrow \\frac{87}{8} $$ "
   ]
  },
  {
   "cell_type": "markdown",
   "metadata": {},
   "source": [
    "$$ x = \\frac{87}{8} $$ "
   ]
  },
  {
   "cell_type": "markdown",
   "metadata": {},
   "source": [
    "To solve the second equation, we need to multiply the multiplicative inverse of 8 to both sides of the equation. \n",
    "\n",
    "$$ (\\frac{1}{8} * \\frac{8}{1}) x = \\frac{87}{1} * \\frac{1}{8} \\rightarrow x = \\frac{87}{8} $$ "
   ]
  },
  {
   "cell_type": "markdown",
   "metadata": {},
   "source": [
    "Since x in both equations is equivalent to 87 divided by 8, the two equations have the same solution. "
   ]
  }
 ],
 "metadata": {
  "kernelspec": {
   "display_name": "Python 3",
   "language": "python",
   "name": "python3"
  },
  "language_info": {
   "codemirror_mode": {
    "name": "ipython",
    "version": 3
   },
   "file_extension": ".py",
   "mimetype": "text/x-python",
   "name": "python",
   "nbconvert_exporter": "python",
   "pygments_lexer": "ipython3",
   "version": "3.6.4"
  }
 },
 "nbformat": 4,
 "nbformat_minor": 2
}
