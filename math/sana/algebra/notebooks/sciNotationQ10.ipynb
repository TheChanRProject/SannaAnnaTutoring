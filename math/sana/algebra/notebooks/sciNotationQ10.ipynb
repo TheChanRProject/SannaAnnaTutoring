{
 "cells": [
  {
   "cell_type": "code",
   "execution_count": 1,
   "metadata": {},
   "outputs": [],
   "source": [
    "import math"
   ]
  },
  {
   "cell_type": "markdown",
   "metadata": {},
   "source": [
    "If the International Space Station is at an altitude of 385 km, that is our starting point, in other words it is a y-intercept because we would be 385 km at h = 0, where h is our input variable. \n",
    "\n",
    "The question is asking how many hours it will take for the International Space Station to reach a star that is 4.8 lightyears away. To do this, we need to first convert 4.8 lightyears to kilometers so we are in a similar unit as the ISS's starting altitude. We also need to know the rate of travel which is given to us as 27,707 km per hour. Using this information, we can create a linear equation as follows:\n",
    "\n",
    "new Altitude = Rate of Travel per Hour * Number of Hours + Starting Altitude \n",
    "\n",
    "We'll represent new Altitude as y, rate of travel per hour as m, number of hours as h, and starting altitude as b.\n",
    "\n",
    "$$ y = mx + b $$ "
   ]
  },
  {
   "cell_type": "markdown",
   "metadata": {},
   "source": [
    "m = 27,707 km per hour, b = 385 km, the new altitude we are trying to approach is 4.8 lightyears which we can say is our y "
   ]
  },
  {
   "cell_type": "markdown",
   "metadata": {},
   "source": [
    "The first step is to change the rate of travel into scientific notation:\n",
    "\n",
    "$$ 27,707 = 2.7707 \\times 10^4 $$ \n",
    "\n",
    "The next step is to change 385 km to scientific notation:\n",
    "\n",
    "$$ 385 = 3.85 \\times 10^2 $$ \n",
    "\n",
    "Our y value is given to us in light years, but we need to convert it into kilometers. \n",
    "\n",
    "To do this we need to know the conversion rate between the two which is given to us in the problem:\n",
    "\n",
    "$$ 1 light year = 9.5 \\times 10^{12} km $$ \n",
    "\n",
    "If we are trying to get to a star that is 4.8 light years away from our current position, we need to convert 4.8 light years into km. \n",
    "\n",
    "4.8 light years = \n",
    "\n",
    "$$ 4.8 * 9.5 \\times 10^{12} $$ "
   ]
  },
  {
   "cell_type": "code",
   "execution_count": 21,
   "metadata": {},
   "outputs": [
    {
     "data": {
      "text/plain": [
       "45.6"
      ]
     },
     "execution_count": 21,
     "metadata": {},
     "output_type": "execute_result"
    }
   ],
   "source": [
    "4.8 * 9.5 "
   ]
  },
  {
   "cell_type": "markdown",
   "metadata": {},
   "source": [
    "We need to reshape the product into scientific notation by making it:\n",
    "\n",
    "$$ 45.6 = 4.56 \\times 10^{1} $$\n",
    "\n",
    "We can then put this exponent of 1 to be added to the 12.\n",
    "\n",
    "$$ 4.56 \\times 10^{13} $$ \n",
    "\n",
    "Now that we have 4.8 light years in kilometers, we can subtract the starting altitude and then divide by the rate of travel to get the number of hours needed to reach the star.\n",
    "\n",
    "$$ "
   ]
  }
 ],
 "metadata": {
  "kernelspec": {
   "display_name": "Python 3",
   "language": "python",
   "name": "python3"
  },
  "language_info": {
   "codemirror_mode": {
    "name": "ipython",
    "version": 3
   },
   "file_extension": ".py",
   "mimetype": "text/x-python",
   "name": "python",
   "nbconvert_exporter": "python",
   "pygments_lexer": "ipython3",
   "version": "3.6.4"
  }
 },
 "nbformat": 4,
 "nbformat_minor": 2
}
