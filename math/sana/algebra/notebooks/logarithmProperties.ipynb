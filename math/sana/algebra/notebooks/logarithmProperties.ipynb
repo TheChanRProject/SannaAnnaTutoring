{
 "cells": [
  {
   "cell_type": "code",
   "execution_count": 1,
   "metadata": {},
   "outputs": [],
   "source": [
    "import math"
   ]
  },
  {
   "cell_type": "code",
   "execution_count": 3,
   "metadata": {},
   "outputs": [
    {
     "data": {
      "text/plain": [
       "0.0"
      ]
     },
     "execution_count": 3,
     "metadata": {},
     "output_type": "execute_result"
    }
   ],
   "source": [
    "math.log(1)"
   ]
  },
  {
   "cell_type": "code",
   "execution_count": 4,
   "metadata": {},
   "outputs": [
    {
     "data": {
      "text/plain": [
       "-1.0"
      ]
     },
     "execution_count": 4,
     "metadata": {},
     "output_type": "execute_result"
    }
   ],
   "source": [
    "math.log10(1/10)"
   ]
  },
  {
   "cell_type": "code",
   "execution_count": 5,
   "metadata": {},
   "outputs": [
    {
     "data": {
      "text/plain": [
       "3.0"
      ]
     },
     "execution_count": 5,
     "metadata": {},
     "output_type": "execute_result"
    }
   ],
   "source": [
    "math.log10(1000)"
   ]
  },
  {
   "cell_type": "code",
   "execution_count": 6,
   "metadata": {},
   "outputs": [
    {
     "data": {
      "text/plain": [
       "1.0"
      ]
     },
     "execution_count": 6,
     "metadata": {},
     "output_type": "execute_result"
    }
   ],
   "source": [
    "math.log10(10)"
   ]
  },
  {
   "cell_type": "code",
   "execution_count": 7,
   "metadata": {},
   "outputs": [
    {
     "data": {
      "text/plain": [
       "2.0"
      ]
     },
     "execution_count": 7,
     "metadata": {},
     "output_type": "execute_result"
    }
   ],
   "source": [
    "math.log10(pow(10,2))"
   ]
  },
  {
   "cell_type": "markdown",
   "metadata": {},
   "source": [
    "When we have a log form such as: \n",
    "\n",
    "$$ log_{10} \\frac{M}{N} $$ \n",
    "\n",
    "We can change it so it looks like: \n",
    "\n",
    "$$ log_{10} M - log_{10} N $$ "
   ]
  },
  {
   "cell_type": "markdown",
   "metadata": {},
   "source": [
    "When we have a log form such as: \n",
    "\n",
    "$$ log_{10} MN $$ \n",
    "\n",
    "We can change it so it looks like:\n",
    "\n",
    "$$ log_{10}M + log_{10}N $$  "
   ]
  },
  {
   "cell_type": "markdown",
   "metadata": {},
   "source": [
    "If we have \n",
    "\n",
    "$$ log_{10}M^k $$ \n",
    "\n",
    "We can change it so it looks like: \n",
    "\n",
    "$$ k log_{10} M $$ "
   ]
  },
  {
   "cell_type": "markdown",
   "metadata": {},
   "source": [
    "To express 472.3 in scientific notation, we simple do this:\n",
    "\n",
    "$$ 4.723 x 10^2 $$ "
   ]
  },
  {
   "cell_type": "markdown",
   "metadata": {},
   "source": [
    "To express 0.041 in scientific notation, we can do:\n",
    "\n",
    "$$ 4.1 \\times 10^{-2} $$ "
   ]
  },
  {
   "cell_type": "markdown",
   "metadata": {},
   "source": [
    "We need to find the product of:\n",
    "\n",
    "$$ 1.2 \\times 10^{-2} * 3.65 \\times 10^{8} $$ \n",
    "\n",
    "The first step is to multiply the decimals together: \n",
    "\n",
    "$$ 1.20 * 3.65 = 4.38 $$ \n",
    "\n",
    "The next step is to add the exponents of the 10.\n",
    "\n",
    "$$ 10^{-2 + 8} = 10^{6} $$ \n",
    "\n",
    "Now we just put it together in scientific notation,\n",
    "\n",
    "$$ 4.38 \\times 10^6 $$ "
   ]
  },
  {
   "cell_type": "code",
   "execution_count": 9,
   "metadata": {},
   "outputs": [
    {
     "data": {
      "text/plain": [
       "4.38"
      ]
     },
     "execution_count": 9,
     "metadata": {},
     "output_type": "execute_result"
    }
   ],
   "source": [
    "1.2 * 3.65 "
   ]
  },
  {
   "cell_type": "code",
   "execution_count": 16,
   "metadata": {},
   "outputs": [
    {
     "data": {
      "text/plain": [
       "'4.16 * 10^-2'"
      ]
     },
     "execution_count": 16,
     "metadata": {},
     "output_type": "execute_result"
    }
   ],
   "source": [
    "def sciNoteProduct(b1,ten1, b2, ten2):\n",
    "    newb = (b1 * b2) / 10\n",
    "    newten = ten1 + ten2\n",
    "    newNote = str(newb) + \" \" + \"*\" + \" \" + str(10) + \"^\" + str(newten+1)\n",
    "    return newNote \n",
    "\n",
    "sciNoteProduct(5.2,-6,8,3)"
   ]
  },
  {
   "cell_type": "markdown",
   "metadata": {},
   "source": [
    "Find the quotient:\n",
    "\n",
    "$$ 2300 \\times (0.4 \\times 10^{-8}) $$ \n",
    "\n",
    "Step 1: Change 2300 to scientific notation:\n",
    "\n",
    "$$ 2300 = 2.3 \\times 10^3 $$ \n",
    "\n",
    "Step 2: Divide the bases. \n",
    "\n",
    "$$ \\frac{2.3}{0.4} = 5.75 $$ \n",
    "\n",
    "Step 4: Subtract the exponents of the two bases\n",
    "\n",
    "$$ 10^{3 - (-8)} $$ \n",
    "$$ 10^{11} $$ \n",
    "\n",
    "Step 5: Put the base and 10 exponent together:\n",
    "\n",
    "$$ 5.75 \\times 10^{11} $$ "
   ]
  },
  {
   "cell_type": "code",
   "execution_count": 15,
   "metadata": {},
   "outputs": [
    {
     "data": {
      "text/plain": [
       "5.749999999999999"
      ]
     },
     "execution_count": 15,
     "metadata": {},
     "output_type": "execute_result"
    }
   ],
   "source": [
    "2.3 / 0.4"
   ]
  },
  {
   "cell_type": "code",
   "execution_count": 18,
   "metadata": {},
   "outputs": [
    {
     "data": {
      "text/plain": [
       "'6.5 * 10^8'"
      ]
     },
     "execution_count": 18,
     "metadata": {},
     "output_type": "execute_result"
    }
   ],
   "source": [
    "def sciNoteQuotient(b1,ten1, b2, ten2):\n",
    "    newb = (b1 / b2) * 10\n",
    "    newten = ten1 - ten2\n",
    "    newNote = str(newb) + \" \" + \"*\" + \" \" + str(10) + \"^\" + str(newten-1)\n",
    "    return newNote \n",
    "\n",
    "sciNoteQuotient(5.2,6,8,-3)"
   ]
  },
  {
   "cell_type": "markdown",
   "metadata": {},
   "source": [
    "1 minute has 60 seconds and 1 hour has 60 minutes. Using this information, we can do 60 x 60 to get the number of seconds in one hour. We can then transform this product into scientific notation.\n",
    "\n",
    "$$ 60 * 60 = 3600 $$ \n",
    "$$ 3600 = 3.6 \\times 10^3 seconds $$ \n",
    "\n",
    "There are 24 hours in one day so let's first transform 24 into scientific notation and then we can find the product of the two. \n",
    "\n",
    "$$ 24 = 2.4 \\times 10^1 $$ \n",
    "\n",
    "$$ 3.6 * 2.4 = 8.64 $$ \n",
    "\n",
    "Then we need to add the exponents of the 10s.\n",
    "\n",
    "$$ 10"
   ]
  },
  {
   "cell_type": "code",
   "execution_count": 19,
   "metadata": {},
   "outputs": [
    {
     "data": {
      "text/plain": [
       "8.64"
      ]
     },
     "execution_count": 19,
     "metadata": {},
     "output_type": "execute_result"
    }
   ],
   "source": [
    "3.6 * 2.4"
   ]
  },
  {
   "cell_type": "code",
   "execution_count": null,
   "metadata": {},
   "outputs": [],
   "source": []
  }
 ],
 "metadata": {
  "kernelspec": {
   "display_name": "Python 3",
   "language": "python",
   "name": "python3"
  },
  "language_info": {
   "codemirror_mode": {
    "name": "ipython",
    "version": 3
   },
   "file_extension": ".py",
   "mimetype": "text/x-python",
   "name": "python",
   "nbconvert_exporter": "python",
   "pygments_lexer": "ipython3",
   "version": "3.6.4"
  }
 },
 "nbformat": 4,
 "nbformat_minor": 2
}
