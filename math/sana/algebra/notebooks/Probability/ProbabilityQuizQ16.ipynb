{
 "cells": [
  {
   "cell_type": "markdown",
   "metadata": {},
   "source": [
    "### Compound Probability Not Independent"
   ]
  },
  {
   "cell_type": "markdown",
   "metadata": {},
   "source": [
    "The compound probability of two events, E and F, is $ \\frac{1}{8} $ The probability of E is $ \\frac{1}{2} $ and the probability of F is $ \\frac{1}{3} $ . In two or more complete sentences, explain why E and F are not independent. "
   ]
  },
  {
   "cell_type": "markdown",
   "metadata": {},
   "source": [
    "If E and F were independent, the compound probability of the two events would be defined as: \n",
    "\n",
    "$$ p_E * p_F = \\frac{1}{2} * \\frac{1}{3} = \\frac{1}{6} $$\n",
    "\n",
    "Since the compound probability of E and F is $ \\frac{1}{8} $ it is enough evidence to say that E and F are not independent. \n",
    "\n"
   ]
  },
  {
   "cell_type": "code",
   "execution_count": null,
   "metadata": {},
   "outputs": [],
   "source": []
  }
 ],
 "metadata": {
  "kernelspec": {
   "display_name": "Python 3",
   "language": "python",
   "name": "python3"
  },
  "language_info": {
   "codemirror_mode": {
    "name": "ipython",
    "version": 3
   },
   "file_extension": ".py",
   "mimetype": "text/x-python",
   "name": "python",
   "nbconvert_exporter": "python",
   "pygments_lexer": "ipython3",
   "version": "3.6.4"
  }
 },
 "nbformat": 4,
 "nbformat_minor": 2
}
