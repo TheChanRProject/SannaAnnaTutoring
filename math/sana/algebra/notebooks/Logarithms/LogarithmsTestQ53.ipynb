{
 "cells": [
  {
   "cell_type": "markdown",
   "metadata": {},
   "source": [
    "$$ g(x) = log_{10}(x) \\rightarrow g(x) = log_{10}(-2x-4)-1 $$ "
   ]
  },
  {
   "cell_type": "markdown",
   "metadata": {},
   "source": [
    "The graph has a reflection over the y-axis, a horizontal stretch of 2, a horizontal shift of 4 units to the right, and a vertical shift of one unit downwards."
   ]
  },
  {
   "cell_type": "code",
   "execution_count": 1,
   "metadata": {},
   "outputs": [
    {
     "name": "stderr",
     "output_type": "stream",
     "text": [
      "/Users/rchatter/anaconda3/lib/python3.6/site-packages/ipykernel_launcher.py:6: RuntimeWarning: invalid value encountered in log10\n",
      "  \n"
     ]
    },
    {
     "data": {
      "image/png": "[encoded data removed]",
      "text/plain": [
       "<matplotlib.figure.Figure at 0x10653f5c0>"
      ]
     },
     "metadata": {},
     "output_type": "display_data"
    }
   ],
   "source": [
    "%matplotlib inline\n",
    "import numpy as np\n",
    "import matplotlib.pyplot as plt\n",
    "\n",
    "def logTrans(a,x,h,k):\n",
    "    return np.log10(a*x - h) + k\n",
    "\n",
    "xVals = np.arange(-10, 10, 0.1)\n",
    "y1Vals = logTrans(1,xVals,0,0)\n",
    "y2Vals = logTrans(-2,xVals,4,-1)\n",
    "\n",
    "plt.plot(xVals,y1Vals,'r')\n",
    "plt.plot(xVals,y2Vals, 'g')\n",
    "plt.show()"
   ]
  },
  {
   "cell_type": "code",
   "execution_count": null,
   "metadata": {},
   "outputs": [],
   "source": []
  }
 ],
 "metadata": {
  "kernelspec": {
   "display_name": "Python 3",
   "language": "python",
   "name": "python3"
  },
  "language_info": {
   "codemirror_mode": {
    "name": "ipython",
    "version": 3
   },
   "file_extension": ".py",
   "mimetype": "text/x-python",
   "name": "python",
   "nbconvert_exporter": "python",
   "pygments_lexer": "ipython3",
   "version": "3.6.4"
  }
 },
 "nbformat": 4,
 "nbformat_minor": 2
}
