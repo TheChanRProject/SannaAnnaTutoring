{
 "cells": [
  {
   "cell_type": "markdown",
   "metadata": {},
   "source": [
    "Imagine that you have an expression such as: \n",
    "\n",
    "$$ 3^x + 4 = 16 $$ \n",
    "\n"
   ]
  },
  {
   "cell_type": "markdown",
   "metadata": {},
   "source": [
    "In this situation, it is possible to convert the 4 and 16 to the common base of 2, but we can immediately see that 2 and 3 are completely different bases which is why we need to use multiple logarithms to evaluate the solution. \n",
    "\n",
    "$$ 3^x + 2^2 = 2^4 $$ "
   ]
  },
  {
   "cell_type": "markdown",
   "metadata": {},
   "source": [
    "First, we need to rewrite the expression as:\n",
    "\n",
    "$$ 3^x = 8 $$\n",
    "\n",
    "After we have done this, we can evaluate x as:\n",
    "\n",
    "$$ x = \\frac{log(8)}{log(3)} $$ "
   ]
  },
  {
   "cell_type": "markdown",
   "metadata": {},
   "source": [
    "$$ x \\approx 1.893 $$ \n",
    "\n",
    "If we did not take the common logarithm of both of these bases, then it would not be possible to solve the problem algebraically, but rather through trial and error in a numerical manner. "
   ]
  },
  {
   "cell_type": "code",
   "execution_count": null,
   "metadata": {},
   "outputs": [],
   "source": []
  }
 ],
 "metadata": {
  "kernelspec": {
   "display_name": "Python 3",
   "language": "python",
   "name": "python3"
  },
  "language_info": {
   "codemirror_mode": {
    "name": "ipython",
    "version": 3
   },
   "file_extension": ".py",
   "mimetype": "text/x-python",
   "name": "python",
   "nbconvert_exporter": "python",
   "pygments_lexer": "ipython3",
   "version": "3.6.4"
  }
 },
 "nbformat": 4,
 "nbformat_minor": 2
}
