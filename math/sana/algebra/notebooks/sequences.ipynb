{
 "cells": [
  {
   "cell_type": "code",
   "execution_count": 1,
   "metadata": {},
   "outputs": [
    {
     "name": "stdout",
     "output_type": "stream",
     "text": [
      "[2, 3, 6, 11, 18]\n"
     ]
    }
   ],
   "source": [
    "def sequence1(n):\n",
    "    return pow(n,2) + 2\n",
    "\n",
    "import numpy as np\n",
    "\n",
    "xVals = np.arange(0,5)\n",
    "\n",
    "sequence1Array = sequence1(xVals)\n",
    "print(list(sequence1Array))"
   ]
  },
  {
   "cell_type": "code",
   "execution_count": 2,
   "metadata": {},
   "outputs": [
    {
     "name": "stdout",
     "output_type": "stream",
     "text": [
      "-0.3333333333333333\n"
     ]
    }
   ],
   "source": [
    "def sequence2(n):\n",
    "    return -1*pow(1/3,n-1)\n",
    "\n",
    "print(sequence2(2))"
   ]
  },
  {
   "cell_type": "code",
   "execution_count": 3,
   "metadata": {},
   "outputs": [
    {
     "name": "stdout",
     "output_type": "stream",
     "text": [
      "[-3.         -1.         -0.33333333 -0.11111111 -0.03703704]\n"
     ]
    }
   ],
   "source": [
    "x1Vals = sequence2(xVals)\n",
    "print(x1Vals)"
   ]
  },
  {
   "cell_type": "markdown",
   "metadata": {},
   "source": [
    "Modeling the Sequence\n",
    "\n",
    "[1,2,3,4]\n",
    "\n",
    "$$ a_1 = 1 , r = 1 $$\n",
    "$$ a_n = n $$"
   ]
  },
  {
   "cell_type": "code",
   "execution_count": 6,
   "metadata": {},
   "outputs": [
    {
     "name": "stdout",
     "output_type": "stream",
     "text": [
      "[ 2  5  8 11 14]\n",
      "41\n"
     ]
    }
   ],
   "source": [
    "def sequence3(n):\n",
    "    return 5 + 3*(n-1)\n",
    "\n",
    "sequence3Array = sequence3(xVals)\n",
    "print(sequence3Array)\n",
    "\n",
    "thirteenthTerm = sequence3(13)\n",
    "print(thirteenthTerm)\n",
    "\n"
   ]
  },
  {
   "cell_type": "code",
   "execution_count": 7,
   "metadata": {},
   "outputs": [
    {
     "data": {
      "text/plain": [
       "343"
      ]
     },
     "execution_count": 7,
     "metadata": {},
     "output_type": "execute_result"
    }
   ],
   "source": [
    "pow(7,3)"
   ]
  },
  {
   "cell_type": "markdown",
   "metadata": {},
   "source": [
    "$$ \\sum_{n=1}^{6}{\\frac{n}{2n + 1}} $$ "
   ]
  },
  {
   "cell_type": "code",
   "execution_count": 8,
   "metadata": {},
   "outputs": [
    {
     "name": "stdout",
     "output_type": "stream",
     "text": [
      "[0.33333333 0.4        0.42857143 0.44444444 0.45454545 0.46153846]\n"
     ]
    }
   ],
   "source": [
    "xVals = np.arange(1,7)\n",
    "\n",
    "def series1(n):\n",
    "    return n / (2*n + 1)\n",
    "\n",
    "numbers = series1(xVals)\n",
    "\n",
    "print(numbers)"
   ]
  },
  {
   "cell_type": "code",
   "execution_count": 9,
   "metadata": {},
   "outputs": [
    {
     "name": "stdout",
     "output_type": "stream",
     "text": [
      "246\n"
     ]
    }
   ],
   "source": [
    "def series2(n):\n",
    "    return 3*n + 1\n",
    "newXVals = np.arange(1,13)\n",
    "numbers2 = series2(newXVals)\n",
    "print(sum(numbers2))"
   ]
  },
  {
   "cell_type": "code",
   "execution_count": 10,
   "metadata": {},
   "outputs": [
    {
     "data": {
      "text/plain": [
       "120"
      ]
     },
     "execution_count": 10,
     "metadata": {},
     "output_type": "execute_result"
    }
   ],
   "source": [
    "3 + 9 + 27 + 81"
   ]
  },
  {
   "cell_type": "markdown",
   "metadata": {},
   "source": [
    "$$ \\sum_{n=1}^{6}{-4*(\\frac{1}{2})^{n-1}} $$ "
   ]
  },
  {
   "cell_type": "code",
   "execution_count": 11,
   "metadata": {},
   "outputs": [
    {
     "name": "stdout",
     "output_type": "stream",
     "text": [
      "[-4.    -2.    -1.    -0.5   -0.25  -0.125]\n"
     ]
    }
   ],
   "source": [
    "def series3(n):\n",
    "    a1 = -4 \n",
    "    return a1*pow(0.5,n-1)\n",
    "\n",
    "numbers3 = series3(xVals)\n",
    "print(numbers3)"
   ]
  },
  {
   "cell_type": "code",
   "execution_count": 12,
   "metadata": {},
   "outputs": [
    {
     "data": {
      "text/plain": [
       "-7.875"
      ]
     },
     "execution_count": 12,
     "metadata": {},
     "output_type": "execute_result"
    }
   ],
   "source": [
    "sum(numbers3)"
   ]
  },
  {
   "cell_type": "code",
   "execution_count": 13,
   "metadata": {},
   "outputs": [
    {
     "data": {
      "text/plain": [
       "-7.875"
      ]
     },
     "execution_count": 13,
     "metadata": {},
     "output_type": "execute_result"
    }
   ],
   "source": [
    "-63 / 8"
   ]
  },
  {
   "cell_type": "markdown",
   "metadata": {},
   "source": [
    "The sum of first three terms in a finite geometric series is $ \\frac{-7}{10} $ Their product is $ \\frac{-1}{125} $ "
   ]
  },
  {
   "cell_type": "markdown",
   "metadata": {},
   "source": [
    "$$ \\sum_{n=1}^{3}{a_1 * (r)^{n-1}} = \\frac{-7}{10} $$ "
   ]
  },
  {
   "cell_type": "markdown",
   "metadata": {},
   "source": [
    "$$ a_1 + a_2 + a_3 = \\frac{-7}{10} $$ "
   ]
  },
  {
   "cell_type": "markdown",
   "metadata": {},
   "source": [
    "$$ r = \\frac{a_2}{a_1} when n = 2 and \\frac{a_3}{a_2} when n = 3 $$ "
   ]
  },
  {
   "cell_type": "markdown",
   "metadata": {},
   "source": [
    "$$ a_1 * a_2 * a_3  = \\frac{-1}{125} $$ "
   ]
  },
  {
   "cell_type": "markdown",
   "metadata": {},
   "source": [
    "$$ a_3 = a_1 * \\frac{\\frac{-1}{125*a_1*a_2}}{a_2} $$ "
   ]
  },
  {
   "cell_type": "code",
   "execution_count": null,
   "metadata": {},
   "outputs": [],
   "source": []
  }
 ],
 "metadata": {
  "kernelspec": {
   "display_name": "Python 3",
   "language": "python",
   "name": "python3"
  },
  "language_info": {
   "codemirror_mode": {
    "name": "ipython",
    "version": 3
   },
   "file_extension": ".py",
   "mimetype": "text/x-python",
   "name": "python",
   "nbconvert_exporter": "python",
   "pygments_lexer": "ipython3",
   "version": "3.6.4"
  }
 },
 "nbformat": 4,
 "nbformat_minor": 2
}
