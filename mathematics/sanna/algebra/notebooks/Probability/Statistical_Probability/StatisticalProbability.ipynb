{
 "cells": [
  {
   "cell_type": "markdown",
   "metadata": {},
   "source": [
    "Expected Value \n",
    "\n",
    "$$ p_m = \\frac{25}{50} $$\n",
    "$$ p_g = \\frac{10}{50} $$\n",
    "$$ p_n = \\frac{15}{50} $$\n",
    "\n",
    "$$ v_m = 0.02 $$\n",
    "$$ v_g = 0.10 $$\n",
    "$$ v_n = 0.05 $$ \n",
    "\n",
    "\n"
   ]
  },
  {
   "cell_type": "code",
   "execution_count": 5,
   "metadata": {},
   "outputs": [
    {
     "name": "stdout",
     "output_type": "stream",
     "text": [
      "0.051\n"
     ]
    }
   ],
   "source": [
    "l1 = [25,10,15]\n",
    "\n",
    "p = [i/50 for i in l1]\n",
    "\n",
    "v = [i / 100 for i in [2,10,5]]\n",
    "\n",
    "for i in p:\n",
    "    e = [i*j for j in v]\n",
    "print(sum(e))"
   ]
  },
  {
   "cell_type": "code",
   "execution_count": null,
   "metadata": {},
   "outputs": [],
   "source": []
  }
 ],
 "metadata": {
  "kernelspec": {
   "display_name": "Python 3",
   "language": "python",
   "name": "python3"
  },
  "language_info": {
   "codemirror_mode": {
    "name": "ipython",
    "version": 3
   },
   "file_extension": ".py",
   "mimetype": "text/x-python",
   "name": "python",
   "nbconvert_exporter": "python",
   "pygments_lexer": "ipython3",
   "version": "3.6.4"
  }
 },
 "nbformat": 4,
 "nbformat_minor": 2
}
