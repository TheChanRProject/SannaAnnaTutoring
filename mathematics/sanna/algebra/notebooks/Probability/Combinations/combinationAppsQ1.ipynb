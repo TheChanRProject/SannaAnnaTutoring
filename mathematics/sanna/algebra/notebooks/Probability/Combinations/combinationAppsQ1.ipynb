{
 "cells": [
  {
   "cell_type": "code",
   "execution_count": 1,
   "metadata": {},
   "outputs": [],
   "source": [
    "import numpy as np\n",
    "from numpy import math as m\n"
   ]
  },
  {
   "cell_type": "markdown",
   "metadata": {},
   "source": [
    "#### In how many ways can five students in a class of 30 be chosen for a committee?"
   ]
  },
  {
   "cell_type": "markdown",
   "metadata": {},
   "source": [
    "The above question is a combination because the order does not matter of how the students are chosen for the committee. Since we're choosing 5 at a time out of 30 possible students, we need to set up the following combination :\n",
    "\n",
    "$$ C(30,5) = \\frac{30!}{5! * (30-5)!} $$ "
   ]
  },
  {
   "cell_type": "code",
   "execution_count": 2,
   "metadata": {},
   "outputs": [],
   "source": [
    "def combination(n,r):\n",
    "    return m.factorial(n) / (m.factorial(r) * m.factorial(n-r))\n",
    "\n"
   ]
  },
  {
   "cell_type": "code",
   "execution_count": 3,
   "metadata": {},
   "outputs": [
    {
     "name": "stdout",
     "output_type": "stream",
     "text": [
      "142506.0\n"
     ]
    }
   ],
   "source": [
    "print(combination(30,5))"
   ]
  },
  {
   "cell_type": "markdown",
   "metadata": {},
   "source": [
    "Our final answer is:\n",
    "\n",
    "$$ C(30,5) = 142,506 $$ "
   ]
  },
  {
   "cell_type": "code",
   "execution_count": null,
   "metadata": {},
   "outputs": [],
   "source": []
  }
 ],
 "metadata": {
  "kernelspec": {
   "display_name": "Python 3",
   "language": "python",
   "name": "python3"
  },
  "language_info": {
   "codemirror_mode": {
    "name": "ipython",
    "version": 3
   },
   "file_extension": ".py",
   "mimetype": "text/x-python",
   "name": "python",
   "nbconvert_exporter": "python",
   "pygments_lexer": "ipython3",
   "version": "3.6.4"
  }
 },
 "nbformat": 4,
 "nbformat_minor": 2
}
