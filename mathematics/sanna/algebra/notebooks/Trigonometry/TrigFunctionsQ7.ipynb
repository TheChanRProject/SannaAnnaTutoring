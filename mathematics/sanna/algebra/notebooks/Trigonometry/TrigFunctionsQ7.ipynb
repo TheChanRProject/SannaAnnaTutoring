{
 "cells": [
  {
   "cell_type": "markdown",
   "metadata": {},
   "source": [
    "### $ \\theta $ is in Quadrant III and $ cos^2(\\theta) = \\frac{1}{4} $ \n",
    "\n",
    "#### A. Evaluate $ cot(\\theta) $\n",
    "\n",
    "#### B. In two or more sentences, explain how to find the value of $ cot(\\theta) $ "
   ]
  },
  {
   "cell_type": "markdown",
   "metadata": {},
   "source": [
    "A and B. \n",
    "\n",
    "Let's first simplify the given expression to find out the cosine of theta.\n",
    "\n",
    "$$ cos^2(\\theta) = \\frac{1}{4} \\rightarrow cos(\\theta) = \\sqrt{\\frac{1}{4}} $$ \n",
    "\n",
    "\n",
    "$$ \\sqrt{\\frac{1}{4}} = \\frac{1}{2} \\rightarrow cos(\\theta) = \\frac{1}{2} $$ \n",
    "\n",
    "Find the value of theta by taking the inverse cosine of the fraction.\n",
    "\n",
    "$$ \\theta = cos^{-1}(\\frac{1}{2}) = \\frac{\\pi}{3} $$ \n",
    "\n",
    "Now we take the sine of theta and divide it by the cosine of theta to get theta's cotangent.\n",
    "\n",
    "$$ cot(\\frac{\\pi}{3}) = \\frac{sin( \\frac{\\pi}{3} )}{cos(\\frac{\\pi}{3})} $$ \n",
    "\n",
    "Substitute values \n",
    "\n",
    "$$ cot(\\frac{\\pi}{3}) = \\frac{\\frac{\\sqrt{3}}{2}}{\\frac{1}{2}} = \\sqrt{3} $$ "
   ]
  },
  {
   "cell_type": "code",
   "execution_count": null,
   "metadata": {},
   "outputs": [],
   "source": []
  }
 ],
 "metadata": {
  "kernelspec": {
   "display_name": "Python 3",
   "language": "python",
   "name": "python3"
  },
  "language_info": {
   "codemirror_mode": {
    "name": "ipython",
    "version": 3
   },
   "file_extension": ".py",
   "mimetype": "text/x-python",
   "name": "python",
   "nbconvert_exporter": "python",
   "pygments_lexer": "ipython3",
   "version": "3.6.4"
  }
 },
 "nbformat": 4,
 "nbformat_minor": 2
}
