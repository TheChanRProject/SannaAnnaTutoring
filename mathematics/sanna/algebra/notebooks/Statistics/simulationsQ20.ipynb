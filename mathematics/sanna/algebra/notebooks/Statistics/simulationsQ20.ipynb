{
 "cells": [
  {
   "cell_type": "code",
   "execution_count": 4,
   "metadata": {},
   "outputs": [
    {
     "name": "stdout",
     "output_type": "stream",
     "text": [
      "(20.5, 13.275918047351754)\n"
     ]
    }
   ],
   "source": [
    "samples = [36,14,21,39,11,2]\n",
    "\n",
    "import math as m\n",
    "\n",
    "def mean_and_standardDeviation(x):\n",
    "    mean = sum(x) / len(x)\n",
    "    sqDifList = [(i-mean)**2 for i in x]\n",
    "    std = m.sqrt(sum(sqDifList)/len(x))\n",
    "    return (mean, std)\n",
    "\n",
    "print(mean_and_standardDeviation(samples))\n",
    "\n"
   ]
  },
  {
   "cell_type": "code",
   "execution_count": 2,
   "metadata": {},
   "outputs": [],
   "source": [
    "def conf(m,std, t:str):\n",
    "    if t == \"99\":\n",
    "        interval = (m - 2.57*std, m + 2.57*std)\n",
    "    elif t == \"95\":\n",
    "        interval = (m - 1.96*std, m + 1.96*std)\n",
    "    elif t == \"90\":\n",
    "        interval = (m - 1.64*std, m + 1.64*std)\n",
    "    else:\n",
    "        interval = None\n",
    "    return interval "
   ]
  },
  {
   "cell_type": "code",
   "execution_count": 5,
   "metadata": {},
   "outputs": [
    {
     "name": "stdout",
     "output_type": "stream",
     "text": [
      "(-1.272639999999999, 42.272639999999996)\n",
      "(-5.520959999999999, 46.52096)\n",
      "(-13.619319999999995, 54.619319999999995)\n"
     ]
    }
   ],
   "source": [
    "print(conf(20.5,13.276, '90'))\n",
    "print(conf(20.5,13.276, '95'))\n",
    "print(conf(20.5,13.276, '99'))"
   ]
  },
  {
   "cell_type": "markdown",
   "metadata": {},
   "source": [
    "Based on the above intervals, the number of errors made by all scans is 20.5 errors 90% of the time. "
   ]
  },
  {
   "cell_type": "code",
   "execution_count": null,
   "metadata": {},
   "outputs": [],
   "source": []
  }
 ],
 "metadata": {
  "kernelspec": {
   "display_name": "Python 3",
   "language": "python",
   "name": "python3"
  },
  "language_info": {
   "codemirror_mode": {
    "name": "ipython",
    "version": 3
   },
   "file_extension": ".py",
   "mimetype": "text/x-python",
   "name": "python",
   "nbconvert_exporter": "python",
   "pygments_lexer": "ipython3",
   "version": "3.6.4"
  }
 },
 "nbformat": 4,
 "nbformat_minor": 2
}
