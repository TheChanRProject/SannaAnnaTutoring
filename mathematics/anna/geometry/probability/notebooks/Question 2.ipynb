{
 "cells": [
  {
   "cell_type": "markdown",
   "metadata": {
    "colab_type": "text",
    "id": "2_12OsNtOQhJ"
   },
   "source": [
    "# Part 1 \n",
    "$$ p(early) = 0.02$$\n",
    "$$ p(early)^2 = (0.02)^2 \\rightarrow 0.04 $$ \n",
    "# Part 2 \n",
    "$$ p(early \\space\\cap\\space late) = 0.19*0.02 \\rightarrow 0.0038$$\n",
    "$$ p(on \\space time) 1 - 0.0038 = 0.9962$$\n",
    "# Part 3\n",
    "For part 1, we already know the probability that the bus is going to be early for a day. Since the fact that the bus being early the next day does not impact the bus being early today, we can calculate the probability of the bus being early for the next two days by just squaring the probability of the bus being early. \n",
    "\n",
    "For part 2, we know that the probability of the bus being early and the bus being late are independent from each other. Therefore, multiplying the two probabilities gives us the probability of the bus being early and delayed. One minus this probability, give us the probability that the bus is neither early and neither late. Another way to interpret this, is to say that it is the probability that the bus is on time. "
   ]
  }
 ],
 "metadata": {
  "colab": {
   "name": "Q2.ipynb",
   "provenance": []
  },
  "kernelspec": {
   "display_name": "Python 3",
   "language": "python",
   "name": "python3"
  },
  "language_info": {
   "codemirror_mode": {
    "name": "ipython",
    "version": 3
   },
   "file_extension": ".py",
   "mimetype": "text/x-python",
   "name": "python",
   "nbconvert_exporter": "python",
   "pygments_lexer": "ipython3",
   "version": "3.6.8"
  },
  "nbTranslate": {
   "displayLangs": [
    "*"
   ],
   "hotkey": "alt-t",
   "langInMainMenu": true,
   "sourceLang": "en",
   "targetLang": "fr",
   "useGoogleTranslate": true
  }
 },
 "nbformat": 4,
 "nbformat_minor": 1
}
