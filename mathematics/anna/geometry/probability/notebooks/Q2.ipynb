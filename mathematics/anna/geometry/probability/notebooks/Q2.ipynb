{
  "nbformat": 4,
  "nbformat_minor": 0,
  "metadata": {
    "colab": {
      "name": "Q2.ipynb",
      "provenance": []
    },
    "kernelspec": {
      "name": "python3",
      "display_name": "Python 3"
    }
  },
  "cells": [
    {
      "cell_type": "code",
      "metadata": {
        "id": "wu4ZjGSnON3k",
        "colab_type": "code",
        "colab": {
          "base_uri": "https://localhost:8080/",
          "height": 34
        },
        "outputId": "00d3642b-a5b1-4d29-804f-90b5d3711fb5"
      },
      "source": [
        "1 - 0.0038"
      ],
      "execution_count": 2,
      "outputs": [
        {
          "output_type": "execute_result",
          "data": {
            "text/plain": [
              "0.9962"
            ]
          },
          "metadata": {
            "tags": []
          },
          "execution_count": 2
        }
      ]
    },
    {
      "cell_type": "markdown",
      "metadata": {
        "id": "2_12OsNtOQhJ",
        "colab_type": "text"
      },
      "source": [
        "# Question 2 \n",
        "## Part 1\n",
        "$$ p(early) = 0.02$$\n",
        "$$ p(early)^2 = (0.02)^2 \\rightarrow 0.04 $$ \n",
        "## Part 2 \n",
        "$$ p(early \\space\\cap\\space late) = 0.19*0.02 \\rightarrow 0.0038$$\n",
        "$$ p(on \\space time) 1 - 0.0038 = 0.9962$$\n",
        "## Part 3\n",
        "For part 1, we already know the probability that the bus is going to be early for a day. Since the fact that the bus being early the next day does not impact the bus being early today, we can calculate the probability of the bus being early for the next two days by just squaring the probability of the bus being early. \n",
        "\n",
        "For part 2, we know that the probability of the bus being early and the bus being late are independent from each other. Therefore, multiplying the two probabilities gives us the probability of the bus being early and delayed. One minus this probability, give us the probability that the bus is neither early and neither late. Another way to interpret this, is to say that it is the probability that the bus is on time. "
      ]
    },
    {
      "cell_type": "code",
      "metadata": {
        "id": "EMEmQCZPSh93",
        "colab_type": "code",
        "colab": {}
      },
      "source": [
        ""
      ],
      "execution_count": 0,
      "outputs": []
    }
  ]
}