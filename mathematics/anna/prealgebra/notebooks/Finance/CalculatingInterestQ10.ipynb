{
 "cells": [
  {
   "cell_type": "markdown",
   "metadata": {},
   "source": [
    "### Initial Value of Loan"
   ]
  },
  {
   "cell_type": "markdown",
   "metadata": {},
   "source": [
    "- P = ?\n",
    "- A(4) = 8996.32\n",
    "- t = 4 years\n",
    "- r = 0.056\n",
    "- n = 1 \n",
    "\n",
    "Formula:\n",
    "\n",
    "$$ A(t) = P(1 - \\frac{r}{n})^{nt} $$\n",
    "\n",
    "$$ P = \\frac{A(t)}{(1 - \\frac{r}{n})^{nt}} $$ \n",
    "\n",
    "$$ P = \\frac{8996.32}{(1 - \\frac{0.056}{1})^{4}} $$ "
   ]
  },
  {
   "cell_type": "code",
   "execution_count": 1,
   "metadata": {},
   "outputs": [
    {
     "name": "stdout",
     "output_type": "stream",
     "text": [
      "11328.617610612577\n"
     ]
    }
   ],
   "source": [
    "def principle(A,n,r,t):\n",
    "    p = A / (1 - (r/n))**(n*t)\n",
    "    return p \n",
    "print(principle(8996.32,1,0.056,4))"
   ]
  },
  {
   "cell_type": "markdown",
   "metadata": {},
   "source": [
    "$$ P \\approx 11328.62 $$ "
   ]
  },
  {
   "cell_type": "code",
   "execution_count": null,
   "metadata": {},
   "outputs": [],
   "source": []
  }
 ],
 "metadata": {
  "kernelspec": {
   "display_name": "Python 3",
   "language": "python",
   "name": "python3"
  },
  "language_info": {
   "codemirror_mode": {
    "name": "ipython",
    "version": 3
   },
   "file_extension": ".py",
   "mimetype": "text/x-python",
   "name": "python",
   "nbconvert_exporter": "python",
   "pygments_lexer": "ipython3",
   "version": "3.6.4"
  }
 },
 "nbformat": 4,
 "nbformat_minor": 2
}
