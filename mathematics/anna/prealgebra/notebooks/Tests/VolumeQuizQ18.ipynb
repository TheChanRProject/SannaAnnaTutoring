{
 "cells": [
  {
   "cell_type": "markdown",
   "metadata": {},
   "source": [
    "Volume of Sphere\n",
    "\n",
    "$$ V = \\frac{4}{3} \\pi r^3 $$ \n",
    "\n",
    "$$ V = \\frac{4}{3} \\pi (7.6)^3 $$ \n",
    "\n"
   ]
  },
  {
   "cell_type": "code",
   "execution_count": 1,
   "metadata": {},
   "outputs": [
    {
     "name": "stdout",
     "output_type": "stream",
     "text": [
      "1837.8461866666664\n"
     ]
    }
   ],
   "source": [
    "def volume(r):\n",
    "    return (4/3) * 3.14 * pow(7.6,3)\n",
    "print(volume(7.6))"
   ]
  },
  {
   "cell_type": "markdown",
   "metadata": {},
   "source": [
    "$$ V = 1837.85 cm^3 $$ "
   ]
  },
  {
   "cell_type": "code",
   "execution_count": null,
   "metadata": {},
   "outputs": [],
   "source": []
  }
 ],
 "metadata": {
  "kernelspec": {
   "display_name": "Python 3",
   "language": "python",
   "name": "python3"
  },
  "language_info": {
   "codemirror_mode": {
    "name": "ipython",
    "version": 3
   },
   "file_extension": ".py",
   "mimetype": "text/x-python",
   "name": "python",
   "nbconvert_exporter": "python",
   "pygments_lexer": "ipython3",
   "version": "3.6.4"
  }
 },
 "nbformat": 4,
 "nbformat_minor": 2
}
