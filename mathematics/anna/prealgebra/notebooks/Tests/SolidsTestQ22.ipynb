{
 "cells": [
  {
   "cell_type": "markdown",
   "metadata": {},
   "source": [
    "### Find the amount the air needed to be occupied by the beach ball"
   ]
  },
  {
   "cell_type": "markdown",
   "metadata": {},
   "source": [
    "Volume of the beach ball:\n",
    "\n",
    "$$ V = \\frac{4}{3} \\pi r^3 $$ \n",
    "\n",
    "$$ V = \\frac{4}{3} \\pi (6.5)^3 $$ "
   ]
  },
  {
   "cell_type": "code",
   "execution_count": 1,
   "metadata": {},
   "outputs": [
    {
     "name": "stdout",
     "output_type": "stream",
     "text": [
      "1149.7633333333333\n"
     ]
    }
   ],
   "source": [
    "def VolumeSphere(r):\n",
    "    return (4/3)*3.14*pow(r,3)\n",
    "print(VolumeSphere(6.5))"
   ]
  },
  {
   "cell_type": "markdown",
   "metadata": {},
   "source": [
    "$$ V \\approx 1149.76333 $$ "
   ]
  },
  {
   "cell_type": "code",
   "execution_count": null,
   "metadata": {},
   "outputs": [],
   "source": []
  }
 ],
 "metadata": {
  "kernelspec": {
   "display_name": "Python 3",
   "language": "python",
   "name": "python3"
  },
  "language_info": {
   "codemirror_mode": {
    "name": "ipython",
    "version": 3
   },
   "file_extension": ".py",
   "mimetype": "text/x-python",
   "name": "python",
   "nbconvert_exporter": "python",
   "pygments_lexer": "ipython3",
   "version": "3.6.4"
  }
 },
 "nbformat": 4,
 "nbformat_minor": 2
}
